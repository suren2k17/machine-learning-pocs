{
 "cells": [
  {
   "cell_type": "markdown",
   "metadata": {},
   "source": [
    "# KAGGLE CASE STUDY : GOOGLE CUSTOMER REVENUE PREDICTION\n",
    "competition : https://www.kaggle.com/c/ga-customer-revenue-prediction\n",
    "\n",
    "### The 80/20 rule has proven true for many businesses–only a small percentage of customers produce most of the revenue. As such, marketing teams are challenged to make appropriate investments in promotional strategies.\n",
    "\n",
    "RStudio, the developer of free and open tools for R and enterprise-ready products for teams to scale and share work, has partnered with Google Cloud and Kaggle to demonstrate the business impact that thorough data analysis can have.\n",
    "\n",
    "In this competition, you’re challenged to analyze a Google Merchandise Store (also known as GStore, where Google swag is sold) customer dataset to predict revenue per customer. Hopefully, the outcome will be more actionable operational changes and a better use of marketing budgets for those companies who choose to use data analysis on top of GA data."
   ]
  },
  {
   "cell_type": "code",
   "execution_count": 1,
   "metadata": {},
   "outputs": [],
   "source": [
    "import matplotlib.pyplot as plt\n",
    "%matplotlib inline\n",
    "import numpy as np\n",
    "import pandas as pd\n",
    "import logging\n",
    "import pickle\n",
    "import os\n",
    "\n",
    "import seaborn as sns\n",
    "import time, json\n",
    "\n",
    "#pre processing\n",
    "from sklearn.preprocessing import LabelEncoder\n",
    "from sklearn.preprocessing import OneHotEncoder\n",
    "from sklearn.preprocessing import StandardScaler\n",
    "from sklearn.preprocessing import MinMaxScaler\n",
    "from sklearn.preprocessing import Normalizer\n",
    "from sklearn.model_selection import train_test_split\n",
    "from sklearn.preprocessing import PolynomialFeatures\n"
   ]
  },
  {
   "cell_type": "code",
   "execution_count": 2,
   "metadata": {},
   "outputs": [],
   "source": [
    "from pandas.io.json import json_normalize\n",
    "\n",
    "#to load and transform json structure data inside given training data set\n",
    "cols_to_convert = ['totals', 'trafficSource', 'device', 'geoNetwork']\n",
    "\n",
    "train_df=pd.read_csv('C:\\\\Development_Avecto\\\\RevenuePredictions\\\\google\\\\train.csv',\n",
    "                     dtype={'fullVisitorId': 'str'},\n",
    "                     converters={my_col: json.loads for my_col in cols_to_convert},\n",
    "                     parse_dates=['date'],\n",
    "                     low_memory=False, header=0, nrows = 500000)\n",
    "\n",
    "#Append the nested json objects as features to main dataframe\n",
    "for column in cols_to_convert:\n",
    "        train_df_split = json_normalize(train_df[column])        \n",
    "        train_df_split.columns = [f\"{column}.{split_col}\" for split_col in train_df_split.columns]        \n",
    "        train_df_split.index = train_df.index\n",
    "        train_df = train_df.drop(column, axis=1).merge(train_df_split, right_index = True, left_index = True)\n"
   ]
  },
  {
   "cell_type": "code",
   "execution_count": 3,
   "metadata": {},
   "outputs": [
    {
     "data": {
      "text/html": [
       "<div>\n",
       "<style scoped>\n",
       "    .dataframe tbody tr th:only-of-type {\n",
       "        vertical-align: middle;\n",
       "    }\n",
       "\n",
       "    .dataframe tbody tr th {\n",
       "        vertical-align: top;\n",
       "    }\n",
       "\n",
       "    .dataframe thead th {\n",
       "        text-align: right;\n",
       "    }\n",
       "</style>\n",
       "<table border=\"1\" class=\"dataframe\">\n",
       "  <thead>\n",
       "    <tr style=\"text-align: right;\">\n",
       "      <th></th>\n",
       "      <th>channelGrouping</th>\n",
       "      <th>date</th>\n",
       "      <th>fullVisitorId</th>\n",
       "      <th>sessionId</th>\n",
       "      <th>socialEngagementType</th>\n",
       "      <th>visitId</th>\n",
       "      <th>visitNumber</th>\n",
       "      <th>visitStartTime</th>\n",
       "      <th>totals.bounces</th>\n",
       "      <th>totals.hits</th>\n",
       "      <th>...</th>\n",
       "      <th>geoNetwork.cityId</th>\n",
       "      <th>geoNetwork.continent</th>\n",
       "      <th>geoNetwork.country</th>\n",
       "      <th>geoNetwork.latitude</th>\n",
       "      <th>geoNetwork.longitude</th>\n",
       "      <th>geoNetwork.metro</th>\n",
       "      <th>geoNetwork.networkDomain</th>\n",
       "      <th>geoNetwork.networkLocation</th>\n",
       "      <th>geoNetwork.region</th>\n",
       "      <th>geoNetwork.subContinent</th>\n",
       "    </tr>\n",
       "  </thead>\n",
       "  <tbody>\n",
       "    <tr>\n",
       "      <th>0</th>\n",
       "      <td>Organic Search</td>\n",
       "      <td>2016-09-02</td>\n",
       "      <td>1131660440785968503</td>\n",
       "      <td>1131660440785968503_1472830385</td>\n",
       "      <td>Not Socially Engaged</td>\n",
       "      <td>1472830385</td>\n",
       "      <td>1</td>\n",
       "      <td>1472830385</td>\n",
       "      <td>1</td>\n",
       "      <td>1</td>\n",
       "      <td>...</td>\n",
       "      <td>not available in demo dataset</td>\n",
       "      <td>Asia</td>\n",
       "      <td>Turkey</td>\n",
       "      <td>not available in demo dataset</td>\n",
       "      <td>not available in demo dataset</td>\n",
       "      <td>(not set)</td>\n",
       "      <td>ttnet.com.tr</td>\n",
       "      <td>not available in demo dataset</td>\n",
       "      <td>Izmir</td>\n",
       "      <td>Western Asia</td>\n",
       "    </tr>\n",
       "    <tr>\n",
       "      <th>1</th>\n",
       "      <td>Organic Search</td>\n",
       "      <td>2016-09-02</td>\n",
       "      <td>377306020877927890</td>\n",
       "      <td>377306020877927890_1472880147</td>\n",
       "      <td>Not Socially Engaged</td>\n",
       "      <td>1472880147</td>\n",
       "      <td>1</td>\n",
       "      <td>1472880147</td>\n",
       "      <td>1</td>\n",
       "      <td>1</td>\n",
       "      <td>...</td>\n",
       "      <td>not available in demo dataset</td>\n",
       "      <td>Oceania</td>\n",
       "      <td>Australia</td>\n",
       "      <td>not available in demo dataset</td>\n",
       "      <td>not available in demo dataset</td>\n",
       "      <td>not available in demo dataset</td>\n",
       "      <td>dodo.net.au</td>\n",
       "      <td>not available in demo dataset</td>\n",
       "      <td>not available in demo dataset</td>\n",
       "      <td>Australasia</td>\n",
       "    </tr>\n",
       "    <tr>\n",
       "      <th>2</th>\n",
       "      <td>Organic Search</td>\n",
       "      <td>2016-09-02</td>\n",
       "      <td>3895546263509774583</td>\n",
       "      <td>3895546263509774583_1472865386</td>\n",
       "      <td>Not Socially Engaged</td>\n",
       "      <td>1472865386</td>\n",
       "      <td>1</td>\n",
       "      <td>1472865386</td>\n",
       "      <td>1</td>\n",
       "      <td>1</td>\n",
       "      <td>...</td>\n",
       "      <td>not available in demo dataset</td>\n",
       "      <td>Europe</td>\n",
       "      <td>Spain</td>\n",
       "      <td>not available in demo dataset</td>\n",
       "      <td>not available in demo dataset</td>\n",
       "      <td>(not set)</td>\n",
       "      <td>unknown.unknown</td>\n",
       "      <td>not available in demo dataset</td>\n",
       "      <td>Community of Madrid</td>\n",
       "      <td>Southern Europe</td>\n",
       "    </tr>\n",
       "    <tr>\n",
       "      <th>3</th>\n",
       "      <td>Organic Search</td>\n",
       "      <td>2016-09-02</td>\n",
       "      <td>4763447161404445595</td>\n",
       "      <td>4763447161404445595_1472881213</td>\n",
       "      <td>Not Socially Engaged</td>\n",
       "      <td>1472881213</td>\n",
       "      <td>1</td>\n",
       "      <td>1472881213</td>\n",
       "      <td>1</td>\n",
       "      <td>1</td>\n",
       "      <td>...</td>\n",
       "      <td>not available in demo dataset</td>\n",
       "      <td>Asia</td>\n",
       "      <td>Indonesia</td>\n",
       "      <td>not available in demo dataset</td>\n",
       "      <td>not available in demo dataset</td>\n",
       "      <td>not available in demo dataset</td>\n",
       "      <td>unknown.unknown</td>\n",
       "      <td>not available in demo dataset</td>\n",
       "      <td>not available in demo dataset</td>\n",
       "      <td>Southeast Asia</td>\n",
       "    </tr>\n",
       "    <tr>\n",
       "      <th>4</th>\n",
       "      <td>Organic Search</td>\n",
       "      <td>2016-09-02</td>\n",
       "      <td>27294437909732085</td>\n",
       "      <td>27294437909732085_1472822600</td>\n",
       "      <td>Not Socially Engaged</td>\n",
       "      <td>1472822600</td>\n",
       "      <td>2</td>\n",
       "      <td>1472822600</td>\n",
       "      <td>1</td>\n",
       "      <td>1</td>\n",
       "      <td>...</td>\n",
       "      <td>not available in demo dataset</td>\n",
       "      <td>Europe</td>\n",
       "      <td>United Kingdom</td>\n",
       "      <td>not available in demo dataset</td>\n",
       "      <td>not available in demo dataset</td>\n",
       "      <td>not available in demo dataset</td>\n",
       "      <td>unknown.unknown</td>\n",
       "      <td>not available in demo dataset</td>\n",
       "      <td>not available in demo dataset</td>\n",
       "      <td>Northern Europe</td>\n",
       "    </tr>\n",
       "  </tbody>\n",
       "</table>\n",
       "<p>5 rows × 55 columns</p>\n",
       "</div>"
      ],
      "text/plain": [
       "  channelGrouping       date        fullVisitorId  \\\n",
       "0  Organic Search 2016-09-02  1131660440785968503   \n",
       "1  Organic Search 2016-09-02   377306020877927890   \n",
       "2  Organic Search 2016-09-02  3895546263509774583   \n",
       "3  Organic Search 2016-09-02  4763447161404445595   \n",
       "4  Organic Search 2016-09-02    27294437909732085   \n",
       "\n",
       "                        sessionId  socialEngagementType     visitId  \\\n",
       "0  1131660440785968503_1472830385  Not Socially Engaged  1472830385   \n",
       "1   377306020877927890_1472880147  Not Socially Engaged  1472880147   \n",
       "2  3895546263509774583_1472865386  Not Socially Engaged  1472865386   \n",
       "3  4763447161404445595_1472881213  Not Socially Engaged  1472881213   \n",
       "4    27294437909732085_1472822600  Not Socially Engaged  1472822600   \n",
       "\n",
       "   visitNumber  visitStartTime totals.bounces totals.hits  \\\n",
       "0            1      1472830385              1           1   \n",
       "1            1      1472880147              1           1   \n",
       "2            1      1472865386              1           1   \n",
       "3            1      1472881213              1           1   \n",
       "4            2      1472822600              1           1   \n",
       "\n",
       "            ...                        geoNetwork.cityId geoNetwork.continent  \\\n",
       "0           ...            not available in demo dataset                 Asia   \n",
       "1           ...            not available in demo dataset              Oceania   \n",
       "2           ...            not available in demo dataset               Europe   \n",
       "3           ...            not available in demo dataset                 Asia   \n",
       "4           ...            not available in demo dataset               Europe   \n",
       "\n",
       "  geoNetwork.country            geoNetwork.latitude  \\\n",
       "0             Turkey  not available in demo dataset   \n",
       "1          Australia  not available in demo dataset   \n",
       "2              Spain  not available in demo dataset   \n",
       "3          Indonesia  not available in demo dataset   \n",
       "4     United Kingdom  not available in demo dataset   \n",
       "\n",
       "            geoNetwork.longitude               geoNetwork.metro  \\\n",
       "0  not available in demo dataset                      (not set)   \n",
       "1  not available in demo dataset  not available in demo dataset   \n",
       "2  not available in demo dataset                      (not set)   \n",
       "3  not available in demo dataset  not available in demo dataset   \n",
       "4  not available in demo dataset  not available in demo dataset   \n",
       "\n",
       "  geoNetwork.networkDomain     geoNetwork.networkLocation  \\\n",
       "0             ttnet.com.tr  not available in demo dataset   \n",
       "1              dodo.net.au  not available in demo dataset   \n",
       "2          unknown.unknown  not available in demo dataset   \n",
       "3          unknown.unknown  not available in demo dataset   \n",
       "4          unknown.unknown  not available in demo dataset   \n",
       "\n",
       "               geoNetwork.region geoNetwork.subContinent  \n",
       "0                          Izmir            Western Asia  \n",
       "1  not available in demo dataset             Australasia  \n",
       "2            Community of Madrid         Southern Europe  \n",
       "3  not available in demo dataset          Southeast Asia  \n",
       "4  not available in demo dataset         Northern Europe  \n",
       "\n",
       "[5 rows x 55 columns]"
      ]
     },
     "execution_count": 3,
     "metadata": {},
     "output_type": "execute_result"
    }
   ],
   "source": [
    "train_df.head()"
   ]
  },
  {
   "cell_type": "code",
   "execution_count": 4,
   "metadata": {},
   "outputs": [
    {
     "name": "stdout",
     "output_type": "stream",
     "text": [
      "<class 'pandas.core.frame.DataFrame'>\n",
      "RangeIndex: 500000 entries, 0 to 499999\n",
      "Data columns (total 55 columns):\n",
      "channelGrouping                                      500000 non-null object\n",
      "date                                                 500000 non-null datetime64[ns]\n",
      "fullVisitorId                                        500000 non-null object\n",
      "sessionId                                            500000 non-null object\n",
      "socialEngagementType                                 500000 non-null object\n",
      "visitId                                              500000 non-null int64\n",
      "visitNumber                                          500000 non-null int64\n",
      "visitStartTime                                       500000 non-null int64\n",
      "totals.bounces                                       248693 non-null object\n",
      "totals.hits                                          500000 non-null object\n",
      "totals.newVisits                                     389557 non-null object\n",
      "totals.pageviews                                     499949 non-null object\n",
      "totals.transactionRevenue                            6425 non-null object\n",
      "totals.visits                                        500000 non-null object\n",
      "trafficSource.adContent                              5806 non-null object\n",
      "trafficSource.adwordsClickInfo.adNetworkType         11637 non-null object\n",
      "trafficSource.adwordsClickInfo.criteriaParameters    500000 non-null object\n",
      "trafficSource.adwordsClickInfo.gclId                 11718 non-null object\n",
      "trafficSource.adwordsClickInfo.isVideoAd             11637 non-null object\n",
      "trafficSource.adwordsClickInfo.page                  11637 non-null object\n",
      "trafficSource.adwordsClickInfo.slot                  11637 non-null object\n",
      "trafficSource.campaign                               500000 non-null object\n",
      "trafficSource.campaignCode                           1 non-null object\n",
      "trafficSource.isTrueDirect                           148973 non-null object\n",
      "trafficSource.keyword                                214577 non-null object\n",
      "trafficSource.medium                                 500000 non-null object\n",
      "trafficSource.referralPath                           193108 non-null object\n",
      "trafficSource.source                                 500000 non-null object\n",
      "device.browser                                       500000 non-null object\n",
      "device.browserSize                                   500000 non-null object\n",
      "device.browserVersion                                500000 non-null object\n",
      "device.deviceCategory                                500000 non-null object\n",
      "device.flashVersion                                  500000 non-null object\n",
      "device.isMobile                                      500000 non-null bool\n",
      "device.language                                      500000 non-null object\n",
      "device.mobileDeviceBranding                          500000 non-null object\n",
      "device.mobileDeviceInfo                              500000 non-null object\n",
      "device.mobileDeviceMarketingName                     500000 non-null object\n",
      "device.mobileDeviceModel                             500000 non-null object\n",
      "device.mobileInputSelector                           500000 non-null object\n",
      "device.operatingSystem                               500000 non-null object\n",
      "device.operatingSystemVersion                        500000 non-null object\n",
      "device.screenColors                                  500000 non-null object\n",
      "device.screenResolution                              500000 non-null object\n",
      "geoNetwork.city                                      500000 non-null object\n",
      "geoNetwork.cityId                                    500000 non-null object\n",
      "geoNetwork.continent                                 500000 non-null object\n",
      "geoNetwork.country                                   500000 non-null object\n",
      "geoNetwork.latitude                                  500000 non-null object\n",
      "geoNetwork.longitude                                 500000 non-null object\n",
      "geoNetwork.metro                                     500000 non-null object\n",
      "geoNetwork.networkDomain                             500000 non-null object\n",
      "geoNetwork.networkLocation                           500000 non-null object\n",
      "geoNetwork.region                                    500000 non-null object\n",
      "geoNetwork.subContinent                              500000 non-null object\n",
      "dtypes: bool(1), datetime64[ns](1), int64(3), object(50)\n",
      "memory usage: 206.5+ MB\n"
     ]
    }
   ],
   "source": [
    "train_df.info()"
   ]
  },
  {
   "cell_type": "code",
   "execution_count": 5,
   "metadata": {},
   "outputs": [],
   "source": [
    "#Extract Page paramters\n",
    "train_df[\"transactionRevenue\"] = train_df[\"totals.transactionRevenue\"].astype('float')\n",
    "train_df.drop(['totals.transactionRevenue'], axis=1, inplace=True)\n",
    "\n",
    "train_df[\"hits\"] = train_df[\"totals.hits\"].astype('float')\n",
    "train_df.drop(['totals.hits'], axis=1, inplace=True)\n",
    "\n",
    "train_df[\"pageviews\"] = train_df[\"totals.pageviews\"].astype('float')\n",
    "train_df.drop(['totals.pageviews'], axis=1, inplace=True)\n",
    "\n",
    "train_df[\"bounces\"] = train_df[\"totals.bounces\"].astype('float')\n",
    "train_df.drop(['totals.bounces'], axis=1, inplace=True)\n",
    "\n",
    "\n",
    "train_df[\"visits\"] = train_df[\"totals.visits\"].astype('float')\n",
    "train_df.drop(['totals.visits'], axis=1, inplace=True)\n",
    "\n",
    "\n",
    "train_df[\"newVisits\"] = train_df[\"totals.newVisits\"].astype('float')\n",
    "train_df.drop(['totals.newVisits'], axis=1, inplace=True)\n"
   ]
  },
  {
   "cell_type": "code",
   "execution_count": 6,
   "metadata": {},
   "outputs": [],
   "source": [
    "#extract date parameters\n",
    "train_df['month'] = train_df['date'].dt.month\n",
    "train_df['week'] = train_df['date'].dt.week\n",
    "train_df['dow'] = train_df['date'].dt.weekday"
   ]
  },
  {
   "cell_type": "code",
   "execution_count": 7,
   "metadata": {},
   "outputs": [
    {
     "data": {
      "text/html": [
       "<div>\n",
       "<style scoped>\n",
       "    .dataframe tbody tr th:only-of-type {\n",
       "        vertical-align: middle;\n",
       "    }\n",
       "\n",
       "    .dataframe tbody tr th {\n",
       "        vertical-align: top;\n",
       "    }\n",
       "\n",
       "    .dataframe thead th {\n",
       "        text-align: right;\n",
       "    }\n",
       "</style>\n",
       "<table border=\"1\" class=\"dataframe\">\n",
       "  <thead>\n",
       "    <tr style=\"text-align: right;\">\n",
       "      <th></th>\n",
       "      <th>channelGrouping</th>\n",
       "      <th>date</th>\n",
       "      <th>fullVisitorId</th>\n",
       "      <th>sessionId</th>\n",
       "      <th>socialEngagementType</th>\n",
       "      <th>visitId</th>\n",
       "      <th>visitNumber</th>\n",
       "      <th>visitStartTime</th>\n",
       "      <th>trafficSource.adContent</th>\n",
       "      <th>trafficSource.adwordsClickInfo.adNetworkType</th>\n",
       "      <th>...</th>\n",
       "      <th>geoNetwork.subContinent</th>\n",
       "      <th>transactionRevenue</th>\n",
       "      <th>hits</th>\n",
       "      <th>pageviews</th>\n",
       "      <th>bounces</th>\n",
       "      <th>visits</th>\n",
       "      <th>newVisits</th>\n",
       "      <th>month</th>\n",
       "      <th>week</th>\n",
       "      <th>dow</th>\n",
       "    </tr>\n",
       "  </thead>\n",
       "  <tbody>\n",
       "    <tr>\n",
       "      <th>0</th>\n",
       "      <td>Organic Search</td>\n",
       "      <td>2016-09-02</td>\n",
       "      <td>1131660440785968503</td>\n",
       "      <td>1131660440785968503_1472830385</td>\n",
       "      <td>Not Socially Engaged</td>\n",
       "      <td>1472830385</td>\n",
       "      <td>1</td>\n",
       "      <td>1472830385</td>\n",
       "      <td>NaN</td>\n",
       "      <td>NaN</td>\n",
       "      <td>...</td>\n",
       "      <td>Western Asia</td>\n",
       "      <td>NaN</td>\n",
       "      <td>1.0</td>\n",
       "      <td>1.0</td>\n",
       "      <td>1.0</td>\n",
       "      <td>1.0</td>\n",
       "      <td>1.0</td>\n",
       "      <td>9</td>\n",
       "      <td>35</td>\n",
       "      <td>4</td>\n",
       "    </tr>\n",
       "    <tr>\n",
       "      <th>1</th>\n",
       "      <td>Organic Search</td>\n",
       "      <td>2016-09-02</td>\n",
       "      <td>377306020877927890</td>\n",
       "      <td>377306020877927890_1472880147</td>\n",
       "      <td>Not Socially Engaged</td>\n",
       "      <td>1472880147</td>\n",
       "      <td>1</td>\n",
       "      <td>1472880147</td>\n",
       "      <td>NaN</td>\n",
       "      <td>NaN</td>\n",
       "      <td>...</td>\n",
       "      <td>Australasia</td>\n",
       "      <td>NaN</td>\n",
       "      <td>1.0</td>\n",
       "      <td>1.0</td>\n",
       "      <td>1.0</td>\n",
       "      <td>1.0</td>\n",
       "      <td>1.0</td>\n",
       "      <td>9</td>\n",
       "      <td>35</td>\n",
       "      <td>4</td>\n",
       "    </tr>\n",
       "    <tr>\n",
       "      <th>2</th>\n",
       "      <td>Organic Search</td>\n",
       "      <td>2016-09-02</td>\n",
       "      <td>3895546263509774583</td>\n",
       "      <td>3895546263509774583_1472865386</td>\n",
       "      <td>Not Socially Engaged</td>\n",
       "      <td>1472865386</td>\n",
       "      <td>1</td>\n",
       "      <td>1472865386</td>\n",
       "      <td>NaN</td>\n",
       "      <td>NaN</td>\n",
       "      <td>...</td>\n",
       "      <td>Southern Europe</td>\n",
       "      <td>NaN</td>\n",
       "      <td>1.0</td>\n",
       "      <td>1.0</td>\n",
       "      <td>1.0</td>\n",
       "      <td>1.0</td>\n",
       "      <td>1.0</td>\n",
       "      <td>9</td>\n",
       "      <td>35</td>\n",
       "      <td>4</td>\n",
       "    </tr>\n",
       "    <tr>\n",
       "      <th>3</th>\n",
       "      <td>Organic Search</td>\n",
       "      <td>2016-09-02</td>\n",
       "      <td>4763447161404445595</td>\n",
       "      <td>4763447161404445595_1472881213</td>\n",
       "      <td>Not Socially Engaged</td>\n",
       "      <td>1472881213</td>\n",
       "      <td>1</td>\n",
       "      <td>1472881213</td>\n",
       "      <td>NaN</td>\n",
       "      <td>NaN</td>\n",
       "      <td>...</td>\n",
       "      <td>Southeast Asia</td>\n",
       "      <td>NaN</td>\n",
       "      <td>1.0</td>\n",
       "      <td>1.0</td>\n",
       "      <td>1.0</td>\n",
       "      <td>1.0</td>\n",
       "      <td>1.0</td>\n",
       "      <td>9</td>\n",
       "      <td>35</td>\n",
       "      <td>4</td>\n",
       "    </tr>\n",
       "    <tr>\n",
       "      <th>4</th>\n",
       "      <td>Organic Search</td>\n",
       "      <td>2016-09-02</td>\n",
       "      <td>27294437909732085</td>\n",
       "      <td>27294437909732085_1472822600</td>\n",
       "      <td>Not Socially Engaged</td>\n",
       "      <td>1472822600</td>\n",
       "      <td>2</td>\n",
       "      <td>1472822600</td>\n",
       "      <td>NaN</td>\n",
       "      <td>NaN</td>\n",
       "      <td>...</td>\n",
       "      <td>Northern Europe</td>\n",
       "      <td>NaN</td>\n",
       "      <td>1.0</td>\n",
       "      <td>1.0</td>\n",
       "      <td>1.0</td>\n",
       "      <td>1.0</td>\n",
       "      <td>NaN</td>\n",
       "      <td>9</td>\n",
       "      <td>35</td>\n",
       "      <td>4</td>\n",
       "    </tr>\n",
       "  </tbody>\n",
       "</table>\n",
       "<p>5 rows × 58 columns</p>\n",
       "</div>"
      ],
      "text/plain": [
       "  channelGrouping       date        fullVisitorId  \\\n",
       "0  Organic Search 2016-09-02  1131660440785968503   \n",
       "1  Organic Search 2016-09-02   377306020877927890   \n",
       "2  Organic Search 2016-09-02  3895546263509774583   \n",
       "3  Organic Search 2016-09-02  4763447161404445595   \n",
       "4  Organic Search 2016-09-02    27294437909732085   \n",
       "\n",
       "                        sessionId  socialEngagementType     visitId  \\\n",
       "0  1131660440785968503_1472830385  Not Socially Engaged  1472830385   \n",
       "1   377306020877927890_1472880147  Not Socially Engaged  1472880147   \n",
       "2  3895546263509774583_1472865386  Not Socially Engaged  1472865386   \n",
       "3  4763447161404445595_1472881213  Not Socially Engaged  1472881213   \n",
       "4    27294437909732085_1472822600  Not Socially Engaged  1472822600   \n",
       "\n",
       "   visitNumber  visitStartTime trafficSource.adContent  \\\n",
       "0            1      1472830385                     NaN   \n",
       "1            1      1472880147                     NaN   \n",
       "2            1      1472865386                     NaN   \n",
       "3            1      1472881213                     NaN   \n",
       "4            2      1472822600                     NaN   \n",
       "\n",
       "  trafficSource.adwordsClickInfo.adNetworkType ... geoNetwork.subContinent  \\\n",
       "0                                          NaN ...            Western Asia   \n",
       "1                                          NaN ...             Australasia   \n",
       "2                                          NaN ...         Southern Europe   \n",
       "3                                          NaN ...          Southeast Asia   \n",
       "4                                          NaN ...         Northern Europe   \n",
       "\n",
       "  transactionRevenue hits pageviews bounces visits newVisits month week dow  \n",
       "0                NaN  1.0       1.0     1.0    1.0       1.0     9   35   4  \n",
       "1                NaN  1.0       1.0     1.0    1.0       1.0     9   35   4  \n",
       "2                NaN  1.0       1.0     1.0    1.0       1.0     9   35   4  \n",
       "3                NaN  1.0       1.0     1.0    1.0       1.0     9   35   4  \n",
       "4                NaN  1.0       1.0     1.0    1.0       NaN     9   35   4  \n",
       "\n",
       "[5 rows x 58 columns]"
      ]
     },
     "execution_count": 7,
     "metadata": {},
     "output_type": "execute_result"
    }
   ],
   "source": [
    "train_df.head()"
   ]
  },
  {
   "cell_type": "code",
   "execution_count": 8,
   "metadata": {},
   "outputs": [],
   "source": [
    "#extract hour information from visit time\n",
    "train_df['time_of_hour'] = pd.to_datetime(train_df['visitStartTime'], unit='s').dt.hour"
   ]
  },
  {
   "cell_type": "code",
   "execution_count": 9,
   "metadata": {},
   "outputs": [
    {
     "data": {
      "text/html": [
       "<div>\n",
       "<style scoped>\n",
       "    .dataframe tbody tr th:only-of-type {\n",
       "        vertical-align: middle;\n",
       "    }\n",
       "\n",
       "    .dataframe tbody tr th {\n",
       "        vertical-align: top;\n",
       "    }\n",
       "\n",
       "    .dataframe thead th {\n",
       "        text-align: right;\n",
       "    }\n",
       "</style>\n",
       "<table border=\"1\" class=\"dataframe\">\n",
       "  <thead>\n",
       "    <tr style=\"text-align: right;\">\n",
       "      <th></th>\n",
       "      <th>channelGrouping</th>\n",
       "      <th>date</th>\n",
       "      <th>fullVisitorId</th>\n",
       "      <th>sessionId</th>\n",
       "      <th>socialEngagementType</th>\n",
       "      <th>visitId</th>\n",
       "      <th>visitNumber</th>\n",
       "      <th>visitStartTime</th>\n",
       "      <th>trafficSource.adContent</th>\n",
       "      <th>trafficSource.adwordsClickInfo.adNetworkType</th>\n",
       "      <th>...</th>\n",
       "      <th>transactionRevenue</th>\n",
       "      <th>hits</th>\n",
       "      <th>pageviews</th>\n",
       "      <th>bounces</th>\n",
       "      <th>visits</th>\n",
       "      <th>newVisits</th>\n",
       "      <th>month</th>\n",
       "      <th>week</th>\n",
       "      <th>dow</th>\n",
       "      <th>time_of_hour</th>\n",
       "    </tr>\n",
       "  </thead>\n",
       "  <tbody>\n",
       "    <tr>\n",
       "      <th>0</th>\n",
       "      <td>Organic Search</td>\n",
       "      <td>2016-09-02</td>\n",
       "      <td>1131660440785968503</td>\n",
       "      <td>1131660440785968503_1472830385</td>\n",
       "      <td>Not Socially Engaged</td>\n",
       "      <td>1472830385</td>\n",
       "      <td>1</td>\n",
       "      <td>1472830385</td>\n",
       "      <td>NaN</td>\n",
       "      <td>NaN</td>\n",
       "      <td>...</td>\n",
       "      <td>NaN</td>\n",
       "      <td>1.0</td>\n",
       "      <td>1.0</td>\n",
       "      <td>1.0</td>\n",
       "      <td>1.0</td>\n",
       "      <td>1.0</td>\n",
       "      <td>9</td>\n",
       "      <td>35</td>\n",
       "      <td>4</td>\n",
       "      <td>15</td>\n",
       "    </tr>\n",
       "    <tr>\n",
       "      <th>1</th>\n",
       "      <td>Organic Search</td>\n",
       "      <td>2016-09-02</td>\n",
       "      <td>377306020877927890</td>\n",
       "      <td>377306020877927890_1472880147</td>\n",
       "      <td>Not Socially Engaged</td>\n",
       "      <td>1472880147</td>\n",
       "      <td>1</td>\n",
       "      <td>1472880147</td>\n",
       "      <td>NaN</td>\n",
       "      <td>NaN</td>\n",
       "      <td>...</td>\n",
       "      <td>NaN</td>\n",
       "      <td>1.0</td>\n",
       "      <td>1.0</td>\n",
       "      <td>1.0</td>\n",
       "      <td>1.0</td>\n",
       "      <td>1.0</td>\n",
       "      <td>9</td>\n",
       "      <td>35</td>\n",
       "      <td>4</td>\n",
       "      <td>5</td>\n",
       "    </tr>\n",
       "    <tr>\n",
       "      <th>2</th>\n",
       "      <td>Organic Search</td>\n",
       "      <td>2016-09-02</td>\n",
       "      <td>3895546263509774583</td>\n",
       "      <td>3895546263509774583_1472865386</td>\n",
       "      <td>Not Socially Engaged</td>\n",
       "      <td>1472865386</td>\n",
       "      <td>1</td>\n",
       "      <td>1472865386</td>\n",
       "      <td>NaN</td>\n",
       "      <td>NaN</td>\n",
       "      <td>...</td>\n",
       "      <td>NaN</td>\n",
       "      <td>1.0</td>\n",
       "      <td>1.0</td>\n",
       "      <td>1.0</td>\n",
       "      <td>1.0</td>\n",
       "      <td>1.0</td>\n",
       "      <td>9</td>\n",
       "      <td>35</td>\n",
       "      <td>4</td>\n",
       "      <td>1</td>\n",
       "    </tr>\n",
       "    <tr>\n",
       "      <th>3</th>\n",
       "      <td>Organic Search</td>\n",
       "      <td>2016-09-02</td>\n",
       "      <td>4763447161404445595</td>\n",
       "      <td>4763447161404445595_1472881213</td>\n",
       "      <td>Not Socially Engaged</td>\n",
       "      <td>1472881213</td>\n",
       "      <td>1</td>\n",
       "      <td>1472881213</td>\n",
       "      <td>NaN</td>\n",
       "      <td>NaN</td>\n",
       "      <td>...</td>\n",
       "      <td>NaN</td>\n",
       "      <td>1.0</td>\n",
       "      <td>1.0</td>\n",
       "      <td>1.0</td>\n",
       "      <td>1.0</td>\n",
       "      <td>1.0</td>\n",
       "      <td>9</td>\n",
       "      <td>35</td>\n",
       "      <td>4</td>\n",
       "      <td>5</td>\n",
       "    </tr>\n",
       "    <tr>\n",
       "      <th>4</th>\n",
       "      <td>Organic Search</td>\n",
       "      <td>2016-09-02</td>\n",
       "      <td>27294437909732085</td>\n",
       "      <td>27294437909732085_1472822600</td>\n",
       "      <td>Not Socially Engaged</td>\n",
       "      <td>1472822600</td>\n",
       "      <td>2</td>\n",
       "      <td>1472822600</td>\n",
       "      <td>NaN</td>\n",
       "      <td>NaN</td>\n",
       "      <td>...</td>\n",
       "      <td>NaN</td>\n",
       "      <td>1.0</td>\n",
       "      <td>1.0</td>\n",
       "      <td>1.0</td>\n",
       "      <td>1.0</td>\n",
       "      <td>NaN</td>\n",
       "      <td>9</td>\n",
       "      <td>35</td>\n",
       "      <td>4</td>\n",
       "      <td>13</td>\n",
       "    </tr>\n",
       "  </tbody>\n",
       "</table>\n",
       "<p>5 rows × 59 columns</p>\n",
       "</div>"
      ],
      "text/plain": [
       "  channelGrouping       date        fullVisitorId  \\\n",
       "0  Organic Search 2016-09-02  1131660440785968503   \n",
       "1  Organic Search 2016-09-02   377306020877927890   \n",
       "2  Organic Search 2016-09-02  3895546263509774583   \n",
       "3  Organic Search 2016-09-02  4763447161404445595   \n",
       "4  Organic Search 2016-09-02    27294437909732085   \n",
       "\n",
       "                        sessionId  socialEngagementType     visitId  \\\n",
       "0  1131660440785968503_1472830385  Not Socially Engaged  1472830385   \n",
       "1   377306020877927890_1472880147  Not Socially Engaged  1472880147   \n",
       "2  3895546263509774583_1472865386  Not Socially Engaged  1472865386   \n",
       "3  4763447161404445595_1472881213  Not Socially Engaged  1472881213   \n",
       "4    27294437909732085_1472822600  Not Socially Engaged  1472822600   \n",
       "\n",
       "   visitNumber  visitStartTime trafficSource.adContent  \\\n",
       "0            1      1472830385                     NaN   \n",
       "1            1      1472880147                     NaN   \n",
       "2            1      1472865386                     NaN   \n",
       "3            1      1472881213                     NaN   \n",
       "4            2      1472822600                     NaN   \n",
       "\n",
       "  trafficSource.adwordsClickInfo.adNetworkType     ...       \\\n",
       "0                                          NaN     ...        \n",
       "1                                          NaN     ...        \n",
       "2                                          NaN     ...        \n",
       "3                                          NaN     ...        \n",
       "4                                          NaN     ...        \n",
       "\n",
       "  transactionRevenue hits pageviews bounces visits newVisits month week dow  \\\n",
       "0                NaN  1.0       1.0     1.0    1.0       1.0     9   35   4   \n",
       "1                NaN  1.0       1.0     1.0    1.0       1.0     9   35   4   \n",
       "2                NaN  1.0       1.0     1.0    1.0       1.0     9   35   4   \n",
       "3                NaN  1.0       1.0     1.0    1.0       1.0     9   35   4   \n",
       "4                NaN  1.0       1.0     1.0    1.0       NaN     9   35   4   \n",
       "\n",
       "  time_of_hour  \n",
       "0           15  \n",
       "1            5  \n",
       "2            1  \n",
       "3            5  \n",
       "4           13  \n",
       "\n",
       "[5 rows x 59 columns]"
      ]
     },
     "execution_count": 9,
     "metadata": {},
     "output_type": "execute_result"
    }
   ],
   "source": [
    "train_df.head()"
   ]
  },
  {
   "cell_type": "code",
   "execution_count": 10,
   "metadata": {},
   "outputs": [],
   "source": [
    "# Start Data analysis\n",
    "grp1 = train_df.groupby(\"fullVisitorId\")[\"transactionRevenue\"].agg(['count', 'sum'])"
   ]
  },
  {
   "cell_type": "code",
   "execution_count": 11,
   "metadata": {},
   "outputs": [
    {
     "data": {
      "text/html": [
       "<div>\n",
       "<style scoped>\n",
       "    .dataframe tbody tr th:only-of-type {\n",
       "        vertical-align: middle;\n",
       "    }\n",
       "\n",
       "    .dataframe tbody tr th {\n",
       "        vertical-align: top;\n",
       "    }\n",
       "\n",
       "    .dataframe thead th {\n",
       "        text-align: right;\n",
       "    }\n",
       "</style>\n",
       "<table border=\"1\" class=\"dataframe\">\n",
       "  <thead>\n",
       "    <tr style=\"text-align: right;\">\n",
       "      <th></th>\n",
       "      <th>count</th>\n",
       "      <th>sum</th>\n",
       "    </tr>\n",
       "    <tr>\n",
       "      <th>fullVisitorId</th>\n",
       "      <th></th>\n",
       "      <th></th>\n",
       "    </tr>\n",
       "  </thead>\n",
       "  <tbody>\n",
       "    <tr>\n",
       "      <th>0000010278554503158</th>\n",
       "      <td>0</td>\n",
       "      <td>0.0</td>\n",
       "    </tr>\n",
       "    <tr>\n",
       "      <th>0000020424342248747</th>\n",
       "      <td>0</td>\n",
       "      <td>0.0</td>\n",
       "    </tr>\n",
       "    <tr>\n",
       "      <th>000005103959234087</th>\n",
       "      <td>0</td>\n",
       "      <td>0.0</td>\n",
       "    </tr>\n",
       "    <tr>\n",
       "      <th>0000068403966359845</th>\n",
       "      <td>0</td>\n",
       "      <td>0.0</td>\n",
       "    </tr>\n",
       "    <tr>\n",
       "      <th>0000093957001069502</th>\n",
       "      <td>0</td>\n",
       "      <td>0.0</td>\n",
       "    </tr>\n",
       "  </tbody>\n",
       "</table>\n",
       "</div>"
      ],
      "text/plain": [
       "                     count  sum\n",
       "fullVisitorId                  \n",
       "0000010278554503158      0  0.0\n",
       "0000020424342248747      0  0.0\n",
       "000005103959234087       0  0.0\n",
       "0000068403966359845      0  0.0\n",
       "0000093957001069502      0  0.0"
      ]
     },
     "execution_count": 11,
     "metadata": {},
     "output_type": "execute_result"
    }
   ],
   "source": [
    "grp1.head()"
   ]
  },
  {
   "cell_type": "code",
   "execution_count": 12,
   "metadata": {},
   "outputs": [
    {
     "data": {
      "image/png": "[encoded data removed]",
      "text/plain": [
       "<Figure size 432x288 with 1 Axes>"
      ]
     },
     "metadata": {
      "needs_background": "light"
     },
     "output_type": "display_data"
    }
   ],
   "source": [
    "#Assess how many visitors are contributing to transaction revenue in first place\n",
    "plt.ylabel('Sum of Revenue')\n",
    "plt.xlabel('Visitor')\n",
    "plt.scatter(range(grp1.shape[0]), np.sort(np.log1p(grp1['sum'])))\n",
    "plt.show()"
   ]
  },
  {
   "cell_type": "code",
   "execution_count": 13,
   "metadata": {},
   "outputs": [
    {
     "name": "stderr",
     "output_type": "stream",
     "text": [
      "C:\\Users\\164118\\AppData\\Local\\Continuum\\anaconda3\\lib\\site-packages\\scipy\\stats\\stats.py:1713: FutureWarning: Using a non-tuple sequence for multidimensional indexing is deprecated; use `arr[tuple(seq)]` instead of `arr[seq]`. In the future this will be interpreted as an array index, `arr[np.array(seq)]`, which will result either in an error or a different result.\n",
      "  return np.add.reduce(sorted[indexer] * weights, axis=axis) / sumval\n"
     ]
    },
    {
     "data": {
      "image/png": "[encoded data removed]",
      "text/plain": [
       "<Figure size 432x288 with 1 Axes>"
      ]
     },
     "metadata": {
      "needs_background": "light"
     },
     "output_type": "display_data"
    }
   ],
   "source": [
    "#Distribution plot for customers contributing to positive revenue\n",
    "sns.distplot(train_df[train_df.transactionRevenue > 0.0]['transactionRevenue'])\n",
    "plt.title(\"Distribution\");\n",
    "plt.xlabel(\"Raw Revenue\");"
   ]
  },
  {
   "cell_type": "code",
   "execution_count": 14,
   "metadata": {},
   "outputs": [
    {
     "name": "stderr",
     "output_type": "stream",
     "text": [
      "C:\\Users\\164118\\AppData\\Local\\Continuum\\anaconda3\\lib\\site-packages\\scipy\\stats\\stats.py:1713: FutureWarning: Using a non-tuple sequence for multidimensional indexing is deprecated; use `arr[tuple(seq)]` instead of `arr[seq]`. In the future this will be interpreted as an array index, `arr[np.array(seq)]`, which will result either in an error or a different result.\n",
      "  return np.add.reduce(sorted[indexer] * weights, axis=axis) / sumval\n"
     ]
    },
    {
     "data": {
      "image/png": "[encoded data removed]",
      "text/plain": [
       "<Figure size 432x288 with 1 Axes>"
      ]
     },
     "metadata": {
      "needs_background": "light"
     },
     "output_type": "display_data"
    }
   ],
   "source": [
    "#Do log transformation and check the distribution plot again\n",
    "\n",
    "sns.distplot(np.log1p(train_df[train_df.transactionRevenue > 0.0]['transactionRevenue']))\n",
    "plt.title(\"Distribution\");\n",
    "plt.xlabel(\"Log transformation\");"
   ]
  },
  {
   "cell_type": "code",
   "execution_count": 15,
   "metadata": {},
   "outputs": [],
   "source": [
    "# Create various groups to manually inspect the revenue distribution across various time objects\n",
    "\n",
    "grp2 = train_df.groupby(\"month\")[\"transactionRevenue\"].agg(['count', 'sum'])\n",
    "grp3 = train_df.groupby(\"week\")[\"transactionRevenue\"].agg(['count', 'sum'])\n",
    "grp4 = train_df.groupby(\"dow\")[\"transactionRevenue\"].agg(['count', 'sum'])\n",
    "grp5 = train_df.groupby(\"time_of_hour\")[\"transactionRevenue\"].agg(['count', 'sum'])"
   ]
  },
  {
   "cell_type": "code",
   "execution_count": 16,
   "metadata": {},
   "outputs": [
    {
     "data": {
      "image/png": "[encoded data removed]",
      "text/plain": [
       "<Figure size 432x288 with 1 Axes>"
      ]
     },
     "metadata": {
      "needs_background": "light"
     },
     "output_type": "display_data"
    }
   ],
   "source": [
    "plt.ylabel('Sum of Revenue')\n",
    "plt.xlabel('month')\n",
    "plt.scatter(range(grp2.shape[0]), np.sort(np.log1p(grp2['sum'])))\n",
    "plt.show()"
   ]
  },
  {
   "cell_type": "code",
   "execution_count": 17,
   "metadata": {},
   "outputs": [
    {
     "data": {
      "image/png": "[encoded data removed]",
      "text/plain": [
       "<Figure size 432x288 with 1 Axes>"
      ]
     },
     "metadata": {
      "needs_background": "light"
     },
     "output_type": "display_data"
    }
   ],
   "source": [
    "plt.ylabel('Sum of Revenue')\n",
    "plt.xlabel('week')\n",
    "plt.scatter(range(grp3.shape[0]), np.sort(np.log1p(grp3['sum'])))\n",
    "plt.show()"
   ]
  },
  {
   "cell_type": "code",
   "execution_count": 18,
   "metadata": {},
   "outputs": [
    {
     "data": {
      "text/html": [
       "<div>\n",
       "<style scoped>\n",
       "    .dataframe tbody tr th:only-of-type {\n",
       "        vertical-align: middle;\n",
       "    }\n",
       "\n",
       "    .dataframe tbody tr th {\n",
       "        vertical-align: top;\n",
       "    }\n",
       "\n",
       "    .dataframe thead th {\n",
       "        text-align: right;\n",
       "    }\n",
       "</style>\n",
       "<table border=\"1\" class=\"dataframe\">\n",
       "  <thead>\n",
       "    <tr style=\"text-align: right;\">\n",
       "      <th></th>\n",
       "      <th>count</th>\n",
       "      <th>sum</th>\n",
       "    </tr>\n",
       "    <tr>\n",
       "      <th>dow</th>\n",
       "      <th></th>\n",
       "      <th></th>\n",
       "    </tr>\n",
       "  </thead>\n",
       "  <tbody>\n",
       "    <tr>\n",
       "      <th>0</th>\n",
       "      <td>1064</td>\n",
       "      <td>1.333272e+11</td>\n",
       "    </tr>\n",
       "    <tr>\n",
       "      <th>1</th>\n",
       "      <td>1027</td>\n",
       "      <td>1.547322e+11</td>\n",
       "    </tr>\n",
       "    <tr>\n",
       "      <th>2</th>\n",
       "      <td>943</td>\n",
       "      <td>1.527168e+11</td>\n",
       "    </tr>\n",
       "    <tr>\n",
       "      <th>3</th>\n",
       "      <td>1181</td>\n",
       "      <td>1.635260e+11</td>\n",
       "    </tr>\n",
       "    <tr>\n",
       "      <th>4</th>\n",
       "      <td>1467</td>\n",
       "      <td>1.862431e+11</td>\n",
       "    </tr>\n",
       "    <tr>\n",
       "      <th>5</th>\n",
       "      <td>332</td>\n",
       "      <td>2.808324e+10</td>\n",
       "    </tr>\n",
       "    <tr>\n",
       "      <th>6</th>\n",
       "      <td>411</td>\n",
       "      <td>3.409195e+10</td>\n",
       "    </tr>\n",
       "  </tbody>\n",
       "</table>\n",
       "</div>"
      ],
      "text/plain": [
       "     count           sum\n",
       "dow                     \n",
       "0     1064  1.333272e+11\n",
       "1     1027  1.547322e+11\n",
       "2      943  1.527168e+11\n",
       "3     1181  1.635260e+11\n",
       "4     1467  1.862431e+11\n",
       "5      332  2.808324e+10\n",
       "6      411  3.409195e+10"
      ]
     },
     "execution_count": 18,
     "metadata": {},
     "output_type": "execute_result"
    }
   ],
   "source": [
    "grp4.head(8)"
   ]
  },
  {
   "cell_type": "code",
   "execution_count": 19,
   "metadata": {},
   "outputs": [
    {
     "data": {
      "image/png": "[encoded data removed]",
      "text/plain": [
       "<Figure size 432x288 with 1 Axes>"
      ]
     },
     "metadata": {
      "needs_background": "light"
     },
     "output_type": "display_data"
    }
   ],
   "source": [
    "plt.ylabel('Sum of Revenue')\n",
    "plt.xlabel('dow')\n",
    "plt.scatter(range(grp4.shape[0]), np.sort(np.log1p(grp4['sum'])))\n",
    "plt.show()"
   ]
  },
  {
   "cell_type": "code",
   "execution_count": 20,
   "metadata": {},
   "outputs": [
    {
     "data": {
      "image/png": "[encoded data removed]",
      "text/plain": [
       "<Figure size 432x288 with 1 Axes>"
      ]
     },
     "metadata": {
      "needs_background": "light"
     },
     "output_type": "display_data"
    }
   ],
   "source": [
    "plt.ylabel('Sum of Revenue')\n",
    "plt.xlabel('time_of_hour')\n",
    "plt.scatter(range(grp5.shape[0]), np.sort(np.log1p(grp5['sum'])))\n",
    "plt.show()"
   ]
  },
  {
   "cell_type": "code",
   "execution_count": 21,
   "metadata": {},
   "outputs": [],
   "source": [
    "# Create various groups to manually inspect the revenue distribution across various page transaction parameters\n",
    "\n",
    "grp6 = train_df.groupby(\"hits\")[\"transactionRevenue\"].agg(['count', 'sum'])\n",
    "grp7 = train_df.groupby(\"pageviews\")[\"transactionRevenue\"].agg(['count', 'sum'])\n",
    "grp8 = train_df.groupby(\"bounces\")[\"transactionRevenue\"].agg(['count', 'sum'])\n",
    "grp9 = train_df.groupby(\"visits\")[\"transactionRevenue\"].agg(['count', 'sum'])\n",
    "grp10 = train_df.groupby(\"newVisits\")[\"transactionRevenue\"].agg(['count', 'sum'])"
   ]
  },
  {
   "cell_type": "code",
   "execution_count": 22,
   "metadata": {
    "scrolled": true
   },
   "outputs": [
    {
     "data": {
      "image/png": "[encoded data removed]",
      "text/plain": [
       "<Figure size 432x288 with 1 Axes>"
      ]
     },
     "metadata": {
      "needs_background": "light"
     },
     "output_type": "display_data"
    },
    {
     "data": {
      "image/png": "[encoded data removed]",
      "text/plain": [
       "<Figure size 432x288 with 1 Axes>"
      ]
     },
     "metadata": {
      "needs_background": "light"
     },
     "output_type": "display_data"
    },
    {
     "data": {
      "image/png": "[encoded data removed]",
      "text/plain": [
       "<Figure size 432x288 with 1 Axes>"
      ]
     },
     "metadata": {
      "needs_background": "light"
     },
     "output_type": "display_data"
    },
    {
     "data": {
      "image/png": "[encoded data removed]",
      "text/plain": [
       "<Figure size 432x288 with 1 Axes>"
      ]
     },
     "metadata": {
      "needs_background": "light"
     },
     "output_type": "display_data"
    },
    {
     "data": {
      "image/png": "[encoded data removed]",
      "text/plain": [
       "<Figure size 432x288 with 1 Axes>"
      ]
     },
     "metadata": {
      "needs_background": "light"
     },
     "output_type": "display_data"
    }
   ],
   "source": [
    "plt.ylabel('Sum of Revenue')\n",
    "plt.xlabel('hits')\n",
    "plt.scatter(range(grp6.shape[0]), np.sort(np.log1p(grp6['sum'])))\n",
    "plt.show()\n",
    "\n",
    "plt.ylabel('Sum of Revenue')\n",
    "plt.xlabel('pageviews')\n",
    "plt.scatter(range(grp7.shape[0]), np.sort(np.log1p(grp7['sum'])))\n",
    "plt.show()\n",
    "\n",
    "plt.ylabel('Sum of Revenue')\n",
    "plt.xlabel('bounces')\n",
    "plt.scatter(range(grp8.shape[0]), np.sort(np.log1p(grp8['sum'])))\n",
    "plt.show()\n",
    "\n",
    "plt.ylabel('Sum of Revenue')\n",
    "plt.xlabel('visits')\n",
    "plt.scatter(range(grp9.shape[0]), np.sort(np.log1p(grp9['sum'])))\n",
    "plt.show()\n",
    "\n",
    "plt.ylabel('Sum of Revenue')\n",
    "plt.xlabel('new visits')\n",
    "plt.scatter(range(grp10.shape[0]), np.sort(np.log1p(grp10['sum'])))\n",
    "plt.show()"
   ]
  },
  {
   "cell_type": "code",
   "execution_count": 23,
   "metadata": {},
   "outputs": [
    {
     "data": {
      "text/html": [
       "<div>\n",
       "<style scoped>\n",
       "    .dataframe tbody tr th:only-of-type {\n",
       "        vertical-align: middle;\n",
       "    }\n",
       "\n",
       "    .dataframe tbody tr th {\n",
       "        vertical-align: top;\n",
       "    }\n",
       "\n",
       "    .dataframe thead th {\n",
       "        text-align: right;\n",
       "    }\n",
       "</style>\n",
       "<table border=\"1\" class=\"dataframe\">\n",
       "  <thead>\n",
       "    <tr style=\"text-align: right;\">\n",
       "      <th></th>\n",
       "      <th>count</th>\n",
       "      <th>sum</th>\n",
       "    </tr>\n",
       "    <tr>\n",
       "      <th>bounces</th>\n",
       "      <th></th>\n",
       "      <th></th>\n",
       "    </tr>\n",
       "  </thead>\n",
       "  <tbody>\n",
       "    <tr>\n",
       "      <th>1.0</th>\n",
       "      <td>0</td>\n",
       "      <td>0.0</td>\n",
       "    </tr>\n",
       "  </tbody>\n",
       "</table>\n",
       "</div>"
      ],
      "text/plain": [
       "         count  sum\n",
       "bounces            \n",
       "1.0          0  0.0"
      ]
     },
     "execution_count": 23,
     "metadata": {},
     "output_type": "execute_result"
    }
   ],
   "source": [
    "# Can ignore bounce? Does not contribute to revenue anyway\n",
    "grp8"
   ]
  },
  {
   "cell_type": "code",
   "execution_count": 24,
   "metadata": {},
   "outputs": [
    {
     "data": {
      "text/html": [
       "<div>\n",
       "<style scoped>\n",
       "    .dataframe tbody tr th:only-of-type {\n",
       "        vertical-align: middle;\n",
       "    }\n",
       "\n",
       "    .dataframe tbody tr th {\n",
       "        vertical-align: top;\n",
       "    }\n",
       "\n",
       "    .dataframe thead th {\n",
       "        text-align: right;\n",
       "    }\n",
       "</style>\n",
       "<table border=\"1\" class=\"dataframe\">\n",
       "  <thead>\n",
       "    <tr style=\"text-align: right;\">\n",
       "      <th></th>\n",
       "      <th>count</th>\n",
       "      <th>sum</th>\n",
       "    </tr>\n",
       "    <tr>\n",
       "      <th>visits</th>\n",
       "      <th></th>\n",
       "      <th></th>\n",
       "    </tr>\n",
       "  </thead>\n",
       "  <tbody>\n",
       "    <tr>\n",
       "      <th>1.0</th>\n",
       "      <td>6425</td>\n",
       "      <td>8.527205e+11</td>\n",
       "    </tr>\n",
       "  </tbody>\n",
       "</table>\n",
       "</div>"
      ],
      "text/plain": [
       "        count           sum\n",
       "visits                     \n",
       "1.0      6425  8.527205e+11"
      ]
     },
     "execution_count": 24,
     "metadata": {},
     "output_type": "execute_result"
    }
   ],
   "source": [
    "# can ignore visits? May be, may be not!\n",
    "grp9"
   ]
  },
  {
   "cell_type": "code",
   "execution_count": 25,
   "metadata": {},
   "outputs": [
    {
     "data": {
      "text/html": [
       "<div>\n",
       "<style scoped>\n",
       "    .dataframe tbody tr th:only-of-type {\n",
       "        vertical-align: middle;\n",
       "    }\n",
       "\n",
       "    .dataframe tbody tr th {\n",
       "        vertical-align: top;\n",
       "    }\n",
       "\n",
       "    .dataframe thead th {\n",
       "        text-align: right;\n",
       "    }\n",
       "</style>\n",
       "<table border=\"1\" class=\"dataframe\">\n",
       "  <thead>\n",
       "    <tr style=\"text-align: right;\">\n",
       "      <th></th>\n",
       "      <th>count</th>\n",
       "      <th>sum</th>\n",
       "    </tr>\n",
       "    <tr>\n",
       "      <th>newVisits</th>\n",
       "      <th></th>\n",
       "      <th></th>\n",
       "    </tr>\n",
       "  </thead>\n",
       "  <tbody>\n",
       "    <tr>\n",
       "      <th>1.0</th>\n",
       "      <td>2500</td>\n",
       "      <td>2.055410e+11</td>\n",
       "    </tr>\n",
       "  </tbody>\n",
       "</table>\n",
       "</div>"
      ],
      "text/plain": [
       "           count           sum\n",
       "newVisits                     \n",
       "1.0         2500  2.055410e+11"
      ]
     },
     "execution_count": 25,
     "metadata": {},
     "output_type": "execute_result"
    }
   ],
   "source": [
    "# can ignore new visits? May be, may be not!\n",
    "grp10"
   ]
  },
  {
   "cell_type": "code",
   "execution_count": 26,
   "metadata": {},
   "outputs": [],
   "source": [
    "# Inspect if any particular browser is contributing to revenue\n",
    "\n",
    "grp11 = train_df.groupby('device.browser')['transactionRevenue'].agg(['size', 'count', 'sum'])\n",
    "grp11 = grp11.sort_values(by=\"sum\", ascending=False)"
   ]
  },
  {
   "cell_type": "code",
   "execution_count": 27,
   "metadata": {
    "scrolled": true
   },
   "outputs": [
    {
     "data": {
      "image/png": "[encoded data removed]",
      "text/plain": [
       "<Figure size 432x288 with 1 Axes>"
      ]
     },
     "metadata": {
      "needs_background": "light"
     },
     "output_type": "display_data"
    }
   ],
   "source": [
    "plt.ylabel('Sum of Revenue')\n",
    "plt.xlabel('Browser')\n",
    "plt.scatter(range(grp11.shape[0]), np.sort(np.log1p(grp11['sum'])))\n",
    "plt.show()\n"
   ]
  },
  {
   "cell_type": "code",
   "execution_count": 28,
   "metadata": {},
   "outputs": [
    {
     "data": {
      "text/html": [
       "<div>\n",
       "<style scoped>\n",
       "    .dataframe tbody tr th:only-of-type {\n",
       "        vertical-align: middle;\n",
       "    }\n",
       "\n",
       "    .dataframe tbody tr th {\n",
       "        vertical-align: top;\n",
       "    }\n",
       "\n",
       "    .dataframe thead th {\n",
       "        text-align: right;\n",
       "    }\n",
       "</style>\n",
       "<table border=\"1\" class=\"dataframe\">\n",
       "  <thead>\n",
       "    <tr style=\"text-align: right;\">\n",
       "      <th></th>\n",
       "      <th>size</th>\n",
       "      <th>count</th>\n",
       "      <th>sum</th>\n",
       "    </tr>\n",
       "    <tr>\n",
       "      <th>device.browser</th>\n",
       "      <th></th>\n",
       "      <th></th>\n",
       "      <th></th>\n",
       "    </tr>\n",
       "  </thead>\n",
       "  <tbody>\n",
       "    <tr>\n",
       "      <th>Chrome</th>\n",
       "      <td>342494</td>\n",
       "      <td>5791</td>\n",
       "      <td>7.651496e+11</td>\n",
       "    </tr>\n",
       "    <tr>\n",
       "      <th>Firefox</th>\n",
       "      <td>20213</td>\n",
       "      <td>111</td>\n",
       "      <td>4.986781e+10</td>\n",
       "    </tr>\n",
       "    <tr>\n",
       "      <th>Safari</th>\n",
       "      <td>103920</td>\n",
       "      <td>429</td>\n",
       "      <td>3.258092e+10</td>\n",
       "    </tr>\n",
       "    <tr>\n",
       "      <th>Internet Explorer</th>\n",
       "      <td>10704</td>\n",
       "      <td>57</td>\n",
       "      <td>2.564660e+09</td>\n",
       "    </tr>\n",
       "    <tr>\n",
       "      <th>Edge</th>\n",
       "      <td>5466</td>\n",
       "      <td>27</td>\n",
       "      <td>2.345740e+09</td>\n",
       "    </tr>\n",
       "    <tr>\n",
       "      <th>Safari (in-app)</th>\n",
       "      <td>2911</td>\n",
       "      <td>5</td>\n",
       "      <td>7.790000e+07</td>\n",
       "    </tr>\n",
       "    <tr>\n",
       "      <th>Opera</th>\n",
       "      <td>3190</td>\n",
       "      <td>1</td>\n",
       "      <td>5.697000e+07</td>\n",
       "    </tr>\n",
       "    <tr>\n",
       "      <th>Android Webview</th>\n",
       "      <td>3578</td>\n",
       "      <td>3</td>\n",
       "      <td>4.690000e+07</td>\n",
       "    </tr>\n",
       "    <tr>\n",
       "      <th>Amazon Silk</th>\n",
       "      <td>314</td>\n",
       "      <td>1</td>\n",
       "      <td>2.999000e+07</td>\n",
       "    </tr>\n",
       "    <tr>\n",
       "      <th>Nichrome</th>\n",
       "      <td>7</td>\n",
       "      <td>0</td>\n",
       "      <td>0.000000e+00</td>\n",
       "    </tr>\n",
       "    <tr>\n",
       "      <th>Nintendo Browser</th>\n",
       "      <td>80</td>\n",
       "      <td>0</td>\n",
       "      <td>0.000000e+00</td>\n",
       "    </tr>\n",
       "    <tr>\n",
       "      <th>Nokia Browser</th>\n",
       "      <td>41</td>\n",
       "      <td>0</td>\n",
       "      <td>0.000000e+00</td>\n",
       "    </tr>\n",
       "    <tr>\n",
       "      <th>NokiaE52-1</th>\n",
       "      <td>1</td>\n",
       "      <td>0</td>\n",
       "      <td>0.000000e+00</td>\n",
       "    </tr>\n",
       "    <tr>\n",
       "      <th>Opera Mini</th>\n",
       "      <td>3217</td>\n",
       "      <td>0</td>\n",
       "      <td>0.000000e+00</td>\n",
       "    </tr>\n",
       "    <tr>\n",
       "      <th>Puffin</th>\n",
       "      <td>41</td>\n",
       "      <td>0</td>\n",
       "      <td>0.000000e+00</td>\n",
       "    </tr>\n",
       "  </tbody>\n",
       "</table>\n",
       "</div>"
      ],
      "text/plain": [
       "                     size  count           sum\n",
       "device.browser                                \n",
       "Chrome             342494   5791  7.651496e+11\n",
       "Firefox             20213    111  4.986781e+10\n",
       "Safari             103920    429  3.258092e+10\n",
       "Internet Explorer   10704     57  2.564660e+09\n",
       "Edge                 5466     27  2.345740e+09\n",
       "Safari (in-app)      2911      5  7.790000e+07\n",
       "Opera                3190      1  5.697000e+07\n",
       "Android Webview      3578      3  4.690000e+07\n",
       "Amazon Silk           314      1  2.999000e+07\n",
       "Nichrome                7      0  0.000000e+00\n",
       "Nintendo Browser       80      0  0.000000e+00\n",
       "Nokia Browser          41      0  0.000000e+00\n",
       "NokiaE52-1              1      0  0.000000e+00\n",
       "Opera Mini           3217      0  0.000000e+00\n",
       "Puffin                 41      0  0.000000e+00"
      ]
     },
     "execution_count": 28,
     "metadata": {},
     "output_type": "execute_result"
    }
   ],
   "source": [
    "grp11.head(15)"
   ]
  },
  {
   "cell_type": "code",
   "execution_count": 29,
   "metadata": {},
   "outputs": [],
   "source": [
    "#Add new features from nested features\n",
    "\n",
    "train_df[\"campaign\"] = train_df[\"trafficSource.campaign\"]\n",
    "train_df.drop(['trafficSource.campaign'], axis=1, inplace=True)\n",
    "\n",
    "train_df[\"source\"] = train_df[\"trafficSource.source\"]\n",
    "train_df.drop(['trafficSource.source'], axis=1, inplace=True)\n",
    "\n",
    "train_df[\"isMobile\"] = train_df[\"device.isMobile\"]\n",
    "train_df.drop(['device.isMobile'], axis=1, inplace=True)\n",
    "\n",
    "train_df[\"operatingSystem\"] = train_df[\"device.operatingSystem\"]\n",
    "train_df.drop(['device.operatingSystem'], axis=1, inplace=True)\n",
    "\n",
    "train_df[\"continent\"] = train_df[\"geoNetwork.continent\"]\n",
    "train_df.drop(['geoNetwork.continent'], axis=1, inplace=True)\n",
    "\n",
    "train_df[\"country\"] = train_df[\"geoNetwork.country\"]\n",
    "train_df.drop(['geoNetwork.country'], axis=1, inplace=True)\n",
    "\n",
    "train_df[\"region\"] = train_df[\"geoNetwork.region\"]\n",
    "train_df.drop(['geoNetwork.region'], axis=1, inplace=True)\n",
    "\n",
    "train_df[\"subContinent\"] = train_df[\"geoNetwork.subContinent\"]\n",
    "train_df.drop(['geoNetwork.subContinent'], axis=1, inplace=True)"
   ]
  },
  {
   "cell_type": "code",
   "execution_count": 30,
   "metadata": {},
   "outputs": [],
   "source": [
    "train_df[\"latitude\"] = train_df[\"geoNetwork.latitude\"]\n",
    "train_df.drop(['geoNetwork.latitude'], axis=1, inplace=True)\n",
    "\n",
    "train_df[\"longitude\"] = train_df[\"geoNetwork.longitude\"]\n",
    "train_df.drop(['geoNetwork.longitude'], axis=1, inplace=True)"
   ]
  },
  {
   "cell_type": "code",
   "execution_count": 31,
   "metadata": {},
   "outputs": [],
   "source": [
    "#channelGrouping, socialEngagementType, trafficSource.campaign , trafficSource.source \n",
    "#device.isMobile, device.operatingSystem , geoNetwork.continent, geoNetwork.country, geoNetwork.region, geoNetwork.subContinent "
   ]
  },
  {
   "cell_type": "code",
   "execution_count": 32,
   "metadata": {},
   "outputs": [],
   "source": [
    "# Analyze for scatter plot distributions for various features against Transaction revenue\n",
    "\n",
    "grp12 = train_df.groupby(\"campaign\")[\"transactionRevenue\"].agg(['count', 'sum'])\n",
    "grp13 = train_df.groupby(\"source\")[\"transactionRevenue\"].agg(['count', 'sum'])\n",
    "grp14 = train_df.groupby(\"isMobile\")[\"transactionRevenue\"].agg(['count', 'sum'])\n",
    "grp15 = train_df.groupby(\"operatingSystem\")[\"transactionRevenue\"].agg(['count', 'sum'])\n",
    "grp16 = train_df.groupby(\"continent\")[\"transactionRevenue\"].agg(['count', 'sum'])\n",
    "grp17 = train_df.groupby(\"country\")[\"transactionRevenue\"].agg(['count', 'sum'])\n",
    "grp18 = train_df.groupby(\"region\")[\"transactionRevenue\"].agg(['count', 'sum'])\n",
    "grp19 = train_df.groupby(\"subContinent\")[\"transactionRevenue\"].agg(['count', 'sum'])\n",
    "grp20 = train_df.groupby(\"latitude\")[\"transactionRevenue\"].agg(['count', 'sum'])\n",
    "grp21 = train_df.groupby(\"longitude\")[\"transactionRevenue\"].agg(['count', 'sum'])"
   ]
  },
  {
   "cell_type": "code",
   "execution_count": 33,
   "metadata": {},
   "outputs": [
    {
     "data": {
      "image/png": "[encoded data removed]",
      "text/plain": [
       "<Figure size 432x288 with 1 Axes>"
      ]
     },
     "metadata": {
      "needs_background": "light"
     },
     "output_type": "display_data"
    },
    {
     "data": {
      "image/png": "[encoded data removed]",
      "text/plain": [
       "<Figure size 432x288 with 1 Axes>"
      ]
     },
     "metadata": {
      "needs_background": "light"
     },
     "output_type": "display_data"
    },
    {
     "data": {
      "image/png": "[encoded data removed]",
      "text/plain": [
       "<Figure size 432x288 with 1 Axes>"
      ]
     },
     "metadata": {
      "needs_background": "light"
     },
     "output_type": "display_data"
    },
    {
     "data": {
      "image/png": "[encoded data removed]",
      "text/plain": [
       "<Figure size 432x288 with 1 Axes>"
      ]
     },
     "metadata": {
      "needs_background": "light"
     },
     "output_type": "display_data"
    },
    {
     "data": {
      "image/png": "[encoded data removed]",
      "text/plain": [
       "<Figure size 432x288 with 1 Axes>"
      ]
     },
     "metadata": {
      "needs_background": "light"
     },
     "output_type": "display_data"
    },
    {
     "data": {
      "image/png": "[encoded data removed]",
      "text/plain": [
       "<Figure size 432x288 with 1 Axes>"
      ]
     },
     "metadata": {
      "needs_background": "light"
     },
     "output_type": "display_data"
    },
    {
     "data": {
      "image/png": "[encoded data removed]",
      "text/plain": [
       "<Figure size 432x288 with 1 Axes>"
      ]
     },
     "metadata": {
      "needs_background": "light"
     },
     "output_type": "display_data"
    },
    {
     "data": {
      "image/png": "[encoded data removed]",
      "text/plain": [
       "<Figure size 432x288 with 1 Axes>"
      ]
     },
     "metadata": {
      "needs_background": "light"
     },
     "output_type": "display_data"
    },
    {
     "data": {
      "image/png": "[encoded data removed]",
      "text/plain": [
       "<Figure size 432x288 with 1 Axes>"
      ]
     },
     "metadata": {
      "needs_background": "light"
     },
     "output_type": "display_data"
    },
    {
     "data": {
      "image/png": "[encoded data removed]",
      "text/plain": [
       "<Figure size 432x288 with 1 Axes>"
      ]
     },
     "metadata": {
      "needs_background": "light"
     },
     "output_type": "display_data"
    },
    {
     "data": {
      "image/png": "[encoded data removed]",
      "text/plain": [
       "<Figure size 432x288 with 1 Axes>"
      ]
     },
     "metadata": {
      "needs_background": "light"
     },
     "output_type": "display_data"
    },
    {
     "data": {
      "image/png": "[encoded data removed]",
      "text/plain": [
       "<Figure size 432x288 with 1 Axes>"
      ]
     },
     "metadata": {
      "needs_background": "light"
     },
     "output_type": "display_data"
    },
    {
     "data": {
      "image/png": "[encoded data removed]",
      "text/plain": [
       "<Figure size 432x288 with 1 Axes>"
      ]
     },
     "metadata": {
      "needs_background": "light"
     },
     "output_type": "display_data"
    }
   ],
   "source": [
    "plt.ylabel('Sum of Revenue')\n",
    "plt.xlabel('campaign')\n",
    "plt.scatter(range(grp12.shape[0]), np.sort(np.log1p(grp12['sum'])))\n",
    "plt.show()\n",
    "\n",
    "plt.ylabel('Sum of Revenue')\n",
    "plt.xlabel('source')\n",
    "plt.scatter(range(grp13.shape[0]), np.sort(np.log1p(grp13['sum'])))\n",
    "plt.show()\n",
    "\n",
    "plt.ylabel('Sum of Revenue')\n",
    "plt.xlabel('is Mobile?')\n",
    "plt.scatter(range(grp14.shape[0]), np.sort(np.log1p(grp14['sum'])))\n",
    "plt.show()\n",
    "\n",
    "plt.ylabel('Count')\n",
    "plt.xlabel('is Mobile?')\n",
    "plt.scatter(range(grp14.shape[0]), np.sort(np.log1p(grp14['count'])))\n",
    "plt.show()\n",
    "\n",
    "\n",
    "plt.ylabel('Sum of Revenue')\n",
    "plt.xlabel('OS')\n",
    "plt.scatter(range(grp15.shape[0]), np.sort(np.log1p(grp15['sum'])))\n",
    "plt.show()\n",
    "\n",
    "plt.ylabel('Sum of Revenue')\n",
    "plt.xlabel('continent')\n",
    "plt.scatter(range(grp16.shape[0]), np.sort(np.log1p(grp16['sum'])))\n",
    "plt.show()\n",
    "\n",
    "plt.ylabel('Sum of Revenue')\n",
    "plt.xlabel('country')\n",
    "plt.scatter(range(grp17.shape[0]), np.sort(np.log1p(grp17['sum'])))\n",
    "plt.show()\n",
    "\n",
    "plt.ylabel('Sum of Revenue')\n",
    "plt.xlabel('region')\n",
    "plt.scatter(range(grp18.shape[0]), np.sort(np.log1p(grp18['sum'])))\n",
    "plt.show()\n",
    "\n",
    "plt.ylabel('Sum of Revenue')\n",
    "plt.xlabel('subContinent')\n",
    "plt.scatter(range(grp19.shape[0]), np.sort(np.log1p(grp19['sum'])))\n",
    "plt.show()\n",
    "\n",
    "plt.ylabel('Sum of Revenue')\n",
    "plt.xlabel('subContinent')\n",
    "plt.scatter(range(grp19.shape[0]), np.sort(np.log1p(grp19['sum'])))\n",
    "plt.show()\n",
    "\n",
    "plt.ylabel('Sum of Revenue')\n",
    "plt.xlabel('subContinent')\n",
    "plt.scatter(range(grp19.shape[0]), np.sort(np.log1p(grp19['sum'])))\n",
    "plt.show()\n",
    "\n",
    "plt.ylabel('Sum of Revenue')\n",
    "plt.xlabel('latitude')\n",
    "plt.scatter(range(grp20.shape[0]), np.sort(np.log1p(grp20['sum'])))\n",
    "plt.show()\n",
    "\n",
    "plt.ylabel('Sum of Revenue')\n",
    "plt.xlabel('longitude')\n",
    "plt.scatter(range(grp21.shape[0]), np.sort(np.log1p(grp21['sum'])))\n",
    "plt.show()"
   ]
  },
  {
   "cell_type": "code",
   "execution_count": 34,
   "metadata": {},
   "outputs": [
    {
     "data": {
      "text/html": [
       "<div>\n",
       "<style scoped>\n",
       "    .dataframe tbody tr th:only-of-type {\n",
       "        vertical-align: middle;\n",
       "    }\n",
       "\n",
       "    .dataframe tbody tr th {\n",
       "        vertical-align: top;\n",
       "    }\n",
       "\n",
       "    .dataframe thead th {\n",
       "        text-align: right;\n",
       "    }\n",
       "</style>\n",
       "<table border=\"1\" class=\"dataframe\">\n",
       "  <thead>\n",
       "    <tr style=\"text-align: right;\">\n",
       "      <th></th>\n",
       "      <th>count</th>\n",
       "      <th>sum</th>\n",
       "    </tr>\n",
       "    <tr>\n",
       "      <th>isMobile</th>\n",
       "      <th></th>\n",
       "      <th></th>\n",
       "    </tr>\n",
       "  </thead>\n",
       "  <tbody>\n",
       "    <tr>\n",
       "      <th>False</th>\n",
       "      <td>5861</td>\n",
       "      <td>8.172520e+11</td>\n",
       "    </tr>\n",
       "    <tr>\n",
       "      <th>True</th>\n",
       "      <td>564</td>\n",
       "      <td>3.546854e+10</td>\n",
       "    </tr>\n",
       "  </tbody>\n",
       "</table>\n",
       "</div>"
      ],
      "text/plain": [
       "          count           sum\n",
       "isMobile                     \n",
       "False      5861  8.172520e+11\n",
       "True        564  3.546854e+10"
      ]
     },
     "execution_count": 34,
     "metadata": {},
     "output_type": "execute_result"
    }
   ],
   "source": [
    "# Inspect for revenue vs mobile/browser based\n",
    "grp14"
   ]
  },
  {
   "cell_type": "code",
   "execution_count": 35,
   "metadata": {},
   "outputs": [
    {
     "data": {
      "text/html": [
       "<div>\n",
       "<style scoped>\n",
       "    .dataframe tbody tr th:only-of-type {\n",
       "        vertical-align: middle;\n",
       "    }\n",
       "\n",
       "    .dataframe tbody tr th {\n",
       "        vertical-align: top;\n",
       "    }\n",
       "\n",
       "    .dataframe thead th {\n",
       "        text-align: right;\n",
       "    }\n",
       "</style>\n",
       "<table border=\"1\" class=\"dataframe\">\n",
       "  <thead>\n",
       "    <tr style=\"text-align: right;\">\n",
       "      <th></th>\n",
       "      <th>count</th>\n",
       "      <th>sum</th>\n",
       "    </tr>\n",
       "    <tr>\n",
       "      <th>operatingSystem</th>\n",
       "      <th></th>\n",
       "      <th></th>\n",
       "    </tr>\n",
       "  </thead>\n",
       "  <tbody>\n",
       "    <tr>\n",
       "      <th>Macintosh</th>\n",
       "      <td>3561</td>\n",
       "      <td>4.623262e+11</td>\n",
       "    </tr>\n",
       "    <tr>\n",
       "      <th>Windows</th>\n",
       "      <td>1269</td>\n",
       "      <td>2.216711e+11</td>\n",
       "    </tr>\n",
       "    <tr>\n",
       "      <th>Chrome OS</th>\n",
       "      <td>555</td>\n",
       "      <td>1.058143e+11</td>\n",
       "    </tr>\n",
       "    <tr>\n",
       "      <th>Linux</th>\n",
       "      <td>485</td>\n",
       "      <td>2.772898e+10</td>\n",
       "    </tr>\n",
       "    <tr>\n",
       "      <th>Android</th>\n",
       "      <td>259</td>\n",
       "      <td>2.314271e+10</td>\n",
       "    </tr>\n",
       "    <tr>\n",
       "      <th>iOS</th>\n",
       "      <td>295</td>\n",
       "      <td>1.201075e+10</td>\n",
       "    </tr>\n",
       "    <tr>\n",
       "      <th>Windows Phone</th>\n",
       "      <td>1</td>\n",
       "      <td>2.640000e+07</td>\n",
       "    </tr>\n",
       "    <tr>\n",
       "      <th>Nokia</th>\n",
       "      <td>0</td>\n",
       "      <td>0.000000e+00</td>\n",
       "    </tr>\n",
       "    <tr>\n",
       "      <th>Xbox</th>\n",
       "      <td>0</td>\n",
       "      <td>0.000000e+00</td>\n",
       "    </tr>\n",
       "    <tr>\n",
       "      <th>Samsung</th>\n",
       "      <td>0</td>\n",
       "      <td>0.000000e+00</td>\n",
       "    </tr>\n",
       "  </tbody>\n",
       "</table>\n",
       "</div>"
      ],
      "text/plain": [
       "                 count           sum\n",
       "operatingSystem                     \n",
       "Macintosh         3561  4.623262e+11\n",
       "Windows           1269  2.216711e+11\n",
       "Chrome OS          555  1.058143e+11\n",
       "Linux              485  2.772898e+10\n",
       "Android            259  2.314271e+10\n",
       "iOS                295  1.201075e+10\n",
       "Windows Phone        1  2.640000e+07\n",
       "Nokia                0  0.000000e+00\n",
       "Xbox                 0  0.000000e+00\n",
       "Samsung              0  0.000000e+00"
      ]
     },
     "execution_count": 35,
     "metadata": {},
     "output_type": "execute_result"
    }
   ],
   "source": [
    "# see which OS is contributing to transaction revenue\n",
    "\n",
    "grp15 = grp15.sort_values(by=\"sum\", ascending=False)\n",
    "grp15.head(10)"
   ]
  },
  {
   "cell_type": "code",
   "execution_count": 36,
   "metadata": {},
   "outputs": [
    {
     "data": {
      "text/html": [
       "<div>\n",
       "<style scoped>\n",
       "    .dataframe tbody tr th:only-of-type {\n",
       "        vertical-align: middle;\n",
       "    }\n",
       "\n",
       "    .dataframe tbody tr th {\n",
       "        vertical-align: top;\n",
       "    }\n",
       "\n",
       "    .dataframe thead th {\n",
       "        text-align: right;\n",
       "    }\n",
       "</style>\n",
       "<table border=\"1\" class=\"dataframe\">\n",
       "  <thead>\n",
       "    <tr style=\"text-align: right;\">\n",
       "      <th></th>\n",
       "      <th>count</th>\n",
       "      <th>sum</th>\n",
       "    </tr>\n",
       "    <tr>\n",
       "      <th>continent</th>\n",
       "      <th></th>\n",
       "      <th></th>\n",
       "    </tr>\n",
       "  </thead>\n",
       "  <tbody>\n",
       "    <tr>\n",
       "      <th>Americas</th>\n",
       "      <td>6304</td>\n",
       "      <td>8.326969e+11</td>\n",
       "    </tr>\n",
       "    <tr>\n",
       "      <th>Asia</th>\n",
       "      <td>68</td>\n",
       "      <td>1.126966e+10</td>\n",
       "    </tr>\n",
       "    <tr>\n",
       "      <th>Africa</th>\n",
       "      <td>2</td>\n",
       "      <td>3.794000e+09</td>\n",
       "    </tr>\n",
       "    <tr>\n",
       "      <th>Europe</th>\n",
       "      <td>40</td>\n",
       "      <td>3.251060e+09</td>\n",
       "    </tr>\n",
       "    <tr>\n",
       "      <th>Oceania</th>\n",
       "      <td>7</td>\n",
       "      <td>1.136420e+09</td>\n",
       "    </tr>\n",
       "    <tr>\n",
       "      <th>(not set)</th>\n",
       "      <td>4</td>\n",
       "      <td>5.725000e+08</td>\n",
       "    </tr>\n",
       "  </tbody>\n",
       "</table>\n",
       "</div>"
      ],
      "text/plain": [
       "           count           sum\n",
       "continent                     \n",
       "Americas    6304  8.326969e+11\n",
       "Asia          68  1.126966e+10\n",
       "Africa         2  3.794000e+09\n",
       "Europe        40  3.251060e+09\n",
       "Oceania        7  1.136420e+09\n",
       "(not set)      4  5.725000e+08"
      ]
     },
     "execution_count": 36,
     "metadata": {},
     "output_type": "execute_result"
    }
   ],
   "source": [
    "# see which continent is contributing to most revenue\n",
    "grp16 = grp16.sort_values(by=\"sum\", ascending=False)\n",
    "grp16.head(10)"
   ]
  },
  {
   "cell_type": "code",
   "execution_count": 37,
   "metadata": {},
   "outputs": [
    {
     "data": {
      "text/html": [
       "<div>\n",
       "<style scoped>\n",
       "    .dataframe tbody tr th:only-of-type {\n",
       "        vertical-align: middle;\n",
       "    }\n",
       "\n",
       "    .dataframe tbody tr th {\n",
       "        vertical-align: top;\n",
       "    }\n",
       "\n",
       "    .dataframe thead th {\n",
       "        text-align: right;\n",
       "    }\n",
       "</style>\n",
       "<table border=\"1\" class=\"dataframe\">\n",
       "  <thead>\n",
       "    <tr style=\"text-align: right;\">\n",
       "      <th></th>\n",
       "      <th>count</th>\n",
       "      <th>sum</th>\n",
       "    </tr>\n",
       "    <tr>\n",
       "      <th>country</th>\n",
       "      <th></th>\n",
       "      <th></th>\n",
       "    </tr>\n",
       "  </thead>\n",
       "  <tbody>\n",
       "    <tr>\n",
       "      <th>United States</th>\n",
       "      <td>6125</td>\n",
       "      <td>7.998991e+11</td>\n",
       "    </tr>\n",
       "    <tr>\n",
       "      <th>Canada</th>\n",
       "      <td>98</td>\n",
       "      <td>1.927734e+10</td>\n",
       "    </tr>\n",
       "    <tr>\n",
       "      <th>Venezuela</th>\n",
       "      <td>43</td>\n",
       "      <td>1.066741e+10</td>\n",
       "    </tr>\n",
       "    <tr>\n",
       "      <th>Japan</th>\n",
       "      <td>12</td>\n",
       "      <td>5.000620e+09</td>\n",
       "    </tr>\n",
       "    <tr>\n",
       "      <th>Kenya</th>\n",
       "      <td>1</td>\n",
       "      <td>1.999600e+09</td>\n",
       "    </tr>\n",
       "    <tr>\n",
       "      <th>Nigeria</th>\n",
       "      <td>1</td>\n",
       "      <td>1.794400e+09</td>\n",
       "    </tr>\n",
       "    <tr>\n",
       "      <th>Indonesia</th>\n",
       "      <td>7</td>\n",
       "      <td>1.538520e+09</td>\n",
       "    </tr>\n",
       "    <tr>\n",
       "      <th>Hong Kong</th>\n",
       "      <td>7</td>\n",
       "      <td>1.313010e+09</td>\n",
       "    </tr>\n",
       "    <tr>\n",
       "      <th>United Kingdom</th>\n",
       "      <td>11</td>\n",
       "      <td>1.230820e+09</td>\n",
       "    </tr>\n",
       "    <tr>\n",
       "      <th>Australia</th>\n",
       "      <td>6</td>\n",
       "      <td>1.088450e+09</td>\n",
       "    </tr>\n",
       "    <tr>\n",
       "      <th>Puerto Rico</th>\n",
       "      <td>9</td>\n",
       "      <td>9.614800e+08</td>\n",
       "    </tr>\n",
       "    <tr>\n",
       "      <th>Mexico</th>\n",
       "      <td>9</td>\n",
       "      <td>7.662400e+08</td>\n",
       "    </tr>\n",
       "    <tr>\n",
       "      <th>(not set)</th>\n",
       "      <td>4</td>\n",
       "      <td>5.725000e+08</td>\n",
       "    </tr>\n",
       "    <tr>\n",
       "      <th>Taiwan</th>\n",
       "      <td>6</td>\n",
       "      <td>5.662800e+08</td>\n",
       "    </tr>\n",
       "    <tr>\n",
       "      <th>South Korea</th>\n",
       "      <td>5</td>\n",
       "      <td>5.419000e+08</td>\n",
       "    </tr>\n",
       "    <tr>\n",
       "      <th>Singapore</th>\n",
       "      <td>5</td>\n",
       "      <td>4.771200e+08</td>\n",
       "    </tr>\n",
       "    <tr>\n",
       "      <th>Switzerland</th>\n",
       "      <td>6</td>\n",
       "      <td>4.728000e+08</td>\n",
       "    </tr>\n",
       "    <tr>\n",
       "      <th>India</th>\n",
       "      <td>6</td>\n",
       "      <td>4.586900e+08</td>\n",
       "    </tr>\n",
       "    <tr>\n",
       "      <th>Ukraine</th>\n",
       "      <td>2</td>\n",
       "      <td>4.420400e+08</td>\n",
       "    </tr>\n",
       "    <tr>\n",
       "      <th>Malaysia</th>\n",
       "      <td>2</td>\n",
       "      <td>4.398500e+08</td>\n",
       "    </tr>\n",
       "    <tr>\n",
       "      <th>Colombia</th>\n",
       "      <td>5</td>\n",
       "      <td>2.830100e+08</td>\n",
       "    </tr>\n",
       "    <tr>\n",
       "      <th>Brazil</th>\n",
       "      <td>5</td>\n",
       "      <td>2.156000e+08</td>\n",
       "    </tr>\n",
       "    <tr>\n",
       "      <th>Netherlands</th>\n",
       "      <td>1</td>\n",
       "      <td>2.149300e+08</td>\n",
       "    </tr>\n",
       "    <tr>\n",
       "      <th>Chile</th>\n",
       "      <td>3</td>\n",
       "      <td>2.134700e+08</td>\n",
       "    </tr>\n",
       "    <tr>\n",
       "      <th>Ecuador</th>\n",
       "      <td>2</td>\n",
       "      <td>2.108700e+08</td>\n",
       "    </tr>\n",
       "    <tr>\n",
       "      <th>Argentina</th>\n",
       "      <td>2</td>\n",
       "      <td>1.739300e+08</td>\n",
       "    </tr>\n",
       "    <tr>\n",
       "      <th>Germany</th>\n",
       "      <td>3</td>\n",
       "      <td>1.489200e+08</td>\n",
       "    </tr>\n",
       "    <tr>\n",
       "      <th>China</th>\n",
       "      <td>4</td>\n",
       "      <td>1.413900e+08</td>\n",
       "    </tr>\n",
       "    <tr>\n",
       "      <th>Greece</th>\n",
       "      <td>2</td>\n",
       "      <td>1.273500e+08</td>\n",
       "    </tr>\n",
       "    <tr>\n",
       "      <th>France</th>\n",
       "      <td>1</td>\n",
       "      <td>1.257000e+08</td>\n",
       "    </tr>\n",
       "    <tr>\n",
       "      <th>Philippines</th>\n",
       "      <td>2</td>\n",
       "      <td>1.210400e+08</td>\n",
       "    </tr>\n",
       "    <tr>\n",
       "      <th>Saudi Arabia</th>\n",
       "      <td>1</td>\n",
       "      <td>1.189600e+08</td>\n",
       "    </tr>\n",
       "    <tr>\n",
       "      <th>Kuwait</th>\n",
       "      <td>1</td>\n",
       "      <td>1.179400e+08</td>\n",
       "    </tr>\n",
       "    <tr>\n",
       "      <th>Israel</th>\n",
       "      <td>3</td>\n",
       "      <td>1.047100e+08</td>\n",
       "    </tr>\n",
       "    <tr>\n",
       "      <th>United Arab Emirates</th>\n",
       "      <td>1</td>\n",
       "      <td>9.998000e+07</td>\n",
       "    </tr>\n",
       "  </tbody>\n",
       "</table>\n",
       "</div>"
      ],
      "text/plain": [
       "                      count           sum\n",
       "country                                  \n",
       "United States          6125  7.998991e+11\n",
       "Canada                   98  1.927734e+10\n",
       "Venezuela                43  1.066741e+10\n",
       "Japan                    12  5.000620e+09\n",
       "Kenya                     1  1.999600e+09\n",
       "Nigeria                   1  1.794400e+09\n",
       "Indonesia                 7  1.538520e+09\n",
       "Hong Kong                 7  1.313010e+09\n",
       "United Kingdom           11  1.230820e+09\n",
       "Australia                 6  1.088450e+09\n",
       "Puerto Rico               9  9.614800e+08\n",
       "Mexico                    9  7.662400e+08\n",
       "(not set)                 4  5.725000e+08\n",
       "Taiwan                    6  5.662800e+08\n",
       "South Korea               5  5.419000e+08\n",
       "Singapore                 5  4.771200e+08\n",
       "Switzerland               6  4.728000e+08\n",
       "India                     6  4.586900e+08\n",
       "Ukraine                   2  4.420400e+08\n",
       "Malaysia                  2  4.398500e+08\n",
       "Colombia                  5  2.830100e+08\n",
       "Brazil                    5  2.156000e+08\n",
       "Netherlands               1  2.149300e+08\n",
       "Chile                     3  2.134700e+08\n",
       "Ecuador                   2  2.108700e+08\n",
       "Argentina                 2  1.739300e+08\n",
       "Germany                   3  1.489200e+08\n",
       "China                     4  1.413900e+08\n",
       "Greece                    2  1.273500e+08\n",
       "France                    1  1.257000e+08\n",
       "Philippines               2  1.210400e+08\n",
       "Saudi Arabia              1  1.189600e+08\n",
       "Kuwait                    1  1.179400e+08\n",
       "Israel                    3  1.047100e+08\n",
       "United Arab Emirates      1  9.998000e+07"
      ]
     },
     "execution_count": 37,
     "metadata": {},
     "output_type": "execute_result"
    }
   ],
   "source": [
    "#looks like majority of the revenue data is from US\n",
    "grp17 = grp17.sort_values(by=\"sum\", ascending=False)\n",
    "grp17.head(35)"
   ]
  },
  {
   "cell_type": "code",
   "execution_count": 38,
   "metadata": {},
   "outputs": [
    {
     "data": {
      "text/html": [
       "<div>\n",
       "<style scoped>\n",
       "    .dataframe tbody tr th:only-of-type {\n",
       "        vertical-align: middle;\n",
       "    }\n",
       "\n",
       "    .dataframe tbody tr th {\n",
       "        vertical-align: top;\n",
       "    }\n",
       "\n",
       "    .dataframe thead th {\n",
       "        text-align: right;\n",
       "    }\n",
       "</style>\n",
       "<table border=\"1\" class=\"dataframe\">\n",
       "  <thead>\n",
       "    <tr style=\"text-align: right;\">\n",
       "      <th></th>\n",
       "      <th>count</th>\n",
       "      <th>sum</th>\n",
       "    </tr>\n",
       "    <tr>\n",
       "      <th>region</th>\n",
       "      <th></th>\n",
       "      <th></th>\n",
       "    </tr>\n",
       "  </thead>\n",
       "  <tbody>\n",
       "    <tr>\n",
       "      <th>not available in demo dataset</th>\n",
       "      <td>2493</td>\n",
       "      <td>3.449588e+11</td>\n",
       "    </tr>\n",
       "    <tr>\n",
       "      <th>California</th>\n",
       "      <td>1860</td>\n",
       "      <td>2.086902e+11</td>\n",
       "    </tr>\n",
       "    <tr>\n",
       "      <th>New York</th>\n",
       "      <td>881</td>\n",
       "      <td>1.202255e+11</td>\n",
       "    </tr>\n",
       "    <tr>\n",
       "      <th>Illinois</th>\n",
       "      <td>233</td>\n",
       "      <td>4.086621e+10</td>\n",
       "    </tr>\n",
       "    <tr>\n",
       "      <th>Washington</th>\n",
       "      <td>188</td>\n",
       "      <td>2.177767e+10</td>\n",
       "    </tr>\n",
       "    <tr>\n",
       "      <th>Virginia</th>\n",
       "      <td>37</td>\n",
       "      <td>1.822359e+10</td>\n",
       "    </tr>\n",
       "    <tr>\n",
       "      <th>Texas</th>\n",
       "      <td>170</td>\n",
       "      <td>1.659546e+10</td>\n",
       "    </tr>\n",
       "    <tr>\n",
       "      <th>Michigan</th>\n",
       "      <td>110</td>\n",
       "      <td>1.656069e+10</td>\n",
       "    </tr>\n",
       "    <tr>\n",
       "      <th>Ontario</th>\n",
       "      <td>44</td>\n",
       "      <td>1.127629e+10</td>\n",
       "    </tr>\n",
       "    <tr>\n",
       "      <th>Massachusetts</th>\n",
       "      <td>74</td>\n",
       "      <td>1.022894e+10</td>\n",
       "    </tr>\n",
       "    <tr>\n",
       "      <th>District of Columbia</th>\n",
       "      <td>55</td>\n",
       "      <td>6.484910e+09</td>\n",
       "    </tr>\n",
       "    <tr>\n",
       "      <th>Georgia</th>\n",
       "      <td>45</td>\n",
       "      <td>6.304050e+09</td>\n",
       "    </tr>\n",
       "    <tr>\n",
       "      <th>Zulia</th>\n",
       "      <td>27</td>\n",
       "      <td>4.101240e+09</td>\n",
       "    </tr>\n",
       "    <tr>\n",
       "      <th>Tokyo</th>\n",
       "      <td>2</td>\n",
       "      <td>3.484750e+09</td>\n",
       "    </tr>\n",
       "    <tr>\n",
       "      <th>(not set)</th>\n",
       "      <td>26</td>\n",
       "      <td>3.326010e+09</td>\n",
       "    </tr>\n",
       "    <tr>\n",
       "      <th>Colorado</th>\n",
       "      <td>22</td>\n",
       "      <td>2.327630e+09</td>\n",
       "    </tr>\n",
       "    <tr>\n",
       "      <th>Tennessee</th>\n",
       "      <td>8</td>\n",
       "      <td>2.213650e+09</td>\n",
       "    </tr>\n",
       "    <tr>\n",
       "      <th>Pennsylvania</th>\n",
       "      <td>23</td>\n",
       "      <td>1.649670e+09</td>\n",
       "    </tr>\n",
       "    <tr>\n",
       "      <th>Jakarta</th>\n",
       "      <td>6</td>\n",
       "      <td>1.266500e+09</td>\n",
       "    </tr>\n",
       "    <tr>\n",
       "      <th>North Carolina</th>\n",
       "      <td>8</td>\n",
       "      <td>1.264640e+09</td>\n",
       "    </tr>\n",
       "    <tr>\n",
       "      <th>England</th>\n",
       "      <td>8</td>\n",
       "      <td>1.137700e+09</td>\n",
       "    </tr>\n",
       "    <tr>\n",
       "      <th>New Jersey</th>\n",
       "      <td>10</td>\n",
       "      <td>1.066290e+09</td>\n",
       "    </tr>\n",
       "    <tr>\n",
       "      <th>Arizona</th>\n",
       "      <td>4</td>\n",
       "      <td>1.042910e+09</td>\n",
       "    </tr>\n",
       "    <tr>\n",
       "      <th>Oregon</th>\n",
       "      <td>7</td>\n",
       "      <td>9.346500e+08</td>\n",
       "    </tr>\n",
       "    <tr>\n",
       "      <th>Alberta</th>\n",
       "      <td>2</td>\n",
       "      <td>8.776800e+08</td>\n",
       "    </tr>\n",
       "    <tr>\n",
       "      <th>Mexico City</th>\n",
       "      <td>5</td>\n",
       "      <td>6.008200e+08</td>\n",
       "    </tr>\n",
       "    <tr>\n",
       "      <th>Victoria</th>\n",
       "      <td>2</td>\n",
       "      <td>5.801400e+08</td>\n",
       "    </tr>\n",
       "    <tr>\n",
       "      <th>Seoul</th>\n",
       "      <td>4</td>\n",
       "      <td>5.249100e+08</td>\n",
       "    </tr>\n",
       "    <tr>\n",
       "      <th>New South Wales</th>\n",
       "      <td>4</td>\n",
       "      <td>5.083100e+08</td>\n",
       "    </tr>\n",
       "    <tr>\n",
       "      <th>Federal Territory of Kuala Lumpur</th>\n",
       "      <td>2</td>\n",
       "      <td>4.398500e+08</td>\n",
       "    </tr>\n",
       "    <tr>\n",
       "      <th>Quebec</th>\n",
       "      <td>7</td>\n",
       "      <td>3.698200e+08</td>\n",
       "    </tr>\n",
       "    <tr>\n",
       "      <th>Florida</th>\n",
       "      <td>6</td>\n",
       "      <td>2.977500e+08</td>\n",
       "    </tr>\n",
       "    <tr>\n",
       "      <th>South Carolina</th>\n",
       "      <td>3</td>\n",
       "      <td>2.554300e+08</td>\n",
       "    </tr>\n",
       "    <tr>\n",
       "      <th>Ile-de-France</th>\n",
       "      <td>2</td>\n",
       "      <td>2.264700e+08</td>\n",
       "    </tr>\n",
       "    <tr>\n",
       "      <th>Santiago Metropolitan Region</th>\n",
       "      <td>2</td>\n",
       "      <td>2.037400e+08</td>\n",
       "    </tr>\n",
       "    <tr>\n",
       "      <th>State of Sao Paulo</th>\n",
       "      <td>4</td>\n",
       "      <td>1.776200e+08</td>\n",
       "    </tr>\n",
       "    <tr>\n",
       "      <th>Nebraska</th>\n",
       "      <td>4</td>\n",
       "      <td>1.534500e+08</td>\n",
       "    </tr>\n",
       "    <tr>\n",
       "      <th>Taipei City</th>\n",
       "      <td>2</td>\n",
       "      <td>1.499000e+08</td>\n",
       "    </tr>\n",
       "    <tr>\n",
       "      <th>Zurich</th>\n",
       "      <td>2</td>\n",
       "      <td>1.296700e+08</td>\n",
       "    </tr>\n",
       "    <tr>\n",
       "      <th>Iowa</th>\n",
       "      <td>2</td>\n",
       "      <td>9.615000e+07</td>\n",
       "    </tr>\n",
       "    <tr>\n",
       "      <th>Nevada</th>\n",
       "      <td>2</td>\n",
       "      <td>9.198000e+07</td>\n",
       "    </tr>\n",
       "    <tr>\n",
       "      <th>State of Rio de Janeiro</th>\n",
       "      <td>2</td>\n",
       "      <td>8.837000e+07</td>\n",
       "    </tr>\n",
       "    <tr>\n",
       "      <th>County Dublin</th>\n",
       "      <td>3</td>\n",
       "      <td>8.713000e+07</td>\n",
       "    </tr>\n",
       "    <tr>\n",
       "      <th>Missouri</th>\n",
       "      <td>3</td>\n",
       "      <td>8.313000e+07</td>\n",
       "    </tr>\n",
       "    <tr>\n",
       "      <th>Delhi</th>\n",
       "      <td>1</td>\n",
       "      <td>7.762000e+07</td>\n",
       "    </tr>\n",
       "    <tr>\n",
       "      <th>Bucharest</th>\n",
       "      <td>1</td>\n",
       "      <td>7.596000e+07</td>\n",
       "    </tr>\n",
       "    <tr>\n",
       "      <th>Tel Aviv District</th>\n",
       "      <td>2</td>\n",
       "      <td>7.583000e+07</td>\n",
       "    </tr>\n",
       "    <tr>\n",
       "      <th>British Columbia</th>\n",
       "      <td>1</td>\n",
       "      <td>7.475000e+07</td>\n",
       "    </tr>\n",
       "    <tr>\n",
       "      <th>Stockholm County</th>\n",
       "      <td>1</td>\n",
       "      <td>6.260000e+07</td>\n",
       "    </tr>\n",
       "    <tr>\n",
       "      <th>Utah</th>\n",
       "      <td>2</td>\n",
       "      <td>6.096000e+07</td>\n",
       "    </tr>\n",
       "    <tr>\n",
       "      <th>Vienna</th>\n",
       "      <td>1</td>\n",
       "      <td>5.999000e+07</td>\n",
       "    </tr>\n",
       "    <tr>\n",
       "      <th>New Taipei City</th>\n",
       "      <td>1</td>\n",
       "      <td>4.757000e+07</td>\n",
       "    </tr>\n",
       "    <tr>\n",
       "      <th>Catalonia</th>\n",
       "      <td>1</td>\n",
       "      <td>3.228000e+07</td>\n",
       "    </tr>\n",
       "    <tr>\n",
       "      <th>Kanagawa Prefecture</th>\n",
       "      <td>1</td>\n",
       "      <td>2.888000e+07</td>\n",
       "    </tr>\n",
       "    <tr>\n",
       "      <th>Maryland</th>\n",
       "      <td>1</td>\n",
       "      <td>2.798000e+07</td>\n",
       "    </tr>\n",
       "    <tr>\n",
       "      <th>Attica</th>\n",
       "      <td>1</td>\n",
       "      <td>2.658000e+07</td>\n",
       "    </tr>\n",
       "    <tr>\n",
       "      <th>Bangkok</th>\n",
       "      <td>1</td>\n",
       "      <td>2.433000e+07</td>\n",
       "    </tr>\n",
       "    <tr>\n",
       "      <th>Gujarat</th>\n",
       "      <td>1</td>\n",
       "      <td>2.343000e+07</td>\n",
       "    </tr>\n",
       "    <tr>\n",
       "      <th>Ohio</th>\n",
       "      <td>1</td>\n",
       "      <td>1.999000e+07</td>\n",
       "    </tr>\n",
       "    <tr>\n",
       "      <th>Istanbul</th>\n",
       "      <td>1</td>\n",
       "      <td>1.746000e+07</td>\n",
       "    </tr>\n",
       "  </tbody>\n",
       "</table>\n",
       "</div>"
      ],
      "text/plain": [
       "                                   count           sum\n",
       "region                                                \n",
       "not available in demo dataset       2493  3.449588e+11\n",
       "California                          1860  2.086902e+11\n",
       "New York                             881  1.202255e+11\n",
       "Illinois                             233  4.086621e+10\n",
       "Washington                           188  2.177767e+10\n",
       "Virginia                              37  1.822359e+10\n",
       "Texas                                170  1.659546e+10\n",
       "Michigan                             110  1.656069e+10\n",
       "Ontario                               44  1.127629e+10\n",
       "Massachusetts                         74  1.022894e+10\n",
       "District of Columbia                  55  6.484910e+09\n",
       "Georgia                               45  6.304050e+09\n",
       "Zulia                                 27  4.101240e+09\n",
       "Tokyo                                  2  3.484750e+09\n",
       "(not set)                             26  3.326010e+09\n",
       "Colorado                              22  2.327630e+09\n",
       "Tennessee                              8  2.213650e+09\n",
       "Pennsylvania                          23  1.649670e+09\n",
       "Jakarta                                6  1.266500e+09\n",
       "North Carolina                         8  1.264640e+09\n",
       "England                                8  1.137700e+09\n",
       "New Jersey                            10  1.066290e+09\n",
       "Arizona                                4  1.042910e+09\n",
       "Oregon                                 7  9.346500e+08\n",
       "Alberta                                2  8.776800e+08\n",
       "Mexico City                            5  6.008200e+08\n",
       "Victoria                               2  5.801400e+08\n",
       "Seoul                                  4  5.249100e+08\n",
       "New South Wales                        4  5.083100e+08\n",
       "Federal Territory of Kuala Lumpur      2  4.398500e+08\n",
       "Quebec                                 7  3.698200e+08\n",
       "Florida                                6  2.977500e+08\n",
       "South Carolina                         3  2.554300e+08\n",
       "Ile-de-France                          2  2.264700e+08\n",
       "Santiago Metropolitan Region           2  2.037400e+08\n",
       "State of Sao Paulo                     4  1.776200e+08\n",
       "Nebraska                               4  1.534500e+08\n",
       "Taipei City                            2  1.499000e+08\n",
       "Zurich                                 2  1.296700e+08\n",
       "Iowa                                   2  9.615000e+07\n",
       "Nevada                                 2  9.198000e+07\n",
       "State of Rio de Janeiro                2  8.837000e+07\n",
       "County Dublin                          3  8.713000e+07\n",
       "Missouri                               3  8.313000e+07\n",
       "Delhi                                  1  7.762000e+07\n",
       "Bucharest                              1  7.596000e+07\n",
       "Tel Aviv District                      2  7.583000e+07\n",
       "British Columbia                       1  7.475000e+07\n",
       "Stockholm County                       1  6.260000e+07\n",
       "Utah                                   2  6.096000e+07\n",
       "Vienna                                 1  5.999000e+07\n",
       "New Taipei City                        1  4.757000e+07\n",
       "Catalonia                              1  3.228000e+07\n",
       "Kanagawa Prefecture                    1  2.888000e+07\n",
       "Maryland                               1  2.798000e+07\n",
       "Attica                                 1  2.658000e+07\n",
       "Bangkok                                1  2.433000e+07\n",
       "Gujarat                                1  2.343000e+07\n",
       "Ohio                                   1  1.999000e+07\n",
       "Istanbul                               1  1.746000e+07"
      ]
     },
     "execution_count": 38,
     "metadata": {},
     "output_type": "execute_result"
    }
   ],
   "source": [
    "grp18 = grp18.sort_values(by=\"sum\", ascending=False)\n",
    "grp18.head(60)\n",
    "#not available in demo dataset contributes to max revenue, should we really consider this feature? Need to assess!"
   ]
  },
  {
   "cell_type": "code",
   "execution_count": 39,
   "metadata": {},
   "outputs": [
    {
     "data": {
      "text/html": [
       "<div>\n",
       "<style scoped>\n",
       "    .dataframe tbody tr th:only-of-type {\n",
       "        vertical-align: middle;\n",
       "    }\n",
       "\n",
       "    .dataframe tbody tr th {\n",
       "        vertical-align: top;\n",
       "    }\n",
       "\n",
       "    .dataframe thead th {\n",
       "        text-align: right;\n",
       "    }\n",
       "</style>\n",
       "<table border=\"1\" class=\"dataframe\">\n",
       "  <thead>\n",
       "    <tr style=\"text-align: right;\">\n",
       "      <th></th>\n",
       "      <th>count</th>\n",
       "      <th>sum</th>\n",
       "    </tr>\n",
       "    <tr>\n",
       "      <th>subContinent</th>\n",
       "      <th></th>\n",
       "      <th></th>\n",
       "    </tr>\n",
       "  </thead>\n",
       "  <tbody>\n",
       "    <tr>\n",
       "      <th>Northern America</th>\n",
       "      <td>6223</td>\n",
       "      <td>8.191764e+11</td>\n",
       "    </tr>\n",
       "    <tr>\n",
       "      <th>South America</th>\n",
       "      <td>61</td>\n",
       "      <td>1.176779e+10</td>\n",
       "    </tr>\n",
       "    <tr>\n",
       "      <th>Eastern Asia</th>\n",
       "      <td>34</td>\n",
       "      <td>7.563200e+09</td>\n",
       "    </tr>\n",
       "    <tr>\n",
       "      <th>Southeast Asia</th>\n",
       "      <td>17</td>\n",
       "      <td>2.600860e+09</td>\n",
       "    </tr>\n",
       "    <tr>\n",
       "      <th>Eastern Africa</th>\n",
       "      <td>1</td>\n",
       "      <td>1.999600e+09</td>\n",
       "    </tr>\n",
       "    <tr>\n",
       "      <th>Western Africa</th>\n",
       "      <td>1</td>\n",
       "      <td>1.794400e+09</td>\n",
       "    </tr>\n",
       "    <tr>\n",
       "      <th>Northern Europe</th>\n",
       "      <td>19</td>\n",
       "      <td>1.462510e+09</td>\n",
       "    </tr>\n",
       "    <tr>\n",
       "      <th>Australasia</th>\n",
       "      <td>7</td>\n",
       "      <td>1.136420e+09</td>\n",
       "    </tr>\n",
       "    <tr>\n",
       "      <th>Western Europe</th>\n",
       "      <td>12</td>\n",
       "      <td>1.042150e+09</td>\n",
       "    </tr>\n",
       "    <tr>\n",
       "      <th>Caribbean</th>\n",
       "      <td>11</td>\n",
       "      <td>9.864200e+08</td>\n",
       "    </tr>\n",
       "    <tr>\n",
       "      <th>Central America</th>\n",
       "      <td>9</td>\n",
       "      <td>7.662400e+08</td>\n",
       "    </tr>\n",
       "    <tr>\n",
       "      <th>Eastern Europe</th>\n",
       "      <td>6</td>\n",
       "      <td>6.020600e+08</td>\n",
       "    </tr>\n",
       "    <tr>\n",
       "      <th>(not set)</th>\n",
       "      <td>4</td>\n",
       "      <td>5.725000e+08</td>\n",
       "    </tr>\n",
       "    <tr>\n",
       "      <th>Western Asia</th>\n",
       "      <td>9</td>\n",
       "      <td>5.649700e+08</td>\n",
       "    </tr>\n",
       "    <tr>\n",
       "      <th>Southern Asia</th>\n",
       "      <td>7</td>\n",
       "      <td>5.166400e+08</td>\n",
       "    </tr>\n",
       "    <tr>\n",
       "      <th>Southern Europe</th>\n",
       "      <td>3</td>\n",
       "      <td>1.443400e+08</td>\n",
       "    </tr>\n",
       "    <tr>\n",
       "      <th>Central Asia</th>\n",
       "      <td>1</td>\n",
       "      <td>2.399000e+07</td>\n",
       "    </tr>\n",
       "    <tr>\n",
       "      <th>Middle Africa</th>\n",
       "      <td>0</td>\n",
       "      <td>0.000000e+00</td>\n",
       "    </tr>\n",
       "    <tr>\n",
       "      <th>Polynesia</th>\n",
       "      <td>0</td>\n",
       "      <td>0.000000e+00</td>\n",
       "    </tr>\n",
       "    <tr>\n",
       "      <th>Micronesian Region</th>\n",
       "      <td>0</td>\n",
       "      <td>0.000000e+00</td>\n",
       "    </tr>\n",
       "    <tr>\n",
       "      <th>Melanesia</th>\n",
       "      <td>0</td>\n",
       "      <td>0.000000e+00</td>\n",
       "    </tr>\n",
       "    <tr>\n",
       "      <th>Southern Africa</th>\n",
       "      <td>0</td>\n",
       "      <td>0.000000e+00</td>\n",
       "    </tr>\n",
       "    <tr>\n",
       "      <th>Northern Africa</th>\n",
       "      <td>0</td>\n",
       "      <td>0.000000e+00</td>\n",
       "    </tr>\n",
       "  </tbody>\n",
       "</table>\n",
       "</div>"
      ],
      "text/plain": [
       "                    count           sum\n",
       "subContinent                           \n",
       "Northern America     6223  8.191764e+11\n",
       "South America          61  1.176779e+10\n",
       "Eastern Asia           34  7.563200e+09\n",
       "Southeast Asia         17  2.600860e+09\n",
       "Eastern Africa          1  1.999600e+09\n",
       "Western Africa          1  1.794400e+09\n",
       "Northern Europe        19  1.462510e+09\n",
       "Australasia             7  1.136420e+09\n",
       "Western Europe         12  1.042150e+09\n",
       "Caribbean              11  9.864200e+08\n",
       "Central America         9  7.662400e+08\n",
       "Eastern Europe          6  6.020600e+08\n",
       "(not set)               4  5.725000e+08\n",
       "Western Asia            9  5.649700e+08\n",
       "Southern Asia           7  5.166400e+08\n",
       "Southern Europe         3  1.443400e+08\n",
       "Central Asia            1  2.399000e+07\n",
       "Middle Africa           0  0.000000e+00\n",
       "Polynesia               0  0.000000e+00\n",
       "Micronesian Region      0  0.000000e+00\n",
       "Melanesia               0  0.000000e+00\n",
       "Southern Africa         0  0.000000e+00\n",
       "Northern Africa         0  0.000000e+00"
      ]
     },
     "execution_count": 39,
     "metadata": {},
     "output_type": "execute_result"
    }
   ],
   "source": [
    "grp19 = grp19.sort_values(by=\"sum\", ascending=False)\n",
    "grp19.head(50)"
   ]
  },
  {
   "cell_type": "code",
   "execution_count": 40,
   "metadata": {},
   "outputs": [
    {
     "data": {
      "image/png": "[encoded data removed]",
      "text/plain": [
       "<Figure size 432x288 with 1 Axes>"
      ]
     },
     "metadata": {
      "needs_background": "light"
     },
     "output_type": "display_data"
    },
    {
     "data": {
      "image/png": "[encoded data removed]",
      "text/plain": [
       "<Figure size 432x288 with 1 Axes>"
      ]
     },
     "metadata": {
      "needs_background": "light"
     },
     "output_type": "display_data"
    }
   ],
   "source": [
    "#channelGrouping, socialEngagementType\n",
    "grp22 = train_df.groupby(\"channelGrouping\")[\"transactionRevenue\"].agg(['count', 'sum'])\n",
    "grp23 = train_df.groupby(\"socialEngagementType\")[\"transactionRevenue\"].agg(['count', 'sum'])\n",
    "\n",
    "plt.ylabel('Sum of Revenue')\n",
    "plt.xlabel('channelGrouping')\n",
    "plt.scatter(range(grp22.shape[0]), np.sort(np.log1p(grp22['sum'])))\n",
    "plt.show()\n",
    "\n",
    "plt.ylabel('Sum of Revenue')\n",
    "plt.xlabel('socialEngagementType')\n",
    "plt.scatter(range(grp23.shape[0]), np.sort(np.log1p(grp23['sum'])))\n",
    "plt.show()\n"
   ]
  },
  {
   "cell_type": "code",
   "execution_count": 41,
   "metadata": {},
   "outputs": [
    {
     "data": {
      "text/html": [
       "<div>\n",
       "<style scoped>\n",
       "    .dataframe tbody tr th:only-of-type {\n",
       "        vertical-align: middle;\n",
       "    }\n",
       "\n",
       "    .dataframe tbody tr th {\n",
       "        vertical-align: top;\n",
       "    }\n",
       "\n",
       "    .dataframe thead th {\n",
       "        text-align: right;\n",
       "    }\n",
       "</style>\n",
       "<table border=\"1\" class=\"dataframe\">\n",
       "  <thead>\n",
       "    <tr style=\"text-align: right;\">\n",
       "      <th></th>\n",
       "      <th>count</th>\n",
       "      <th>sum</th>\n",
       "    </tr>\n",
       "    <tr>\n",
       "      <th>latitude</th>\n",
       "      <th></th>\n",
       "      <th></th>\n",
       "    </tr>\n",
       "  </thead>\n",
       "  <tbody>\n",
       "    <tr>\n",
       "      <th>not available in demo dataset</th>\n",
       "      <td>6425</td>\n",
       "      <td>8.527205e+11</td>\n",
       "    </tr>\n",
       "  </tbody>\n",
       "</table>\n",
       "</div>"
      ],
      "text/plain": [
       "                               count           sum\n",
       "latitude                                          \n",
       "not available in demo dataset   6425  8.527205e+11"
      ]
     },
     "execution_count": 41,
     "metadata": {},
     "output_type": "execute_result"
    }
   ],
   "source": [
    "#we can ignore this data?\n",
    "grp20"
   ]
  },
  {
   "cell_type": "code",
   "execution_count": 42,
   "metadata": {},
   "outputs": [
    {
     "data": {
      "text/html": [
       "<div>\n",
       "<style scoped>\n",
       "    .dataframe tbody tr th:only-of-type {\n",
       "        vertical-align: middle;\n",
       "    }\n",
       "\n",
       "    .dataframe tbody tr th {\n",
       "        vertical-align: top;\n",
       "    }\n",
       "\n",
       "    .dataframe thead th {\n",
       "        text-align: right;\n",
       "    }\n",
       "</style>\n",
       "<table border=\"1\" class=\"dataframe\">\n",
       "  <thead>\n",
       "    <tr style=\"text-align: right;\">\n",
       "      <th></th>\n",
       "      <th>count</th>\n",
       "      <th>sum</th>\n",
       "    </tr>\n",
       "    <tr>\n",
       "      <th>longitude</th>\n",
       "      <th></th>\n",
       "      <th></th>\n",
       "    </tr>\n",
       "  </thead>\n",
       "  <tbody>\n",
       "    <tr>\n",
       "      <th>not available in demo dataset</th>\n",
       "      <td>6425</td>\n",
       "      <td>8.527205e+11</td>\n",
       "    </tr>\n",
       "  </tbody>\n",
       "</table>\n",
       "</div>"
      ],
      "text/plain": [
       "                               count           sum\n",
       "longitude                                         \n",
       "not available in demo dataset   6425  8.527205e+11"
      ]
     },
     "execution_count": 42,
     "metadata": {},
     "output_type": "execute_result"
    }
   ],
   "source": [
    "#we can ignore this data?\n",
    "grp21"
   ]
  },
  {
   "cell_type": "code",
   "execution_count": 43,
   "metadata": {},
   "outputs": [
    {
     "data": {
      "text/html": [
       "<div>\n",
       "<style scoped>\n",
       "    .dataframe tbody tr th:only-of-type {\n",
       "        vertical-align: middle;\n",
       "    }\n",
       "\n",
       "    .dataframe tbody tr th {\n",
       "        vertical-align: top;\n",
       "    }\n",
       "\n",
       "    .dataframe thead th {\n",
       "        text-align: right;\n",
       "    }\n",
       "</style>\n",
       "<table border=\"1\" class=\"dataframe\">\n",
       "  <thead>\n",
       "    <tr style=\"text-align: right;\">\n",
       "      <th></th>\n",
       "      <th>count</th>\n",
       "      <th>sum</th>\n",
       "    </tr>\n",
       "    <tr>\n",
       "      <th>channelGrouping</th>\n",
       "      <th></th>\n",
       "      <th></th>\n",
       "    </tr>\n",
       "  </thead>\n",
       "  <tbody>\n",
       "    <tr>\n",
       "      <th>(Other)</th>\n",
       "      <td>0</td>\n",
       "      <td>0.000000e+00</td>\n",
       "    </tr>\n",
       "    <tr>\n",
       "      <th>Affiliates</th>\n",
       "      <td>2</td>\n",
       "      <td>3.796000e+07</td>\n",
       "    </tr>\n",
       "    <tr>\n",
       "      <th>Direct</th>\n",
       "      <td>1173</td>\n",
       "      <td>2.533500e+11</td>\n",
       "    </tr>\n",
       "    <tr>\n",
       "      <th>Display</th>\n",
       "      <td>76</td>\n",
       "      <td>3.229750e+10</td>\n",
       "    </tr>\n",
       "    <tr>\n",
       "      <th>Organic Search</th>\n",
       "      <td>1873</td>\n",
       "      <td>1.848252e+11</td>\n",
       "    </tr>\n",
       "    <tr>\n",
       "      <th>Paid Search</th>\n",
       "      <td>258</td>\n",
       "      <td>2.535456e+10</td>\n",
       "    </tr>\n",
       "    <tr>\n",
       "      <th>Referral</th>\n",
       "      <td>2980</td>\n",
       "      <td>3.538208e+11</td>\n",
       "    </tr>\n",
       "    <tr>\n",
       "      <th>Social</th>\n",
       "      <td>63</td>\n",
       "      <td>3.034540e+09</td>\n",
       "    </tr>\n",
       "  </tbody>\n",
       "</table>\n",
       "</div>"
      ],
      "text/plain": [
       "                 count           sum\n",
       "channelGrouping                     \n",
       "(Other)              0  0.000000e+00\n",
       "Affiliates           2  3.796000e+07\n",
       "Direct            1173  2.533500e+11\n",
       "Display             76  3.229750e+10\n",
       "Organic Search    1873  1.848252e+11\n",
       "Paid Search        258  2.535456e+10\n",
       "Referral          2980  3.538208e+11\n",
       "Social              63  3.034540e+09"
      ]
     },
     "execution_count": 43,
     "metadata": {},
     "output_type": "execute_result"
    }
   ],
   "source": [
    "grp22"
   ]
  },
  {
   "cell_type": "code",
   "execution_count": 44,
   "metadata": {},
   "outputs": [
    {
     "data": {
      "text/html": [
       "<div>\n",
       "<style scoped>\n",
       "    .dataframe tbody tr th:only-of-type {\n",
       "        vertical-align: middle;\n",
       "    }\n",
       "\n",
       "    .dataframe tbody tr th {\n",
       "        vertical-align: top;\n",
       "    }\n",
       "\n",
       "    .dataframe thead th {\n",
       "        text-align: right;\n",
       "    }\n",
       "</style>\n",
       "<table border=\"1\" class=\"dataframe\">\n",
       "  <thead>\n",
       "    <tr style=\"text-align: right;\">\n",
       "      <th></th>\n",
       "      <th>count</th>\n",
       "      <th>sum</th>\n",
       "    </tr>\n",
       "    <tr>\n",
       "      <th>socialEngagementType</th>\n",
       "      <th></th>\n",
       "      <th></th>\n",
       "    </tr>\n",
       "  </thead>\n",
       "  <tbody>\n",
       "    <tr>\n",
       "      <th>Not Socially Engaged</th>\n",
       "      <td>6425</td>\n",
       "      <td>8.527205e+11</td>\n",
       "    </tr>\n",
       "  </tbody>\n",
       "</table>\n",
       "</div>"
      ],
      "text/plain": [
       "                      count           sum\n",
       "socialEngagementType                     \n",
       "Not Socially Engaged   6425  8.527205e+11"
      ]
     },
     "execution_count": 44,
     "metadata": {},
     "output_type": "execute_result"
    }
   ],
   "source": [
    "# Should we ignore this? May be, may be not!\n",
    "grp23"
   ]
  },
  {
   "cell_type": "code",
   "execution_count": 45,
   "metadata": {},
   "outputs": [],
   "source": [
    "### NEXT STEPS ###\n",
    "\n",
    "### TRANSFORMATION ###\n",
    "\n",
    "#browser - Need to consider devices only contributing to revenue, bin other devices with zero revenues as 'Others' category\n",
    "#source - bin the zero revenue sources as others category\n",
    "#OS - bin zero revenue OS as others category\n",
    "#continent - rename \"(not set)\" continent as others\n",
    "#country - rename \"(not set)\" country as others\n",
    "#subcontinent - rename \"(not set)\" as others\n",
    "\n",
    "### ENCODING ###\n",
    "\n",
    "#categorical features - to apply encoding\n",
    "#device.browser, campaign, source, isMobile, OS, continent, country, subcontinent, month, week, dow, time_of_hour, channelGrouping\n",
    "\n",
    "#Non categorical features\n",
    "#vistor, hits, pageviews \n",
    "\n",
    "\n",
    "### Apply MODEL ### This will be base model and iterate to see if any other left out features makes sense!"
   ]
  },
  {
   "cell_type": "code",
   "execution_count": 46,
   "metadata": {},
   "outputs": [],
   "source": [
    "train_df[\"browser\"] = train_df[\"device.browser\"]\n",
    "train_df.drop(['device.browser'], axis=1, inplace=True)"
   ]
  },
  {
   "cell_type": "code",
   "execution_count": 47,
   "metadata": {},
   "outputs": [
    {
     "data": {
      "text/plain": [
       "Chrome                                         342494\n",
       "Safari                                         103920\n",
       "Firefox                                         20213\n",
       "Internet Explorer                               10704\n",
       "Edge                                             5466\n",
       "Android Webview                                  3578\n",
       "Opera Mini                                       3217\n",
       "Opera                                            3190\n",
       "Safari (in-app)                                  2911\n",
       "UC Browser                                       1251\n",
       "YaBrowser                                        1202\n",
       "Coc Coc                                           390\n",
       "Amazon Silk                                       314\n",
       "Android Browser                                   313\n",
       "Mozilla Compatible Agent                          180\n",
       "MRCHROME                                          156\n",
       "Maxthon                                           133\n",
       "BlackBerry                                        120\n",
       "Nintendo Browser                                   80\n",
       "Puffin                                             41\n",
       "Nokia Browser                                      41\n",
       "Iron                                               21\n",
       "LYF_LS_4002_12                                     13\n",
       "Nichrome                                            7\n",
       "SeaMonkey                                           6\n",
       "Seznam                                              6\n",
       "Mozilla                                             3\n",
       "osee2unifiedRelease                                 3\n",
       "Apple-iPhone7C2                                     2\n",
       "Lunascape                                           2\n",
       "MQQBrowser                                          2\n",
       "DASH_JR_3G                                          2\n",
       "ThumbSniper                                         2\n",
       "no-ua                                               2\n",
       "LYF_LS_4002_11                                      2\n",
       "HTC802t_TD                                          1\n",
       "(not set)                                           1\n",
       "M5                                                  1\n",
       "Changa 99695759                                     1\n",
       "Konqueror                                           1\n",
       "[Use default User-agent string] LIVRENPOCHE         1\n",
       "YE                                                  1\n",
       "NokiaE52-1                                          1\n",
       "DoCoMo                                              1\n",
       "IE with Chrome Frame                                1\n",
       "Android Runtime                                     1\n",
       "ADM                                                 1\n",
       "subjectAgent: NoticiasBoom                          1\n",
       "Name: browser, dtype: int64"
      ]
     },
     "execution_count": 47,
     "metadata": {},
     "output_type": "execute_result"
    }
   ],
   "source": [
    "train_df['browser'].value_counts()"
   ]
  },
  {
   "cell_type": "code",
   "execution_count": 48,
   "metadata": {},
   "outputs": [
    {
     "name": "stdout",
     "output_type": "stream",
     "text": [
      "['Nichrome' 'Nintendo Browser' 'Nokia Browser' 'NokiaE52-1' 'Opera Mini'\n",
      " 'Puffin' '(not set)' 'SeaMonkey' 'Mozilla' 'Seznam' 'ThumbSniper'\n",
      " 'UC Browser' 'YE' 'YaBrowser'\n",
      " '[Use default User-agent string] LIVRENPOCHE' 'no-ua'\n",
      " 'osee2unifiedRelease' 'Mozilla Compatible Agent' 'MQQBrowser' 'Maxthon'\n",
      " 'MRCHROME' 'Android Browser' 'Android Runtime' 'Apple-iPhone7C2'\n",
      " 'BlackBerry' 'Changa 99695759' 'Coc Coc' 'DASH_JR_3G' 'DoCoMo'\n",
      " 'HTC802t_TD' 'IE with Chrome Frame' 'Iron' 'Konqueror' 'LYF_LS_4002_11'\n",
      " 'LYF_LS_4002_12' 'Lunascape' 'M5' 'ADM' 'subjectAgent: NoticiasBoom']\n"
     ]
    }
   ],
   "source": [
    "#map the Zero revenue browsers\n",
    "minor_browsers = grp11[grp11['sum'] == 0.0].index.values\n",
    "print(minor_browsers)"
   ]
  },
  {
   "cell_type": "code",
   "execution_count": 49,
   "metadata": {},
   "outputs": [],
   "source": [
    "def transform_colval(value, list_of_exceptions=[]):\n",
    "    if( value in list_of_exceptions ):\n",
    "        ret_value = \"other\"\n",
    "    else :\n",
    "        ret_value = value\n",
    "    return ret_value;"
   ]
  },
  {
   "cell_type": "code",
   "execution_count": 50,
   "metadata": {},
   "outputs": [
    {
     "data": {
      "text/plain": [
       "'other'"
      ]
     },
     "execution_count": 50,
     "metadata": {},
     "output_type": "execute_result"
    }
   ],
   "source": [
    "transform_colval(\"Lunascape\", minor_browsers)"
   ]
  },
  {
   "cell_type": "code",
   "execution_count": 51,
   "metadata": {},
   "outputs": [
    {
     "data": {
      "text/plain": [
       "'chrome'"
      ]
     },
     "execution_count": 51,
     "metadata": {},
     "output_type": "execute_result"
    }
   ],
   "source": [
    "transform_colval(\"chrome\", minor_browsers)"
   ]
  },
  {
   "cell_type": "code",
   "execution_count": 52,
   "metadata": {},
   "outputs": [
    {
     "data": {
      "text/plain": [
       "array(['Chrome', 'Firefox', 'UC Browser', 'Internet Explorer', 'Safari',\n",
       "       'Edge', 'Opera Mini', 'Opera', 'BlackBerry', 'Safari (in-app)',\n",
       "       'Coc Coc', 'Mozilla Compatible Agent', 'ADM', 'MRCHROME',\n",
       "       'Amazon Silk', 'YaBrowser', 'Android Webview', 'Puffin',\n",
       "       'Nokia Browser', 'Maxthon', 'Nintendo Browser', 'Android Browser',\n",
       "       'Lunascape', 'IE with Chrome Frame', 'ThumbSniper',\n",
       "       'LYF_LS_4002_12', 'Mozilla', 'osee2unifiedRelease', 'NokiaE52-1',\n",
       "       'Iron', '[Use default User-agent string] LIVRENPOCHE', '(not set)',\n",
       "       'LYF_LS_4002_11', 'M5', 'Android Runtime', 'Apple-iPhone7C2',\n",
       "       'SeaMonkey', 'Konqueror', 'Seznam', 'Changa 99695759', 'no-ua',\n",
       "       'MQQBrowser', 'Nichrome', 'HTC802t_TD', 'DASH_JR_3G', 'DoCoMo',\n",
       "       'subjectAgent: NoticiasBoom', 'YE'], dtype=object)"
      ]
     },
     "execution_count": 52,
     "metadata": {},
     "output_type": "execute_result"
    }
   ],
   "source": [
    "train_df[\"browser\"].unique()"
   ]
  },
  {
   "cell_type": "code",
   "execution_count": 53,
   "metadata": {},
   "outputs": [],
   "source": [
    "#transformation of browser\n",
    "train_df['browser'] = train_df.browser.apply(lambda x : transform_colval(x,minor_browsers))\n"
   ]
  },
  {
   "cell_type": "code",
   "execution_count": 54,
   "metadata": {},
   "outputs": [
    {
     "data": {
      "text/plain": [
       "array(['Chrome', 'Firefox', 'other', 'Internet Explorer', 'Safari',\n",
       "       'Edge', 'Opera', 'Safari (in-app)', 'Amazon Silk',\n",
       "       'Android Webview'], dtype=object)"
      ]
     },
     "execution_count": 54,
     "metadata": {},
     "output_type": "execute_result"
    }
   ],
   "source": [
    "train_df[\"browser\"].unique()"
   ]
  },
  {
   "cell_type": "code",
   "execution_count": 55,
   "metadata": {},
   "outputs": [
    {
     "data": {
      "text/plain": [
       "<matplotlib.legend.Legend at 0xecedb5f8>"
      ]
     },
     "execution_count": 55,
     "metadata": {},
     "output_type": "execute_result"
    },
    {
     "data": {
      "image/png": "[encoded data removed]",
      "text/plain": [
       "<Figure size 432x288 with 1 Axes>"
      ]
     },
     "metadata": {
      "needs_background": "light"
     },
     "output_type": "display_data"
    }
   ],
   "source": [
    "train_df.browser.value_counts().plot(label=\"browser trend\")\n",
    "plt.legend()"
   ]
  },
  {
   "cell_type": "code",
   "execution_count": 56,
   "metadata": {},
   "outputs": [],
   "source": [
    "#transformation\n",
    "minor_sources = grp13[grp13['sum'] == 0.0].index.values\n",
    "train_df['source'] = train_df.source.apply(lambda x : transform_colval(x,minor_sources))"
   ]
  },
  {
   "cell_type": "code",
   "execution_count": 57,
   "metadata": {},
   "outputs": [
    {
     "data": {
      "text/plain": [
       "array(['google', 'other', 'sites.google.com', 'bing',\n",
       "       'siliconvalley.about.com', 'Partners', '(direct)',\n",
       "       'mall.googleplex.com', 'google.com', 'mail.google.com',\n",
       "       'dealspotr.com', 'dfa', 'docs.google.com', 'phandroid.com',\n",
       "       'youtube.com', 'l.facebook.com', 'facebook.com', 'quora.com',\n",
       "       'm.facebook.com', 'reddit.com', 'yahoo', 't.co', 'duckduckgo.com',\n",
       "       'plus.google.com', 'keep.google.com', 'connect.googleforwork.com',\n",
       "       'gdeals.googleplex.com', 'googleux.perksplus.com',\n",
       "       'groups.google.com', 'ask', 'search.xfinity.com', 'pinterest.com',\n",
       "       'mail.aol.com', 'l.messenger.com', 'mg.mail.yahoo.com',\n",
       "       'trainup.withgoogle.com', 'search.myway.com', 'chat.google.com'],\n",
       "      dtype=object)"
      ]
     },
     "execution_count": 57,
     "metadata": {},
     "output_type": "execute_result"
    }
   ],
   "source": [
    "train_df[\"source\"].unique()"
   ]
  },
  {
   "cell_type": "code",
   "execution_count": 58,
   "metadata": {},
   "outputs": [
    {
     "data": {
      "text/plain": [
       "array(['(direct)', 'Partners', 'ask', 'bing', 'chat.google.com',\n",
       "       'connect.googleforwork.com', 'dealspotr.com', 'dfa',\n",
       "       'docs.google.com', 'duckduckgo.com', 'facebook.com',\n",
       "       'gdeals.googleplex.com', 'google', 'google.com',\n",
       "       'googleux.perksplus.com', 'groups.google.com', 'keep.google.com',\n",
       "       'l.facebook.com', 'l.messenger.com', 'm.facebook.com',\n",
       "       'mail.aol.com', 'mail.google.com', 'mall.googleplex.com',\n",
       "       'mg.mail.yahoo.com', 'phandroid.com', 'pinterest.com',\n",
       "       'plus.google.com', 'quora.com', 'reddit.com', 'search.myway.com',\n",
       "       'search.xfinity.com', 'siliconvalley.about.com',\n",
       "       'sites.google.com', 't.co', 'trainup.withgoogle.com', 'yahoo',\n",
       "       'youtube.com'], dtype=object)"
      ]
     },
     "execution_count": 58,
     "metadata": {},
     "output_type": "execute_result"
    }
   ],
   "source": [
    "grp13[grp13['sum'] > 0.0].index.values"
   ]
  },
  {
   "cell_type": "code",
   "execution_count": 59,
   "metadata": {},
   "outputs": [],
   "source": [
    "minor_os = grp15[grp15['sum'] == 0.0].index.values\n",
    "train_df['operatingSystem'] = train_df.operatingSystem.apply(lambda x : transform_colval(x,minor_os))"
   ]
  },
  {
   "cell_type": "code",
   "execution_count": 60,
   "metadata": {},
   "outputs": [
    {
     "data": {
      "text/plain": [
       "array(['Windows', 'Macintosh', 'Linux', 'Android', 'iOS', 'Chrome OS',\n",
       "       'other', 'Windows Phone'], dtype=object)"
      ]
     },
     "execution_count": 60,
     "metadata": {},
     "output_type": "execute_result"
    }
   ],
   "source": [
    "train_df[\"operatingSystem\"].unique()"
   ]
  },
  {
   "cell_type": "code",
   "execution_count": 61,
   "metadata": {},
   "outputs": [
    {
     "data": {
      "text/plain": [
       "array(['Macintosh', 'Windows', 'Chrome OS', 'Linux', 'Android', 'iOS',\n",
       "       'Windows Phone'], dtype=object)"
      ]
     },
     "execution_count": 61,
     "metadata": {},
     "output_type": "execute_result"
    }
   ],
   "source": [
    "grp15[grp15['sum'] > 0.0].index.values"
   ]
  },
  {
   "cell_type": "code",
   "execution_count": 62,
   "metadata": {},
   "outputs": [
    {
     "data": {
      "text/plain": [
       "array(['Asia', 'Oceania', 'Europe', 'Americas', 'Africa', '(not set)'],\n",
       "      dtype=object)"
      ]
     },
     "execution_count": 62,
     "metadata": {},
     "output_type": "execute_result"
    }
   ],
   "source": [
    "train_df['continent'].unique()"
   ]
  },
  {
   "cell_type": "code",
   "execution_count": 64,
   "metadata": {},
   "outputs": [],
   "source": [
    "#Treat missing values\n",
    "train_df['continent'] = train_df['continent'].replace({'(not set)': 'other'})"
   ]
  },
  {
   "cell_type": "code",
   "execution_count": 65,
   "metadata": {},
   "outputs": [
    {
     "data": {
      "text/plain": [
       "array(['Asia', 'Oceania', 'Europe', 'Americas', 'Africa', 'other'],\n",
       "      dtype=object)"
      ]
     },
     "execution_count": 65,
     "metadata": {},
     "output_type": "execute_result"
    }
   ],
   "source": [
    "train_df['continent'].unique()"
   ]
  },
  {
   "cell_type": "code",
   "execution_count": 81,
   "metadata": {},
   "outputs": [],
   "source": [
    "train_df['country'] = train_df['country'].replace({'(not set)': 'other'})\n",
    "train_df['subContinent'] = train_df['subContinent'].replace({'(not set)': 'other'})\n",
    "train_df['campaign'] = train_df['campaign'].replace({'(not set)': 'other', 'Retail (DO NOT EDIT owners nophakun and tianyu)':'Retail'})\n",
    "train_df['channelGrouping'] = train_df['channelGrouping'].replace({'(Other)': 'other'})"
   ]
  },
  {
   "cell_type": "code",
   "execution_count": 82,
   "metadata": {},
   "outputs": [
    {
     "data": {
      "text/plain": [
       "array(['Western Asia', 'Australasia', 'Southern Europe', 'Southeast Asia',\n",
       "       'Northern Europe', 'Southern Asia', 'Western Europe',\n",
       "       'South America', 'Eastern Asia', 'Eastern Europe',\n",
       "       'Northern America', 'Western Africa', 'Central America',\n",
       "       'Eastern Africa', 'other', 'Caribbean', 'Southern Africa',\n",
       "       'Northern Africa', 'Central Asia', 'Middle Africa', 'Melanesia',\n",
       "       'Micronesian Region', 'Polynesia'], dtype=object)"
      ]
     },
     "execution_count": 82,
     "metadata": {},
     "output_type": "execute_result"
    }
   ],
   "source": [
    "train_df['subContinent'].unique()"
   ]
  },
  {
   "cell_type": "code",
   "execution_count": 83,
   "metadata": {},
   "outputs": [
    {
     "data": {
      "text/plain": [
       "array(['other', 'AW - Dynamic Search Ads Whole Site', 'Data Share Promo',\n",
       "       'AW - Electronics', 'test-liyuhz', 'AW - Accessories', 'Retail',\n",
       "       'AW - Apparel', 'All Products'], dtype=object)"
      ]
     },
     "execution_count": 83,
     "metadata": {},
     "output_type": "execute_result"
    }
   ],
   "source": [
    "train_df['campaign'].unique()"
   ]
  },
  {
   "cell_type": "code",
   "execution_count": 84,
   "metadata": {},
   "outputs": [
    {
     "data": {
      "text/plain": [
       "array(['Organic Search', 'Referral', 'Paid Search', 'Affiliates',\n",
       "       'Direct', 'Display', 'Social', 'other'], dtype=object)"
      ]
     },
     "execution_count": 84,
     "metadata": {},
     "output_type": "execute_result"
    }
   ],
   "source": [
    "train_df['channelGrouping'].unique()"
   ]
  },
  {
   "cell_type": "code",
   "execution_count": 88,
   "metadata": {},
   "outputs": [],
   "source": [
    "### NEXT STEPS ###\n",
    "\n",
    "### TRANSFORMATION ###\n",
    "\n",
    "#browser - Need to consider devices only contributing to revenue, \n",
    "#bin other devices with zero revenues as 'Others' category -- DONE\n",
    "\n",
    "#source - bin the zero revenue sources as others category -- DONE\n",
    "#OS - bin zero revenue OS as others category -- DONE\n",
    "#continent - rename \"(not set)\" continent as others -- DONE\n",
    "#country - rename \"(not set)\" country as others -- DONE\n",
    "#subcontinent - rename \"(not set)\" as others -- DONE\n",
    "\n",
    "### ENCODING ###\n",
    "\n",
    "#categorical features - to apply encoding\n",
    "#browser, campaign, source, isMobile, OS, continent, country, subcontinent, month, week, dow, time_of_hour, channelGrouping\n",
    "\n",
    "#Non categorical features\n",
    "#fullVisitorId, hits, pageviews \n",
    "\n",
    "\n",
    "### Apply MODEL ### This will be base model and iterate to see if any other left out features makes sense!"
   ]
  },
  {
   "cell_type": "code",
   "execution_count": 136,
   "metadata": {},
   "outputs": [],
   "source": [
    "final_df = train_df[['transactionRevenue', 'fullVisitorId', 'browser', 'campaign', 'source', 'isMobile', 'operatingSystem', 'continent', 'country',\n",
    "                    'subContinent', 'month', 'week', 'dow', 'time_of_hour', 'channelGrouping',\n",
    "                     'hits', 'pageviews']].copy()\n",
    "final_df[\"transactionRevenue\"] = final_df[\"transactionRevenue\"].fillna(value=0.0)\n"
   ]
  },
  {
   "cell_type": "code",
   "execution_count": 107,
   "metadata": {},
   "outputs": [
    {
     "data": {
      "text/html": [
       "<div>\n",
       "<style scoped>\n",
       "    .dataframe tbody tr th:only-of-type {\n",
       "        vertical-align: middle;\n",
       "    }\n",
       "\n",
       "    .dataframe tbody tr th {\n",
       "        vertical-align: top;\n",
       "    }\n",
       "\n",
       "    .dataframe thead th {\n",
       "        text-align: right;\n",
       "    }\n",
       "</style>\n",
       "<table border=\"1\" class=\"dataframe\">\n",
       "  <thead>\n",
       "    <tr style=\"text-align: right;\">\n",
       "      <th></th>\n",
       "      <th>transactionRevenue</th>\n",
       "      <th>fullVisitorId</th>\n",
       "      <th>browser</th>\n",
       "      <th>campaign</th>\n",
       "      <th>source</th>\n",
       "      <th>isMobile</th>\n",
       "      <th>operatingSystem</th>\n",
       "      <th>continent</th>\n",
       "      <th>country</th>\n",
       "      <th>subContinent</th>\n",
       "      <th>month</th>\n",
       "      <th>week</th>\n",
       "      <th>dow</th>\n",
       "      <th>time_of_hour</th>\n",
       "      <th>channelGrouping</th>\n",
       "      <th>hits</th>\n",
       "      <th>pageviews</th>\n",
       "    </tr>\n",
       "  </thead>\n",
       "  <tbody>\n",
       "    <tr>\n",
       "      <th>0</th>\n",
       "      <td>0.0</td>\n",
       "      <td>1131660440785968503</td>\n",
       "      <td>Chrome</td>\n",
       "      <td>other</td>\n",
       "      <td>google</td>\n",
       "      <td>False</td>\n",
       "      <td>Windows</td>\n",
       "      <td>Asia</td>\n",
       "      <td>Turkey</td>\n",
       "      <td>Western Asia</td>\n",
       "      <td>9</td>\n",
       "      <td>35</td>\n",
       "      <td>4</td>\n",
       "      <td>15</td>\n",
       "      <td>Organic Search</td>\n",
       "      <td>1.0</td>\n",
       "      <td>1.0</td>\n",
       "    </tr>\n",
       "    <tr>\n",
       "      <th>1</th>\n",
       "      <td>0.0</td>\n",
       "      <td>377306020877927890</td>\n",
       "      <td>Firefox</td>\n",
       "      <td>other</td>\n",
       "      <td>google</td>\n",
       "      <td>False</td>\n",
       "      <td>Macintosh</td>\n",
       "      <td>Oceania</td>\n",
       "      <td>Australia</td>\n",
       "      <td>Australasia</td>\n",
       "      <td>9</td>\n",
       "      <td>35</td>\n",
       "      <td>4</td>\n",
       "      <td>5</td>\n",
       "      <td>Organic Search</td>\n",
       "      <td>1.0</td>\n",
       "      <td>1.0</td>\n",
       "    </tr>\n",
       "    <tr>\n",
       "      <th>2</th>\n",
       "      <td>0.0</td>\n",
       "      <td>3895546263509774583</td>\n",
       "      <td>Chrome</td>\n",
       "      <td>other</td>\n",
       "      <td>google</td>\n",
       "      <td>False</td>\n",
       "      <td>Windows</td>\n",
       "      <td>Europe</td>\n",
       "      <td>Spain</td>\n",
       "      <td>Southern Europe</td>\n",
       "      <td>9</td>\n",
       "      <td>35</td>\n",
       "      <td>4</td>\n",
       "      <td>1</td>\n",
       "      <td>Organic Search</td>\n",
       "      <td>1.0</td>\n",
       "      <td>1.0</td>\n",
       "    </tr>\n",
       "    <tr>\n",
       "      <th>3</th>\n",
       "      <td>0.0</td>\n",
       "      <td>4763447161404445595</td>\n",
       "      <td>other</td>\n",
       "      <td>other</td>\n",
       "      <td>google</td>\n",
       "      <td>False</td>\n",
       "      <td>Linux</td>\n",
       "      <td>Asia</td>\n",
       "      <td>Indonesia</td>\n",
       "      <td>Southeast Asia</td>\n",
       "      <td>9</td>\n",
       "      <td>35</td>\n",
       "      <td>4</td>\n",
       "      <td>5</td>\n",
       "      <td>Organic Search</td>\n",
       "      <td>1.0</td>\n",
       "      <td>1.0</td>\n",
       "    </tr>\n",
       "    <tr>\n",
       "      <th>4</th>\n",
       "      <td>0.0</td>\n",
       "      <td>27294437909732085</td>\n",
       "      <td>Chrome</td>\n",
       "      <td>other</td>\n",
       "      <td>google</td>\n",
       "      <td>True</td>\n",
       "      <td>Android</td>\n",
       "      <td>Europe</td>\n",
       "      <td>United Kingdom</td>\n",
       "      <td>Northern Europe</td>\n",
       "      <td>9</td>\n",
       "      <td>35</td>\n",
       "      <td>4</td>\n",
       "      <td>13</td>\n",
       "      <td>Organic Search</td>\n",
       "      <td>1.0</td>\n",
       "      <td>1.0</td>\n",
       "    </tr>\n",
       "  </tbody>\n",
       "</table>\n",
       "</div>"
      ],
      "text/plain": [
       "   transactionRevenue        fullVisitorId  browser campaign  source  \\\n",
       "0                 0.0  1131660440785968503   Chrome    other  google   \n",
       "1                 0.0   377306020877927890  Firefox    other  google   \n",
       "2                 0.0  3895546263509774583   Chrome    other  google   \n",
       "3                 0.0  4763447161404445595    other    other  google   \n",
       "4                 0.0    27294437909732085   Chrome    other  google   \n",
       "\n",
       "   isMobile operatingSystem continent         country     subContinent  month  \\\n",
       "0     False         Windows      Asia          Turkey     Western Asia      9   \n",
       "1     False       Macintosh   Oceania       Australia      Australasia      9   \n",
       "2     False         Windows    Europe           Spain  Southern Europe      9   \n",
       "3     False           Linux      Asia       Indonesia   Southeast Asia      9   \n",
       "4      True         Android    Europe  United Kingdom  Northern Europe      9   \n",
       "\n",
       "   week  dow  time_of_hour channelGrouping  hits  pageviews  \n",
       "0    35    4            15  Organic Search   1.0        1.0  \n",
       "1    35    4             5  Organic Search   1.0        1.0  \n",
       "2    35    4             1  Organic Search   1.0        1.0  \n",
       "3    35    4             5  Organic Search   1.0        1.0  \n",
       "4    35    4            13  Organic Search   1.0        1.0  "
      ]
     },
     "execution_count": 107,
     "metadata": {},
     "output_type": "execute_result"
    }
   ],
   "source": [
    "# This will be the final list of features to proceed with training\n",
    "final_df.head()"
   ]
  },
  {
   "cell_type": "code",
   "execution_count": 105,
   "metadata": {},
   "outputs": [
    {
     "data": {
      "text/plain": [
       "415210"
      ]
     },
     "execution_count": 105,
     "metadata": {},
     "output_type": "execute_result"
    }
   ],
   "source": [
    "final_df.fullVisitorId.unique().size"
   ]
  },
  {
   "cell_type": "code",
   "execution_count": 108,
   "metadata": {},
   "outputs": [
    {
     "data": {
      "text/plain": [
       "array([['Chrome', 'other', 'google', ..., 'Organic Search', 1.0, 1.0],\n",
       "       ['Firefox', 'other', 'google', ..., 'Organic Search', 1.0, 1.0],\n",
       "       ['Chrome', 'other', 'google', ..., 'Organic Search', 1.0, 1.0],\n",
       "       ...,\n",
       "       ['Chrome', 'other', 'google', ..., 'Organic Search', 1.0, 1.0],\n",
       "       ['Internet Explorer', 'other', 'bing', ..., 'Organic Search', 1.0,\n",
       "        1.0],\n",
       "       ['Chrome', 'other', 'google', ..., 'Organic Search', 1.0, 1.0]],\n",
       "      dtype=object)"
      ]
     },
     "execution_count": 108,
     "metadata": {},
     "output_type": "execute_result"
    }
   ],
   "source": [
    "final_df.iloc[:, 2:].values"
   ]
  },
  {
   "cell_type": "code",
   "execution_count": 109,
   "metadata": {},
   "outputs": [
    {
     "data": {
      "text/plain": [
       "Index(['transactionRevenue', 'fullVisitorId', 'browser', 'campaign', 'source',\n",
       "       'isMobile', 'operatingSystem', 'continent', 'country', 'subContinent',\n",
       "       'month', 'week', 'dow', 'time_of_hour', 'channelGrouping', 'hits',\n",
       "       'pageviews'],\n",
       "      dtype='object')"
      ]
     },
     "execution_count": 109,
     "metadata": {},
     "output_type": "execute_result"
    }
   ],
   "source": [
    "final_df.columns"
   ]
  },
  {
   "cell_type": "code",
   "execution_count": 120,
   "metadata": {},
   "outputs": [
    {
     "data": {
      "text/html": [
       "<div>\n",
       "<style scoped>\n",
       "    .dataframe tbody tr th:only-of-type {\n",
       "        vertical-align: middle;\n",
       "    }\n",
       "\n",
       "    .dataframe tbody tr th {\n",
       "        vertical-align: top;\n",
       "    }\n",
       "\n",
       "    .dataframe thead th {\n",
       "        text-align: right;\n",
       "    }\n",
       "</style>\n",
       "<table border=\"1\" class=\"dataframe\">\n",
       "  <thead>\n",
       "    <tr style=\"text-align: right;\">\n",
       "      <th></th>\n",
       "      <th>transactionRevenue</th>\n",
       "      <th>fullVisitorId</th>\n",
       "      <th>browser</th>\n",
       "      <th>campaign</th>\n",
       "      <th>source</th>\n",
       "      <th>isMobile</th>\n",
       "      <th>operatingSystem</th>\n",
       "      <th>continent</th>\n",
       "      <th>country</th>\n",
       "      <th>subContinent</th>\n",
       "      <th>month</th>\n",
       "      <th>week</th>\n",
       "      <th>dow</th>\n",
       "      <th>time_of_hour</th>\n",
       "      <th>channelGrouping</th>\n",
       "      <th>hits</th>\n",
       "      <th>pageviews</th>\n",
       "    </tr>\n",
       "  </thead>\n",
       "  <tbody>\n",
       "  </tbody>\n",
       "</table>\n",
       "</div>"
      ],
      "text/plain": [
       "Empty DataFrame\n",
       "Columns: [transactionRevenue, fullVisitorId, browser, campaign, source, isMobile, operatingSystem, continent, country, subContinent, month, week, dow, time_of_hour, channelGrouping, hits, pageviews]\n",
       "Index: []"
      ]
     },
     "execution_count": 120,
     "metadata": {},
     "output_type": "execute_result"
    }
   ],
   "source": [
    "final_df[final_df.channelGrouping == np.NaN].head()"
   ]
  },
  {
   "cell_type": "code",
   "execution_count": 123,
   "metadata": {},
   "outputs": [],
   "source": [
    "final_df['pageviews'] = final_df['pageviews'].fillna(value=0)"
   ]
  },
  {
   "cell_type": "code",
   "execution_count": 124,
   "metadata": {},
   "outputs": [
    {
     "name": "stdout",
     "output_type": "stream",
     "text": [
      "<class 'pandas.core.frame.DataFrame'>\n",
      "RangeIndex: 500000 entries, 0 to 499999\n",
      "Data columns (total 17 columns):\n",
      "transactionRevenue    500000 non-null float64\n",
      "fullVisitorId         500000 non-null object\n",
      "browser               500000 non-null object\n",
      "campaign              500000 non-null object\n",
      "source                500000 non-null object\n",
      "isMobile              500000 non-null bool\n",
      "operatingSystem       500000 non-null object\n",
      "continent             500000 non-null object\n",
      "country               500000 non-null object\n",
      "subContinent          500000 non-null object\n",
      "month                 500000 non-null int64\n",
      "week                  500000 non-null int64\n",
      "dow                   500000 non-null int64\n",
      "time_of_hour          500000 non-null int64\n",
      "channelGrouping       500000 non-null object\n",
      "hits                  500000 non-null float64\n",
      "pageviews             500000 non-null float64\n",
      "dtypes: bool(1), float64(3), int64(4), object(9)\n",
      "memory usage: 61.5+ MB\n"
     ]
    }
   ],
   "source": [
    "final_df.info()"
   ]
  },
  {
   "cell_type": "code",
   "execution_count": 135,
   "metadata": {},
   "outputs": [
    {
     "data": {
      "text/plain": [
       "10"
      ]
     },
     "execution_count": 135,
     "metadata": {},
     "output_type": "execute_result"
    }
   ],
   "source": [
    "final_df.browser.unique().size"
   ]
  },
  {
   "cell_type": "code",
   "execution_count": 137,
   "metadata": {},
   "outputs": [],
   "source": [
    "#do encoding for text features\n",
    "#browser, campaign, source, isMobile, operatingSystem, continent, \n",
    "#country, subcontinent, channelGrouping\n",
    "\n",
    "encode_browser = LabelEncoder()\n",
    "final_df['browser'] = encode_browser.fit_transform(final_df['browser'])\n",
    "\n",
    "encode_campaign = LabelEncoder()\n",
    "final_df['campaign'] = encode_campaign.fit_transform(final_df['campaign'])\n",
    "\n",
    "encode_source = LabelEncoder()\n",
    "final_df['source'] = encode_source.fit_transform(final_df['source'])\n",
    "\n",
    "encode_isMobile = LabelEncoder()\n",
    "final_df['isMobile'] = encode_isMobile.fit_transform(final_df['isMobile'])\n",
    "\n",
    "encode_operatingSystem = LabelEncoder()\n",
    "final_df['operatingSystem'] = encode_operatingSystem.fit_transform(final_df['operatingSystem'])\n",
    "\n",
    "encode_continent = LabelEncoder()\n",
    "final_df['continent'] = encode_continent.fit_transform(final_df['continent'])\n",
    "\n",
    "\n",
    "encode_country = LabelEncoder()\n",
    "final_df['country'] = encode_country.fit_transform(final_df['country'])\n",
    "\n",
    "encode_subContinent = LabelEncoder()\n",
    "final_df['subContinent'] = encode_subContinent.fit_transform(final_df['subContinent'])\n",
    "\n",
    "encode_channelGrouping = LabelEncoder()\n",
    "final_df['channelGrouping'] = encode_channelGrouping.fit_transform(final_df['channelGrouping'])\n",
    "\n",
    "\n",
    "final_df['pageviews'] = final_df['pageviews'].fillna(value=0)\n",
    "final_df.iloc[:, 2:] = final_df.iloc[:, 2:].astype(int)\n",
    "\n"
   ]
  },
  {
   "cell_type": "code",
   "execution_count": 181,
   "metadata": {},
   "outputs": [],
   "source": [
    "X = final_df.iloc[:, 2:].values\n",
    "y = final_df.iloc[:, :1].values"
   ]
  },
  {
   "cell_type": "code",
   "execution_count": null,
   "metadata": {},
   "outputs": [],
   "source": [
    "# index 14 - page view\n",
    "#index 13 - hits\n",
    "#index 12 - channelgrouping, 11-time_of_hour, 10-dow\n",
    "#9-week, 8-month, 7-subContinent, 6-country, 5-continent\n",
    "#4-operatingSystem, 3-isMobile, 2-source, 1-campaign, 0-browser\n",
    "ohe_channel = OneHotEncoder(categorical_features = [12])\n",
    "X = ohe_channel.fit_transform(X).toarray()\n",
    "\n",
    "#channel done, do time_of_hour, index - 3\n",
    "ohe_toh = OneHotEncoder(categorical_features = [19])\n",
    "X = ohe_toh.fit_transform(X).toarray()\n",
    "\n",
    "#hour done, do dow, subtract 3 from index\n",
    "ohe_dow = OneHotEncoder(categorical_features = [42])\n",
    "X = ohe_dow.fit_transform(X).toarray()\n",
    "\n",
    "#dow done, do for week. subtract 3 from index\n",
    "ohe_week = OneHotEncoder(categorical_features = [48])\n",
    "X = ohe_week.fit_transform(X).toarray()\n",
    "#week done, do month. subtract 3 from index\n",
    "ohe_month = OneHotEncoder(categorical_features = [99])\n",
    "X = ohe_month.fit_transform(X).toarray()\n",
    "\n",
    "#month done, do for subcontinent. subtract 3 from index\n",
    "ohe_sub = OneHotEncoder(categorical_features = [110])\n",
    "X = ohe_sub.fit_transform(X).toarray()\n",
    "\n",
    "#subcontinent done, do for country. subtract 3 from index\n",
    "ohe_country = OneHotEncoder(categorical_features = [132])\n",
    "X = ohe_country.fit_transform(X).toarray()\n",
    "\n",
    "#country doe, do for continent. subtract 3 from index\n",
    "ohe_conti = OneHotEncoder(categorical_features = [344])\n",
    "X = ohe_conti.fit_transform(X).toarray()\n",
    "#continent done, do for OS\n",
    "ohe_os = OneHotEncoder(categorical_features = [349])\n",
    "X = ohe_os.fit_transform(X).toarray()\n",
    "#OS done, do not do for Mobile, skip to Source\n",
    "#subtract 4 to get to source from index\n",
    "ohe_source = OneHotEncoder(categorical_features = [355])\n",
    "X = ohe_source.fit_transform(X).toarray()\n",
    "#source is done, move to campaign. subtract 4 from index\n",
    "ohe_campaign = OneHotEncoder(categorical_features = [392])\n",
    "X = ohe_campaign.fit_transform(X).toarray()\n",
    "\n",
    "#campoign is done, next is browser. subtract 4 from index\n",
    "ohe_browser = OneHotEncoder(categorical_features = [400])\n",
    "X = ohe_browser.fit_transform(X).toarray()"
   ]
  },
  {
   "cell_type": "code",
   "execution_count": 182,
   "metadata": {},
   "outputs": [
    {
     "data": {
      "text/plain": [
       "(500000, 15)"
      ]
     },
     "execution_count": 182,
     "metadata": {},
     "output_type": "execute_result"
    }
   ],
   "source": [
    "X.shape"
   ]
  },
  {
   "cell_type": "code",
   "execution_count": 183,
   "metadata": {},
   "outputs": [
    {
     "name": "stderr",
     "output_type": "stream",
     "text": [
      "C:\\Users\\164118\\AppData\\Local\\Continuum\\anaconda3\\lib\\site-packages\\sklearn\\utils\\validation.py:475: DataConversionWarning: Data with input dtype int32 was converted to float64 by StandardScaler.\n",
      "  warnings.warn(msg, DataConversionWarning)\n",
      "C:\\Users\\164118\\AppData\\Local\\Continuum\\anaconda3\\lib\\site-packages\\sklearn\\utils\\validation.py:475: DataConversionWarning: Data with input dtype int32 was converted to float64 by StandardScaler.\n",
      "  warnings.warn(msg, DataConversionWarning)\n",
      "C:\\Users\\164118\\AppData\\Local\\Continuum\\anaconda3\\lib\\site-packages\\sklearn\\utils\\validation.py:475: DataConversionWarning: Data with input dtype int32 was converted to float64 by StandardScaler.\n",
      "  warnings.warn(msg, DataConversionWarning)\n"
     ]
    }
   ],
   "source": [
    "#All features encoded - now Normalize the data\n",
    "X_train, X_test, y_train, y_test = train_test_split(X,y, test_size = .2, random_state=25)\n",
    "scx = StandardScaler()\n",
    "#scy = MinMaxScaler()\n",
    "X_train = scx.fit_transform(X_train)\n",
    "X_test = scx.transform(X_test)\n",
    "y_train = np.log1p(y_train)\n",
    "y_test = np.log1p(y_test)\n"
   ]
  },
  {
   "cell_type": "code",
   "execution_count": 184,
   "metadata": {},
   "outputs": [],
   "source": [
    "import xgboost\n",
    "xgb = xgboost.XGBRegressor(silent=0, eta=0.1,\n",
    "                           early_stopping_rounds=30,eval_metric=\"rmse\",\n",
    "                           min_child_weight=7,max_depth=6,num_round=150,n_estimators=100,\n",
    "                           reg_alpha=1,max_delta_step=0,colsample_bytree=0.6,subsample=0.6,gamma=0.3,\n",
    "                           objective='reg:linear',n_jobs=10)"
   ]
  },
  {
   "cell_type": "code",
   "execution_count": 185,
   "metadata": {
    "scrolled": true
   },
   "outputs": [
    {
     "name": "stdout",
     "output_type": "stream",
     "text": [
      "[12:07:17] C:\\Users\\Administrator\\Desktop\\xgboost\\src\\tree\\updater_prune.cc:74: tree pruning end, 1 roots, 118 extra nodes, 0 pruned nodes, max_depth=6\n",
      "[12:07:17] C:\\Users\\Administrator\\Desktop\\xgboost\\src\\tree\\updater_prune.cc:74: tree pruning end, 1 roots, 80 extra nodes, 2 pruned nodes, max_depth=6\n",
      "[12:07:18] C:\\Users\\Administrator\\Desktop\\xgboost\\src\\tree\\updater_prune.cc:74: tree pruning end, 1 roots, 116 extra nodes, 0 pruned nodes, max_depth=6\n",
      "[12:07:18] C:\\Users\\Administrator\\Desktop\\xgboost\\src\\tree\\updater_prune.cc:74: tree pruning end, 1 roots, 116 extra nodes, 2 pruned nodes, max_depth=6\n",
      "[12:07:19] C:\\Users\\Administrator\\Desktop\\xgboost\\src\\tree\\updater_prune.cc:74: tree pruning end, 1 roots, 110 extra nodes, 0 pruned nodes, max_depth=6\n",
      "[12:07:19] C:\\Users\\Administrator\\Desktop\\xgboost\\src\\tree\\updater_prune.cc:74: tree pruning end, 1 roots, 116 extra nodes, 0 pruned nodes, max_depth=6\n",
      "[12:07:20] C:\\Users\\Administrator\\Desktop\\xgboost\\src\\tree\\updater_prune.cc:74: tree pruning end, 1 roots, 112 extra nodes, 0 pruned nodes, max_depth=6\n",
      "[12:07:20] C:\\Users\\Administrator\\Desktop\\xgboost\\src\\tree\\updater_prune.cc:74: tree pruning end, 1 roots, 110 extra nodes, 0 pruned nodes, max_depth=6\n",
      "[12:07:21] C:\\Users\\Administrator\\Desktop\\xgboost\\src\\tree\\updater_prune.cc:74: tree pruning end, 1 roots, 106 extra nodes, 0 pruned nodes, max_depth=6\n",
      "[12:07:21] C:\\Users\\Administrator\\Desktop\\xgboost\\src\\tree\\updater_prune.cc:74: tree pruning end, 1 roots, 112 extra nodes, 0 pruned nodes, max_depth=6\n",
      "[12:07:22] C:\\Users\\Administrator\\Desktop\\xgboost\\src\\tree\\updater_prune.cc:74: tree pruning end, 1 roots, 116 extra nodes, 2 pruned nodes, max_depth=6\n",
      "[12:07:23] C:\\Users\\Administrator\\Desktop\\xgboost\\src\\tree\\updater_prune.cc:74: tree pruning end, 1 roots, 120 extra nodes, 0 pruned nodes, max_depth=6\n",
      "[12:07:23] C:\\Users\\Administrator\\Desktop\\xgboost\\src\\tree\\updater_prune.cc:74: tree pruning end, 1 roots, 104 extra nodes, 4 pruned nodes, max_depth=6\n",
      "[12:07:24] C:\\Users\\Administrator\\Desktop\\xgboost\\src\\tree\\updater_prune.cc:74: tree pruning end, 1 roots, 114 extra nodes, 2 pruned nodes, max_depth=6\n",
      "[12:07:24] C:\\Users\\Administrator\\Desktop\\xgboost\\src\\tree\\updater_prune.cc:74: tree pruning end, 1 roots, 116 extra nodes, 0 pruned nodes, max_depth=6\n",
      "[12:07:25] C:\\Users\\Administrator\\Desktop\\xgboost\\src\\tree\\updater_prune.cc:74: tree pruning end, 1 roots, 98 extra nodes, 2 pruned nodes, max_depth=6\n",
      "[12:07:25] C:\\Users\\Administrator\\Desktop\\xgboost\\src\\tree\\updater_prune.cc:74: tree pruning end, 1 roots, 100 extra nodes, 6 pruned nodes, max_depth=6\n",
      "[12:07:26] C:\\Users\\Administrator\\Desktop\\xgboost\\src\\tree\\updater_prune.cc:74: tree pruning end, 1 roots, 104 extra nodes, 0 pruned nodes, max_depth=6\n",
      "[12:07:26] C:\\Users\\Administrator\\Desktop\\xgboost\\src\\tree\\updater_prune.cc:74: tree pruning end, 1 roots, 100 extra nodes, 6 pruned nodes, max_depth=6\n",
      "[12:07:27] C:\\Users\\Administrator\\Desktop\\xgboost\\src\\tree\\updater_prune.cc:74: tree pruning end, 1 roots, 118 extra nodes, 2 pruned nodes, max_depth=6\n",
      "[12:07:27] C:\\Users\\Administrator\\Desktop\\xgboost\\src\\tree\\updater_prune.cc:74: tree pruning end, 1 roots, 112 extra nodes, 2 pruned nodes, max_depth=6\n",
      "[12:07:28] C:\\Users\\Administrator\\Desktop\\xgboost\\src\\tree\\updater_prune.cc:74: tree pruning end, 1 roots, 108 extra nodes, 0 pruned nodes, max_depth=6\n",
      "[12:07:29] C:\\Users\\Administrator\\Desktop\\xgboost\\src\\tree\\updater_prune.cc:74: tree pruning end, 1 roots, 108 extra nodes, 4 pruned nodes, max_depth=6\n",
      "[12:07:29] C:\\Users\\Administrator\\Desktop\\xgboost\\src\\tree\\updater_prune.cc:74: tree pruning end, 1 roots, 100 extra nodes, 2 pruned nodes, max_depth=6\n",
      "[12:07:30] C:\\Users\\Administrator\\Desktop\\xgboost\\src\\tree\\updater_prune.cc:74: tree pruning end, 1 roots, 100 extra nodes, 0 pruned nodes, max_depth=6\n",
      "[12:07:30] C:\\Users\\Administrator\\Desktop\\xgboost\\src\\tree\\updater_prune.cc:74: tree pruning end, 1 roots, 112 extra nodes, 2 pruned nodes, max_depth=6\n",
      "[12:07:31] C:\\Users\\Administrator\\Desktop\\xgboost\\src\\tree\\updater_prune.cc:74: tree pruning end, 1 roots, 102 extra nodes, 8 pruned nodes, max_depth=6\n",
      "[12:07:31] C:\\Users\\Administrator\\Desktop\\xgboost\\src\\tree\\updater_prune.cc:74: tree pruning end, 1 roots, 118 extra nodes, 4 pruned nodes, max_depth=6\n",
      "[12:07:32] C:\\Users\\Administrator\\Desktop\\xgboost\\src\\tree\\updater_prune.cc:74: tree pruning end, 1 roots, 122 extra nodes, 0 pruned nodes, max_depth=6\n",
      "[12:07:32] C:\\Users\\Administrator\\Desktop\\xgboost\\src\\tree\\updater_prune.cc:74: tree pruning end, 1 roots, 118 extra nodes, 2 pruned nodes, max_depth=6\n",
      "[12:07:33] C:\\Users\\Administrator\\Desktop\\xgboost\\src\\tree\\updater_prune.cc:74: tree pruning end, 1 roots, 102 extra nodes, 0 pruned nodes, max_depth=6\n",
      "[12:07:33] C:\\Users\\Administrator\\Desktop\\xgboost\\src\\tree\\updater_prune.cc:74: tree pruning end, 1 roots, 104 extra nodes, 0 pruned nodes, max_depth=6\n",
      "[12:07:33] C:\\Users\\Administrator\\Desktop\\xgboost\\src\\tree\\updater_prune.cc:74: tree pruning end, 1 roots, 114 extra nodes, 6 pruned nodes, max_depth=6\n",
      "[12:07:34] C:\\Users\\Administrator\\Desktop\\xgboost\\src\\tree\\updater_prune.cc:74: tree pruning end, 1 roots, 114 extra nodes, 2 pruned nodes, max_depth=6\n",
      "[12:07:34] C:\\Users\\Administrator\\Desktop\\xgboost\\src\\tree\\updater_prune.cc:74: tree pruning end, 1 roots, 88 extra nodes, 2 pruned nodes, max_depth=6\n",
      "[12:07:35] C:\\Users\\Administrator\\Desktop\\xgboost\\src\\tree\\updater_prune.cc:74: tree pruning end, 1 roots, 52 extra nodes, 0 pruned nodes, max_depth=6\n",
      "[12:07:35] C:\\Users\\Administrator\\Desktop\\xgboost\\src\\tree\\updater_prune.cc:74: tree pruning end, 1 roots, 124 extra nodes, 0 pruned nodes, max_depth=6\n",
      "[12:07:35] C:\\Users\\Administrator\\Desktop\\xgboost\\src\\tree\\updater_prune.cc:74: tree pruning end, 1 roots, 120 extra nodes, 0 pruned nodes, max_depth=6\n",
      "[12:07:36] C:\\Users\\Administrator\\Desktop\\xgboost\\src\\tree\\updater_prune.cc:74: tree pruning end, 1 roots, 28 extra nodes, 0 pruned nodes, max_depth=6\n",
      "[12:07:36] C:\\Users\\Administrator\\Desktop\\xgboost\\src\\tree\\updater_prune.cc:74: tree pruning end, 1 roots, 94 extra nodes, 0 pruned nodes, max_depth=6\n",
      "[12:07:37] C:\\Users\\Administrator\\Desktop\\xgboost\\src\\tree\\updater_prune.cc:74: tree pruning end, 1 roots, 112 extra nodes, 2 pruned nodes, max_depth=6\n",
      "[12:07:37] C:\\Users\\Administrator\\Desktop\\xgboost\\src\\tree\\updater_prune.cc:74: tree pruning end, 1 roots, 34 extra nodes, 0 pruned nodes, max_depth=6\n",
      "[12:07:38] C:\\Users\\Administrator\\Desktop\\xgboost\\src\\tree\\updater_prune.cc:74: tree pruning end, 1 roots, 110 extra nodes, 0 pruned nodes, max_depth=6\n",
      "[12:07:39] C:\\Users\\Administrator\\Desktop\\xgboost\\src\\tree\\updater_prune.cc:74: tree pruning end, 1 roots, 48 extra nodes, 0 pruned nodes, max_depth=6\n",
      "[12:07:39] C:\\Users\\Administrator\\Desktop\\xgboost\\src\\tree\\updater_prune.cc:74: tree pruning end, 1 roots, 112 extra nodes, 10 pruned nodes, max_depth=6\n",
      "[12:07:40] C:\\Users\\Administrator\\Desktop\\xgboost\\src\\tree\\updater_prune.cc:74: tree pruning end, 1 roots, 120 extra nodes, 0 pruned nodes, max_depth=6\n",
      "[12:07:40] C:\\Users\\Administrator\\Desktop\\xgboost\\src\\tree\\updater_prune.cc:74: tree pruning end, 1 roots, 100 extra nodes, 2 pruned nodes, max_depth=6\n",
      "[12:07:41] C:\\Users\\Administrator\\Desktop\\xgboost\\src\\tree\\updater_prune.cc:74: tree pruning end, 1 roots, 82 extra nodes, 2 pruned nodes, max_depth=6\n",
      "[12:07:41] C:\\Users\\Administrator\\Desktop\\xgboost\\src\\tree\\updater_prune.cc:74: tree pruning end, 1 roots, 54 extra nodes, 0 pruned nodes, max_depth=6\n",
      "[12:07:42] C:\\Users\\Administrator\\Desktop\\xgboost\\src\\tree\\updater_prune.cc:74: tree pruning end, 1 roots, 112 extra nodes, 2 pruned nodes, max_depth=6\n",
      "[12:07:42] C:\\Users\\Administrator\\Desktop\\xgboost\\src\\tree\\updater_prune.cc:74: tree pruning end, 1 roots, 44 extra nodes, 0 pruned nodes, max_depth=6\n",
      "[12:07:43] C:\\Users\\Administrator\\Desktop\\xgboost\\src\\tree\\updater_prune.cc:74: tree pruning end, 1 roots, 118 extra nodes, 2 pruned nodes, max_depth=6\n",
      "[12:07:43] C:\\Users\\Administrator\\Desktop\\xgboost\\src\\tree\\updater_prune.cc:74: tree pruning end, 1 roots, 74 extra nodes, 0 pruned nodes, max_depth=6\n",
      "[12:07:44] C:\\Users\\Administrator\\Desktop\\xgboost\\src\\tree\\updater_prune.cc:74: tree pruning end, 1 roots, 54 extra nodes, 0 pruned nodes, max_depth=6\n"
     ]
    },
    {
     "name": "stdout",
     "output_type": "stream",
     "text": [
      "[12:07:44] C:\\Users\\Administrator\\Desktop\\xgboost\\src\\tree\\updater_prune.cc:74: tree pruning end, 1 roots, 110 extra nodes, 0 pruned nodes, max_depth=6\n",
      "[12:07:44] C:\\Users\\Administrator\\Desktop\\xgboost\\src\\tree\\updater_prune.cc:74: tree pruning end, 1 roots, 122 extra nodes, 2 pruned nodes, max_depth=6\n",
      "[12:07:45] C:\\Users\\Administrator\\Desktop\\xgboost\\src\\tree\\updater_prune.cc:74: tree pruning end, 1 roots, 70 extra nodes, 0 pruned nodes, max_depth=6\n",
      "[12:07:45] C:\\Users\\Administrator\\Desktop\\xgboost\\src\\tree\\updater_prune.cc:74: tree pruning end, 1 roots, 106 extra nodes, 2 pruned nodes, max_depth=6\n",
      "[12:07:45] C:\\Users\\Administrator\\Desktop\\xgboost\\src\\tree\\updater_prune.cc:74: tree pruning end, 1 roots, 40 extra nodes, 0 pruned nodes, max_depth=6\n",
      "[12:07:46] C:\\Users\\Administrator\\Desktop\\xgboost\\src\\tree\\updater_prune.cc:74: tree pruning end, 1 roots, 40 extra nodes, 0 pruned nodes, max_depth=6\n",
      "[12:07:46] C:\\Users\\Administrator\\Desktop\\xgboost\\src\\tree\\updater_prune.cc:74: tree pruning end, 1 roots, 94 extra nodes, 0 pruned nodes, max_depth=6\n",
      "[12:07:47] C:\\Users\\Administrator\\Desktop\\xgboost\\src\\tree\\updater_prune.cc:74: tree pruning end, 1 roots, 94 extra nodes, 0 pruned nodes, max_depth=6\n",
      "[12:07:47] C:\\Users\\Administrator\\Desktop\\xgboost\\src\\tree\\updater_prune.cc:74: tree pruning end, 1 roots, 108 extra nodes, 8 pruned nodes, max_depth=6\n",
      "[12:07:48] C:\\Users\\Administrator\\Desktop\\xgboost\\src\\tree\\updater_prune.cc:74: tree pruning end, 1 roots, 76 extra nodes, 0 pruned nodes, max_depth=6\n",
      "[12:07:48] C:\\Users\\Administrator\\Desktop\\xgboost\\src\\tree\\updater_prune.cc:74: tree pruning end, 1 roots, 62 extra nodes, 0 pruned nodes, max_depth=6\n",
      "[12:07:49] C:\\Users\\Administrator\\Desktop\\xgboost\\src\\tree\\updater_prune.cc:74: tree pruning end, 1 roots, 102 extra nodes, 0 pruned nodes, max_depth=6\n",
      "[12:07:50] C:\\Users\\Administrator\\Desktop\\xgboost\\src\\tree\\updater_prune.cc:74: tree pruning end, 1 roots, 98 extra nodes, 2 pruned nodes, max_depth=6\n",
      "[12:07:50] C:\\Users\\Administrator\\Desktop\\xgboost\\src\\tree\\updater_prune.cc:74: tree pruning end, 1 roots, 124 extra nodes, 0 pruned nodes, max_depth=6\n",
      "[12:07:50] C:\\Users\\Administrator\\Desktop\\xgboost\\src\\tree\\updater_prune.cc:74: tree pruning end, 1 roots, 72 extra nodes, 2 pruned nodes, max_depth=6\n",
      "[12:07:51] C:\\Users\\Administrator\\Desktop\\xgboost\\src\\tree\\updater_prune.cc:74: tree pruning end, 1 roots, 58 extra nodes, 0 pruned nodes, max_depth=6\n",
      "[12:07:51] C:\\Users\\Administrator\\Desktop\\xgboost\\src\\tree\\updater_prune.cc:74: tree pruning end, 1 roots, 86 extra nodes, 0 pruned nodes, max_depth=6\n",
      "[12:07:52] C:\\Users\\Administrator\\Desktop\\xgboost\\src\\tree\\updater_prune.cc:74: tree pruning end, 1 roots, 56 extra nodes, 0 pruned nodes, max_depth=6\n",
      "[12:07:52] C:\\Users\\Administrator\\Desktop\\xgboost\\src\\tree\\updater_prune.cc:74: tree pruning end, 1 roots, 54 extra nodes, 0 pruned nodes, max_depth=6\n",
      "[12:07:53] C:\\Users\\Administrator\\Desktop\\xgboost\\src\\tree\\updater_prune.cc:74: tree pruning end, 1 roots, 96 extra nodes, 2 pruned nodes, max_depth=6\n",
      "[12:07:53] C:\\Users\\Administrator\\Desktop\\xgboost\\src\\tree\\updater_prune.cc:74: tree pruning end, 1 roots, 80 extra nodes, 0 pruned nodes, max_depth=6\n",
      "[12:07:53] C:\\Users\\Administrator\\Desktop\\xgboost\\src\\tree\\updater_prune.cc:74: tree pruning end, 1 roots, 116 extra nodes, 4 pruned nodes, max_depth=6\n",
      "[12:07:54] C:\\Users\\Administrator\\Desktop\\xgboost\\src\\tree\\updater_prune.cc:74: tree pruning end, 1 roots, 60 extra nodes, 0 pruned nodes, max_depth=6\n",
      "[12:07:54] C:\\Users\\Administrator\\Desktop\\xgboost\\src\\tree\\updater_prune.cc:74: tree pruning end, 1 roots, 14 extra nodes, 0 pruned nodes, max_depth=6\n",
      "[12:07:55] C:\\Users\\Administrator\\Desktop\\xgboost\\src\\tree\\updater_prune.cc:74: tree pruning end, 1 roots, 74 extra nodes, 0 pruned nodes, max_depth=6\n",
      "[12:07:55] C:\\Users\\Administrator\\Desktop\\xgboost\\src\\tree\\updater_prune.cc:74: tree pruning end, 1 roots, 66 extra nodes, 0 pruned nodes, max_depth=6\n",
      "[12:07:56] C:\\Users\\Administrator\\Desktop\\xgboost\\src\\tree\\updater_prune.cc:74: tree pruning end, 1 roots, 114 extra nodes, 0 pruned nodes, max_depth=6\n",
      "[12:07:56] C:\\Users\\Administrator\\Desktop\\xgboost\\src\\tree\\updater_prune.cc:74: tree pruning end, 1 roots, 58 extra nodes, 0 pruned nodes, max_depth=6\n",
      "[12:07:56] C:\\Users\\Administrator\\Desktop\\xgboost\\src\\tree\\updater_prune.cc:74: tree pruning end, 1 roots, 76 extra nodes, 2 pruned nodes, max_depth=6\n",
      "[12:07:57] C:\\Users\\Administrator\\Desktop\\xgboost\\src\\tree\\updater_prune.cc:74: tree pruning end, 1 roots, 88 extra nodes, 2 pruned nodes, max_depth=6\n",
      "[12:07:57] C:\\Users\\Administrator\\Desktop\\xgboost\\src\\tree\\updater_prune.cc:74: tree pruning end, 1 roots, 118 extra nodes, 0 pruned nodes, max_depth=6\n",
      "[12:07:58] C:\\Users\\Administrator\\Desktop\\xgboost\\src\\tree\\updater_prune.cc:74: tree pruning end, 1 roots, 120 extra nodes, 0 pruned nodes, max_depth=6\n",
      "[12:07:58] C:\\Users\\Administrator\\Desktop\\xgboost\\src\\tree\\updater_prune.cc:74: tree pruning end, 1 roots, 20 extra nodes, 0 pruned nodes, max_depth=6\n",
      "[12:07:59] C:\\Users\\Administrator\\Desktop\\xgboost\\src\\tree\\updater_prune.cc:74: tree pruning end, 1 roots, 108 extra nodes, 0 pruned nodes, max_depth=6\n",
      "[12:07:59] C:\\Users\\Administrator\\Desktop\\xgboost\\src\\tree\\updater_prune.cc:74: tree pruning end, 1 roots, 106 extra nodes, 0 pruned nodes, max_depth=6\n",
      "[12:08:00] C:\\Users\\Administrator\\Desktop\\xgboost\\src\\tree\\updater_prune.cc:74: tree pruning end, 1 roots, 60 extra nodes, 0 pruned nodes, max_depth=6\n",
      "[12:08:00] C:\\Users\\Administrator\\Desktop\\xgboost\\src\\tree\\updater_prune.cc:74: tree pruning end, 1 roots, 90 extra nodes, 0 pruned nodes, max_depth=6\n",
      "[12:08:01] C:\\Users\\Administrator\\Desktop\\xgboost\\src\\tree\\updater_prune.cc:74: tree pruning end, 1 roots, 84 extra nodes, 2 pruned nodes, max_depth=6\n",
      "[12:08:01] C:\\Users\\Administrator\\Desktop\\xgboost\\src\\tree\\updater_prune.cc:74: tree pruning end, 1 roots, 76 extra nodes, 0 pruned nodes, max_depth=6\n",
      "[12:08:01] C:\\Users\\Administrator\\Desktop\\xgboost\\src\\tree\\updater_prune.cc:74: tree pruning end, 1 roots, 44 extra nodes, 0 pruned nodes, max_depth=6\n",
      "[12:08:02] C:\\Users\\Administrator\\Desktop\\xgboost\\src\\tree\\updater_prune.cc:74: tree pruning end, 1 roots, 120 extra nodes, 0 pruned nodes, max_depth=6\n",
      "[12:08:02] C:\\Users\\Administrator\\Desktop\\xgboost\\src\\tree\\updater_prune.cc:74: tree pruning end, 1 roots, 66 extra nodes, 0 pruned nodes, max_depth=6\n",
      "[12:08:03] C:\\Users\\Administrator\\Desktop\\xgboost\\src\\tree\\updater_prune.cc:74: tree pruning end, 1 roots, 122 extra nodes, 0 pruned nodes, max_depth=6\n",
      "[12:08:03] C:\\Users\\Administrator\\Desktop\\xgboost\\src\\tree\\updater_prune.cc:74: tree pruning end, 1 roots, 96 extra nodes, 0 pruned nodes, max_depth=6\n",
      "[12:08:04] C:\\Users\\Administrator\\Desktop\\xgboost\\src\\tree\\updater_prune.cc:74: tree pruning end, 1 roots, 30 extra nodes, 0 pruned nodes, max_depth=6\n",
      "[12:08:04] C:\\Users\\Administrator\\Desktop\\xgboost\\src\\tree\\updater_prune.cc:74: tree pruning end, 1 roots, 112 extra nodes, 0 pruned nodes, max_depth=6\n"
     ]
    },
    {
     "data": {
      "text/plain": [
       "XGBRegressor(base_score=0.5, booster='gbtree', colsample_bylevel=1,\n",
       "       colsample_bytree=0.6, early_stopping_rounds=30, eta=0.1,\n",
       "       eval_metric='rmse', gamma=0.3, learning_rate=0.1, max_delta_step=0,\n",
       "       max_depth=6, min_child_weight=7, missing=None, n_estimators=100,\n",
       "       n_jobs=10, nthread=None, num_round=150, objective='reg:linear',\n",
       "       random_state=0, reg_alpha=1, reg_lambda=1, scale_pos_weight=1,\n",
       "       seed=None, silent=0, subsample=0.6)"
      ]
     },
     "execution_count": 185,
     "metadata": {},
     "output_type": "execute_result"
    }
   ],
   "source": [
    "#train the model\n",
    "xgb.fit(X_train, y_train)\n"
   ]
  },
  {
   "cell_type": "code",
   "execution_count": 186,
   "metadata": {},
   "outputs": [],
   "source": [
    "#evaluate the model\n",
    "y_pred = xgb.predict(X_test)"
   ]
  },
  {
   "cell_type": "code",
   "execution_count": 187,
   "metadata": {},
   "outputs": [],
   "source": [
    "ypred_actual = np.expm1(y_pred)\n",
    "ytest_actual = np.expm1(y_test)"
   ]
  },
  {
   "cell_type": "code",
   "execution_count": 188,
   "metadata": {},
   "outputs": [
    {
     "data": {
      "text/plain": [
       "0.3255764359547558"
      ]
     },
     "execution_count": 188,
     "metadata": {},
     "output_type": "execute_result"
    }
   ],
   "source": [
    "#test score\n",
    "xgb.score(X_test,y_test)"
   ]
  },
  {
   "cell_type": "code",
   "execution_count": 189,
   "metadata": {},
   "outputs": [
    {
     "data": {
      "text/plain": [
       "0.37049667426649935"
      ]
     },
     "execution_count": 189,
     "metadata": {},
     "output_type": "execute_result"
    }
   ],
   "source": [
    "#train score\n",
    "xgb.score(X_train,y_train)"
   ]
  },
  {
   "cell_type": "code",
   "execution_count": 190,
   "metadata": {},
   "outputs": [
    {
     "data": {
      "text/plain": [
       "-411.1700289937578"
      ]
     },
     "execution_count": 190,
     "metadata": {},
     "output_type": "execute_result"
    }
   ],
   "source": [
    "#RMSE for train data\n",
    "from sklearn.metrics import r2_score\n",
    "y_pred_train = xgb.predict(X_train)\n",
    "ypred_act_train = np.expm1(y_pred_train)\n",
    "ytrain_actual = np.expm1(y_train)\n",
    "r2_score(ypred_act_train, ytrain_actual)"
   ]
  },
  {
   "cell_type": "code",
   "execution_count": null,
   "metadata": {},
   "outputs": [],
   "source": []
  },
  {
   "cell_type": "code",
   "execution_count": 191,
   "metadata": {},
   "outputs": [
    {
     "data": {
      "text/plain": [
       "-705.5320488771057"
      ]
     },
     "execution_count": 191,
     "metadata": {},
     "output_type": "execute_result"
    }
   ],
   "source": [
    "#RMSE for test data\n",
    "#print(round(np.sqrt(mean_squared_error(ytest_actual, ypred_actual))),2)\n",
    "r2_score(ypred_actual, ytest_actual)\n"
   ]
  },
  {
   "cell_type": "code",
   "execution_count": 192,
   "metadata": {},
   "outputs": [
    {
     "data": {
      "text/plain": [
       "Text(0.5,1,'Weightage')"
      ]
     },
     "execution_count": 192,
     "metadata": {},
     "output_type": "execute_result"
    },
    {
     "data": {
      "image/png": "[encoded data removed]",
      "text/plain": [
       "<Figure size 432x288 with 1 Axes>"
      ]
     },
     "metadata": {
      "needs_background": "light"
     },
     "output_type": "display_data"
    }
   ],
   "source": [
    "xgboost.plot_importance(xgb,importance_type='weight',max_num_features=20)\n",
    "plt.title('Weightage')"
   ]
  },
  {
   "cell_type": "code",
   "execution_count": 198,
   "metadata": {},
   "outputs": [
    {
     "data": {
      "text/html": [
       "<div>\n",
       "<style scoped>\n",
       "    .dataframe tbody tr th:only-of-type {\n",
       "        vertical-align: middle;\n",
       "    }\n",
       "\n",
       "    .dataframe tbody tr th {\n",
       "        vertical-align: top;\n",
       "    }\n",
       "\n",
       "    .dataframe thead th {\n",
       "        text-align: right;\n",
       "    }\n",
       "</style>\n",
       "<table border=\"1\" class=\"dataframe\">\n",
       "  <thead>\n",
       "    <tr style=\"text-align: right;\">\n",
       "      <th></th>\n",
       "      <th>transactionRevenue</th>\n",
       "      <th>browser</th>\n",
       "      <th>campaign</th>\n",
       "      <th>source</th>\n",
       "      <th>isMobile</th>\n",
       "      <th>operatingSystem</th>\n",
       "      <th>continent</th>\n",
       "      <th>country</th>\n",
       "      <th>subContinent</th>\n",
       "      <th>month</th>\n",
       "      <th>week</th>\n",
       "      <th>dow</th>\n",
       "      <th>time_of_hour</th>\n",
       "      <th>channelGrouping</th>\n",
       "      <th>hits</th>\n",
       "      <th>pageviews</th>\n",
       "    </tr>\n",
       "  </thead>\n",
       "  <tbody>\n",
       "    <tr>\n",
       "      <th>transactionRevenue</th>\n",
       "      <td>1.000000</td>\n",
       "      <td>-0.014077</td>\n",
       "      <td>0.000013</td>\n",
       "      <td>-0.012384</td>\n",
       "      <td>-0.014428</td>\n",
       "      <td>-0.005874</td>\n",
       "      <td>-0.023768</td>\n",
       "      <td>0.020382</td>\n",
       "      <td>-0.008882</td>\n",
       "      <td>-0.003314</td>\n",
       "      <td>-0.003339</td>\n",
       "      <td>-0.005466</td>\n",
       "      <td>0.010522</td>\n",
       "      <td>-0.007762</td>\n",
       "      <td>0.150233</td>\n",
       "      <td>0.151965</td>\n",
       "    </tr>\n",
       "    <tr>\n",
       "      <th>browser</th>\n",
       "      <td>-0.014077</td>\n",
       "      <td>1.000000</td>\n",
       "      <td>0.009390</td>\n",
       "      <td>0.156716</td>\n",
       "      <td>0.247100</td>\n",
       "      <td>0.388131</td>\n",
       "      <td>0.054464</td>\n",
       "      <td>-0.025268</td>\n",
       "      <td>0.042651</td>\n",
       "      <td>0.082811</td>\n",
       "      <td>0.083051</td>\n",
       "      <td>0.047727</td>\n",
       "      <td>-0.052967</td>\n",
       "      <td>0.120652</td>\n",
       "      <td>-0.084460</td>\n",
       "      <td>-0.088418</td>\n",
       "    </tr>\n",
       "    <tr>\n",
       "      <th>campaign</th>\n",
       "      <td>0.000013</td>\n",
       "      <td>0.009390</td>\n",
       "      <td>1.000000</td>\n",
       "      <td>0.115297</td>\n",
       "      <td>-0.065691</td>\n",
       "      <td>-0.000262</td>\n",
       "      <td>0.098595</td>\n",
       "      <td>-0.091848</td>\n",
       "      <td>0.041725</td>\n",
       "      <td>0.024530</td>\n",
       "      <td>0.024743</td>\n",
       "      <td>-0.009175</td>\n",
       "      <td>0.010082</td>\n",
       "      <td>0.057980</td>\n",
       "      <td>-0.030528</td>\n",
       "      <td>-0.033896</td>\n",
       "    </tr>\n",
       "    <tr>\n",
       "      <th>source</th>\n",
       "      <td>-0.012384</td>\n",
       "      <td>0.156716</td>\n",
       "      <td>0.115297</td>\n",
       "      <td>1.000000</td>\n",
       "      <td>-0.252440</td>\n",
       "      <td>0.067815</td>\n",
       "      <td>0.081344</td>\n",
       "      <td>-0.088876</td>\n",
       "      <td>0.090988</td>\n",
       "      <td>0.223002</td>\n",
       "      <td>0.223473</td>\n",
       "      <td>0.041151</td>\n",
       "      <td>-0.047008</td>\n",
       "      <td>0.955654</td>\n",
       "      <td>-0.117041</td>\n",
       "      <td>-0.123369</td>\n",
       "    </tr>\n",
       "    <tr>\n",
       "      <th>isMobile</th>\n",
       "      <td>-0.014428</td>\n",
       "      <td>0.247100</td>\n",
       "      <td>-0.065691</td>\n",
       "      <td>-0.252440</td>\n",
       "      <td>1.000000</td>\n",
       "      <td>-0.134110</td>\n",
       "      <td>-0.023354</td>\n",
       "      <td>0.006830</td>\n",
       "      <td>-0.015077</td>\n",
       "      <td>-0.111774</td>\n",
       "      <td>-0.112344</td>\n",
       "      <td>0.057693</td>\n",
       "      <td>-0.022458</td>\n",
       "      <td>-0.237436</td>\n",
       "      <td>-0.022977</td>\n",
       "      <td>-0.023154</td>\n",
       "    </tr>\n",
       "    <tr>\n",
       "      <th>operatingSystem</th>\n",
       "      <td>-0.005874</td>\n",
       "      <td>0.388131</td>\n",
       "      <td>-0.000262</td>\n",
       "      <td>0.067815</td>\n",
       "      <td>-0.134110</td>\n",
       "      <td>1.000000</td>\n",
       "      <td>0.042553</td>\n",
       "      <td>-0.015111</td>\n",
       "      <td>-0.026327</td>\n",
       "      <td>0.019444</td>\n",
       "      <td>0.019753</td>\n",
       "      <td>0.008039</td>\n",
       "      <td>-0.028328</td>\n",
       "      <td>0.053605</td>\n",
       "      <td>-0.031976</td>\n",
       "      <td>-0.032443</td>\n",
       "    </tr>\n",
       "    <tr>\n",
       "      <th>continent</th>\n",
       "      <td>-0.023768</td>\n",
       "      <td>0.054464</td>\n",
       "      <td>0.098595</td>\n",
       "      <td>0.081344</td>\n",
       "      <td>-0.023354</td>\n",
       "      <td>0.042553</td>\n",
       "      <td>1.000000</td>\n",
       "      <td>-0.325350</td>\n",
       "      <td>0.200014</td>\n",
       "      <td>-0.007766</td>\n",
       "      <td>-0.007990</td>\n",
       "      <td>0.019818</td>\n",
       "      <td>-0.049106</td>\n",
       "      <td>0.043044</td>\n",
       "      <td>-0.138269</td>\n",
       "      <td>-0.147829</td>\n",
       "    </tr>\n",
       "    <tr>\n",
       "      <th>country</th>\n",
       "      <td>0.020382</td>\n",
       "      <td>-0.025268</td>\n",
       "      <td>-0.091848</td>\n",
       "      <td>-0.088876</td>\n",
       "      <td>0.006830</td>\n",
       "      <td>-0.015111</td>\n",
       "      <td>-0.325350</td>\n",
       "      <td>1.000000</td>\n",
       "      <td>-0.120548</td>\n",
       "      <td>0.012044</td>\n",
       "      <td>0.011970</td>\n",
       "      <td>-0.022785</td>\n",
       "      <td>0.039993</td>\n",
       "      <td>-0.046867</td>\n",
       "      <td>0.102036</td>\n",
       "      <td>0.109189</td>\n",
       "    </tr>\n",
       "    <tr>\n",
       "      <th>subContinent</th>\n",
       "      <td>-0.008882</td>\n",
       "      <td>0.042651</td>\n",
       "      <td>0.041725</td>\n",
       "      <td>0.090988</td>\n",
       "      <td>-0.015077</td>\n",
       "      <td>-0.026327</td>\n",
       "      <td>0.200014</td>\n",
       "      <td>-0.120548</td>\n",
       "      <td>1.000000</td>\n",
       "      <td>0.042310</td>\n",
       "      <td>0.042527</td>\n",
       "      <td>0.006812</td>\n",
       "      <td>0.032135</td>\n",
       "      <td>0.073751</td>\n",
       "      <td>-0.066160</td>\n",
       "      <td>-0.069790</td>\n",
       "    </tr>\n",
       "    <tr>\n",
       "      <th>month</th>\n",
       "      <td>-0.003314</td>\n",
       "      <td>0.082811</td>\n",
       "      <td>0.024530</td>\n",
       "      <td>0.223002</td>\n",
       "      <td>-0.111774</td>\n",
       "      <td>0.019444</td>\n",
       "      <td>-0.007766</td>\n",
       "      <td>0.012044</td>\n",
       "      <td>0.042310</td>\n",
       "      <td>1.000000</td>\n",
       "      <td>0.996366</td>\n",
       "      <td>0.045831</td>\n",
       "      <td>-0.030636</td>\n",
       "      <td>0.194787</td>\n",
       "      <td>-0.001700</td>\n",
       "      <td>-0.007187</td>\n",
       "    </tr>\n",
       "    <tr>\n",
       "      <th>week</th>\n",
       "      <td>-0.003339</td>\n",
       "      <td>0.083051</td>\n",
       "      <td>0.024743</td>\n",
       "      <td>0.223473</td>\n",
       "      <td>-0.112344</td>\n",
       "      <td>0.019753</td>\n",
       "      <td>-0.007990</td>\n",
       "      <td>0.011970</td>\n",
       "      <td>0.042527</td>\n",
       "      <td>0.996366</td>\n",
       "      <td>1.000000</td>\n",
       "      <td>0.033681</td>\n",
       "      <td>-0.030637</td>\n",
       "      <td>0.194896</td>\n",
       "      <td>-0.002456</td>\n",
       "      <td>-0.007870</td>\n",
       "    </tr>\n",
       "    <tr>\n",
       "      <th>dow</th>\n",
       "      <td>-0.005466</td>\n",
       "      <td>0.047727</td>\n",
       "      <td>-0.009175</td>\n",
       "      <td>0.041151</td>\n",
       "      <td>0.057693</td>\n",
       "      <td>0.008039</td>\n",
       "      <td>0.019818</td>\n",
       "      <td>-0.022785</td>\n",
       "      <td>0.006812</td>\n",
       "      <td>0.045831</td>\n",
       "      <td>0.033681</td>\n",
       "      <td>1.000000</td>\n",
       "      <td>-0.017419</td>\n",
       "      <td>0.033783</td>\n",
       "      <td>-0.004675</td>\n",
       "      <td>-0.006062</td>\n",
       "    </tr>\n",
       "    <tr>\n",
       "      <th>time_of_hour</th>\n",
       "      <td>0.010522</td>\n",
       "      <td>-0.052967</td>\n",
       "      <td>0.010082</td>\n",
       "      <td>-0.047008</td>\n",
       "      <td>-0.022458</td>\n",
       "      <td>-0.028328</td>\n",
       "      <td>-0.049106</td>\n",
       "      <td>0.039993</td>\n",
       "      <td>0.032135</td>\n",
       "      <td>-0.030636</td>\n",
       "      <td>-0.030637</td>\n",
       "      <td>-0.017419</td>\n",
       "      <td>1.000000</td>\n",
       "      <td>-0.030361</td>\n",
       "      <td>0.022162</td>\n",
       "      <td>0.024019</td>\n",
       "    </tr>\n",
       "    <tr>\n",
       "      <th>channelGrouping</th>\n",
       "      <td>-0.007762</td>\n",
       "      <td>0.120652</td>\n",
       "      <td>0.057980</td>\n",
       "      <td>0.955654</td>\n",
       "      <td>-0.237436</td>\n",
       "      <td>0.053605</td>\n",
       "      <td>0.043044</td>\n",
       "      <td>-0.046867</td>\n",
       "      <td>0.073751</td>\n",
       "      <td>0.194787</td>\n",
       "      <td>0.194896</td>\n",
       "      <td>0.033783</td>\n",
       "      <td>-0.030361</td>\n",
       "      <td>1.000000</td>\n",
       "      <td>-0.078015</td>\n",
       "      <td>-0.081808</td>\n",
       "    </tr>\n",
       "    <tr>\n",
       "      <th>hits</th>\n",
       "      <td>0.150233</td>\n",
       "      <td>-0.084460</td>\n",
       "      <td>-0.030528</td>\n",
       "      <td>-0.117041</td>\n",
       "      <td>-0.022977</td>\n",
       "      <td>-0.031976</td>\n",
       "      <td>-0.138269</td>\n",
       "      <td>0.102036</td>\n",
       "      <td>-0.066160</td>\n",
       "      <td>-0.001700</td>\n",
       "      <td>-0.002456</td>\n",
       "      <td>-0.004675</td>\n",
       "      <td>0.022162</td>\n",
       "      <td>-0.078015</td>\n",
       "      <td>1.000000</td>\n",
       "      <td>0.984623</td>\n",
       "    </tr>\n",
       "    <tr>\n",
       "      <th>pageviews</th>\n",
       "      <td>0.151965</td>\n",
       "      <td>-0.088418</td>\n",
       "      <td>-0.033896</td>\n",
       "      <td>-0.123369</td>\n",
       "      <td>-0.023154</td>\n",
       "      <td>-0.032443</td>\n",
       "      <td>-0.147829</td>\n",
       "      <td>0.109189</td>\n",
       "      <td>-0.069790</td>\n",
       "      <td>-0.007187</td>\n",
       "      <td>-0.007870</td>\n",
       "      <td>-0.006062</td>\n",
       "      <td>0.024019</td>\n",
       "      <td>-0.081808</td>\n",
       "      <td>0.984623</td>\n",
       "      <td>1.000000</td>\n",
       "    </tr>\n",
       "  </tbody>\n",
       "</table>\n",
       "</div>"
      ],
      "text/plain": [
       "                    transactionRevenue   browser  campaign    source  \\\n",
       "transactionRevenue            1.000000 -0.014077  0.000013 -0.012384   \n",
       "browser                      -0.014077  1.000000  0.009390  0.156716   \n",
       "campaign                      0.000013  0.009390  1.000000  0.115297   \n",
       "source                       -0.012384  0.156716  0.115297  1.000000   \n",
       "isMobile                     -0.014428  0.247100 -0.065691 -0.252440   \n",
       "operatingSystem              -0.005874  0.388131 -0.000262  0.067815   \n",
       "continent                    -0.023768  0.054464  0.098595  0.081344   \n",
       "country                       0.020382 -0.025268 -0.091848 -0.088876   \n",
       "subContinent                 -0.008882  0.042651  0.041725  0.090988   \n",
       "month                        -0.003314  0.082811  0.024530  0.223002   \n",
       "week                         -0.003339  0.083051  0.024743  0.223473   \n",
       "dow                          -0.005466  0.047727 -0.009175  0.041151   \n",
       "time_of_hour                  0.010522 -0.052967  0.010082 -0.047008   \n",
       "channelGrouping              -0.007762  0.120652  0.057980  0.955654   \n",
       "hits                          0.150233 -0.084460 -0.030528 -0.117041   \n",
       "pageviews                     0.151965 -0.088418 -0.033896 -0.123369   \n",
       "\n",
       "                    isMobile  operatingSystem  continent   country  \\\n",
       "transactionRevenue -0.014428        -0.005874  -0.023768  0.020382   \n",
       "browser             0.247100         0.388131   0.054464 -0.025268   \n",
       "campaign           -0.065691        -0.000262   0.098595 -0.091848   \n",
       "source             -0.252440         0.067815   0.081344 -0.088876   \n",
       "isMobile            1.000000        -0.134110  -0.023354  0.006830   \n",
       "operatingSystem    -0.134110         1.000000   0.042553 -0.015111   \n",
       "continent          -0.023354         0.042553   1.000000 -0.325350   \n",
       "country             0.006830        -0.015111  -0.325350  1.000000   \n",
       "subContinent       -0.015077        -0.026327   0.200014 -0.120548   \n",
       "month              -0.111774         0.019444  -0.007766  0.012044   \n",
       "week               -0.112344         0.019753  -0.007990  0.011970   \n",
       "dow                 0.057693         0.008039   0.019818 -0.022785   \n",
       "time_of_hour       -0.022458        -0.028328  -0.049106  0.039993   \n",
       "channelGrouping    -0.237436         0.053605   0.043044 -0.046867   \n",
       "hits               -0.022977        -0.031976  -0.138269  0.102036   \n",
       "pageviews          -0.023154        -0.032443  -0.147829  0.109189   \n",
       "\n",
       "                    subContinent     month      week       dow  time_of_hour  \\\n",
       "transactionRevenue     -0.008882 -0.003314 -0.003339 -0.005466      0.010522   \n",
       "browser                 0.042651  0.082811  0.083051  0.047727     -0.052967   \n",
       "campaign                0.041725  0.024530  0.024743 -0.009175      0.010082   \n",
       "source                  0.090988  0.223002  0.223473  0.041151     -0.047008   \n",
       "isMobile               -0.015077 -0.111774 -0.112344  0.057693     -0.022458   \n",
       "operatingSystem        -0.026327  0.019444  0.019753  0.008039     -0.028328   \n",
       "continent               0.200014 -0.007766 -0.007990  0.019818     -0.049106   \n",
       "country                -0.120548  0.012044  0.011970 -0.022785      0.039993   \n",
       "subContinent            1.000000  0.042310  0.042527  0.006812      0.032135   \n",
       "month                   0.042310  1.000000  0.996366  0.045831     -0.030636   \n",
       "week                    0.042527  0.996366  1.000000  0.033681     -0.030637   \n",
       "dow                     0.006812  0.045831  0.033681  1.000000     -0.017419   \n",
       "time_of_hour            0.032135 -0.030636 -0.030637 -0.017419      1.000000   \n",
       "channelGrouping         0.073751  0.194787  0.194896  0.033783     -0.030361   \n",
       "hits                   -0.066160 -0.001700 -0.002456 -0.004675      0.022162   \n",
       "pageviews              -0.069790 -0.007187 -0.007870 -0.006062      0.024019   \n",
       "\n",
       "                    channelGrouping      hits  pageviews  \n",
       "transactionRevenue        -0.007762  0.150233   0.151965  \n",
       "browser                    0.120652 -0.084460  -0.088418  \n",
       "campaign                   0.057980 -0.030528  -0.033896  \n",
       "source                     0.955654 -0.117041  -0.123369  \n",
       "isMobile                  -0.237436 -0.022977  -0.023154  \n",
       "operatingSystem            0.053605 -0.031976  -0.032443  \n",
       "continent                  0.043044 -0.138269  -0.147829  \n",
       "country                   -0.046867  0.102036   0.109189  \n",
       "subContinent               0.073751 -0.066160  -0.069790  \n",
       "month                      0.194787 -0.001700  -0.007187  \n",
       "week                       0.194896 -0.002456  -0.007870  \n",
       "dow                        0.033783 -0.004675  -0.006062  \n",
       "time_of_hour              -0.030361  0.022162   0.024019  \n",
       "channelGrouping            1.000000 -0.078015  -0.081808  \n",
       "hits                      -0.078015  1.000000   0.984623  \n",
       "pageviews                 -0.081808  0.984623   1.000000  "
      ]
     },
     "execution_count": 198,
     "metadata": {},
     "output_type": "execute_result"
    }
   ],
   "source": [
    "#X_train_df = pd.DataFrame(data=X)\n",
    "final_df.corr()\n"
   ]
  },
  {
   "cell_type": "code",
   "execution_count": null,
   "metadata": {},
   "outputs": [],
   "source": []
  }
 ],
 "metadata": {
  "kernelspec": {
   "display_name": "Python 3",
   "language": "python",
   "name": "python3"
  },
  "language_info": {
   "codemirror_mode": {
    "name": "ipython",
    "version": 3
   },
   "file_extension": ".py",
   "mimetype": "text/x-python",
   "name": "python",
   "nbconvert_exporter": "python",
   "pygments_lexer": "ipython3",
   "version": "3.6.8"
  }
 },
 "nbformat": 4,
 "nbformat_minor": 2
}
