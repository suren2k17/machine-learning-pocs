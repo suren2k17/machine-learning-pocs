{
 "cells": [
  {
   "cell_type": "code",
   "execution_count": 1,
   "metadata": {},
   "outputs": [
    {
     "name": "stderr",
     "output_type": "stream",
     "text": [
      "C:\\Users\\164118\\AppData\\Local\\Continuum\\anaconda3\\lib\\site-packages\\ipykernel\\parentpoller.py:116: UserWarning: Parent poll failed.  If the frontend dies,\n",
      "                the kernel may be left running.  Please let us know\n",
      "                about your system (bitness, Python, etc.) at\n",
      "                ipython-dev@scipy.org\n",
      "  ipython-dev@scipy.org\"\"\")\n"
     ]
    },
    {
     "data": {
      "text/plain": [
       "array([[35, 74],\n",
       "       [37, 37],\n",
       "       [39, 93]])"
      ]
     },
     "execution_count": 1,
     "metadata": {},
     "output_type": "execute_result"
    }
   ],
   "source": [
    "import numpy as np\n",
    "\n",
    "demo_matrix = np.array(([13,35,74,48], [23,37,37,38],[73,39,93,39]))\n",
    "demo_matrix[:, (1,2)]"
   ]
  },
  {
   "cell_type": "code",
   "execution_count": 2,
   "metadata": {},
   "outputs": [],
   "source": [
    "demo_array=np.arange(0,10)\n"
   ]
  },
  {
   "cell_type": "code",
   "execution_count": 3,
   "metadata": {},
   "outputs": [
    {
     "data": {
      "text/plain": [
       "array([0, 1, 2, 3, 4, 5, 6, 7, 8, 9])"
      ]
     },
     "execution_count": 3,
     "metadata": {},
     "output_type": "execute_result"
    }
   ],
   "source": [
    "demo_array\n"
   ]
  },
  {
   "cell_type": "code",
   "execution_count": 4,
   "metadata": {},
   "outputs": [
    {
     "data": {
      "text/plain": [
       "array([ True,  True,  True, False, False, False, False, False, False,\n",
       "       False])"
      ]
     },
     "execution_count": 4,
     "metadata": {},
     "output_type": "execute_result"
    }
   ],
   "source": [
    "demo_array <3\n"
   ]
  },
  {
   "cell_type": "code",
   "execution_count": 5,
   "metadata": {},
   "outputs": [
    {
     "data": {
      "text/plain": [
       "array([0, 1, 2, 3, 4, 5])"
      ]
     },
     "execution_count": 5,
     "metadata": {},
     "output_type": "execute_result"
    }
   ],
   "source": [
    "demo_array[demo_array <6]\n"
   ]
  },
  {
   "cell_type": "code",
   "execution_count": 6,
   "metadata": {},
   "outputs": [],
   "source": [
    "demo_matrix = np.array(([13,35,74,48], [23,37,37,38],[73,39,93,39]))"
   ]
  },
  {
   "cell_type": "code",
   "execution_count": 7,
   "metadata": {},
   "outputs": [
    {
     "data": {
      "text/plain": [
       "39"
      ]
     },
     "execution_count": 7,
     "metadata": {},
     "output_type": "execute_result"
    }
   ],
   "source": [
    "demo_matrix[2,3]\n"
   ]
  },
  {
   "cell_type": "code",
   "execution_count": 8,
   "metadata": {},
   "outputs": [
    {
     "data": {
      "text/plain": [
       "array([101, 101, 101, 101, 101, 101, 101])"
      ]
     },
     "execution_count": 8,
     "metadata": {},
     "output_type": "execute_result"
    }
   ],
   "source": [
    "demo_array = np.arange(10,21)\n",
    "\n",
    "subset_demo_array = demo_array[0:7]\n",
    "\n",
    "subset_demo_array[:]= 101\n",
    "\n",
    "subset_demo_array"
   ]
  },
  {
   "cell_type": "code",
   "execution_count": 9,
   "metadata": {},
   "outputs": [
    {
     "data": {
      "text/plain": [
       "[12]"
      ]
     },
     "execution_count": 9,
     "metadata": {},
     "output_type": "execute_result"
    }
   ],
   "source": [
    "test_array = [10, 11.5, 12, 13.5, 14,15]   \n",
    "\n",
    "test_array[2:3]"
   ]
  },
  {
   "cell_type": "code",
   "execution_count": 10,
   "metadata": {},
   "outputs": [
    {
     "data": {
      "text/plain": [
       "array([ 0,  6, 12, 18])"
      ]
     },
     "execution_count": 10,
     "metadata": {},
     "output_type": "execute_result"
    }
   ],
   "source": [
    "np.arange(0,22,6)"
   ]
  },
  {
   "cell_type": "code",
   "execution_count": 11,
   "metadata": {},
   "outputs": [
    {
     "data": {
      "text/plain": [
       "array([[12, 34, 55],\n",
       "       [66, 45, 77],\n",
       "       [45, 77, 88]])"
      ]
     },
     "execution_count": 11,
     "metadata": {},
     "output_type": "execute_result"
    }
   ],
   "source": [
    "list_l =[[12,34,55,],[66,45,77],[45,77,88]]\n",
    "\n",
    "np.array(list_l)"
   ]
  },
  {
   "cell_type": "code",
   "execution_count": null,
   "metadata": {},
   "outputs": [],
   "source": []
  },
  {
   "cell_type": "code",
   "execution_count": 13,
   "metadata": {},
   "outputs": [
    {
     "name": "stdout",
     "output_type": "stream",
     "text": [
      "yellow 1\n",
      "dict_items([('yellow', [1])])\n",
      "blue 2\n",
      "dict_items([('yellow', [1]), ('blue', [2])])\n",
      "yellow 3\n",
      "dict_items([('yellow', [1, 3]), ('blue', [2])])\n",
      "blue 4\n",
      "dict_items([('yellow', [1, 3]), ('blue', [2, 4])])\n",
      "red 1\n",
      "dict_items([('yellow', [1, 3]), ('blue', [2, 4]), ('red', [1])])\n"
     ]
    }
   ],
   "source": [
    "from collections import defaultdict\n",
    "s = [('yellow', 1), ('blue', 2), ('yellow', 3), ('blue', 4), ('red', 1)]\n",
    "dict = defaultdict(list)\n",
    "for i, j in s :\n",
    "    print(i, j)\n",
    "    dict[i].append(j)\n",
    "    print (dict.items())\n",
    "\n",
    "#print(dict.get())"
   ]
  },
  {
   "cell_type": "code",
   "execution_count": 14,
   "metadata": {},
   "outputs": [
    {
     "name": "stdout",
     "output_type": "stream",
     "text": [
      "3.0\n"
     ]
    }
   ],
   "source": [
    "def listavg(list_of_nums):\n",
    "    for num in list_of_nums:\n",
    "        num += num\n",
    "    return (num/len(list_of_nums))\n",
    "    \n",
    "\n",
    "a = [7, 8, 4, 6]\n",
    "print(listavg(a))"
   ]
  },
  {
   "cell_type": "code",
   "execution_count": 15,
   "metadata": {},
   "outputs": [
    {
     "data": {
      "text/plain": [
       "['seller_id,', 'product_id,', 'price,', 'customer_id,', 'review_id']"
      ]
     },
     "execution_count": 15,
     "metadata": {},
     "output_type": "execute_result"
    }
   ],
   "source": [
    "string = \"seller_id, product_id, price, customer_id, review_id\"\n",
    "string.split()"
   ]
  },
  {
   "cell_type": "code",
   "execution_count": 16,
   "metadata": {},
   "outputs": [
    {
     "name": "stdout",
     "output_type": "stream",
     "text": [
      "{'customer_id': 1, 'review_date': '2016-01-05', 'last_updated': '2017-01-06', 'review': 'very good place'}\n",
      "11\n",
      "2016\n"
     ]
    }
   ],
   "source": [
    "import numpy as np\n",
    "dataset = [\n",
    "    {'customer_id':1, 'review_date' : '2016-01-05', 'last_updated': '2017-01-06', 'review': 'very good place' },\n",
    "    {'customer_id':2, 'review_date' : '2018-01-06', 'last_updated': '2018-01-05', 'review': 'very good place'},\n",
    "    {'customer_id':3, 'review_date' : '' , 'last_updated': '2018-01-05', 'review': 'very good place'},\n",
    "    {'customer_id':4, 'review_date' : '2017-01-08', 'last_updated': '2018-01-05', 'review': 'very good place'},\n",
    "    {'customer_id':4, 'review_date' : '2016-01-01', 'last_updated': '2018-01-05', 'review': 'very horrible place'},\n",
    "    {'customer_id':4, 'review_date' : '2018-01-02', 'last_updated': '2018-01-05', 'review': 'very bad place'},\n",
    "    {'customer_id':2, 'review_date' : '2019-01-03', 'last_updated': '2018-01-05', 'review': ''},\n",
    "    {'customer_id':3, 'review_date' : '2019-01-05', 'last_updated': '2018-01-05', 'review': ''},\n",
    "    {'customer_id':1, 'review_date' : '2017-01-06', 'last_updated': '2017-02-05', 'review': ''},\n",
    "    {'customer_id':1, 'review_date' : '2017-01-08', 'last_updated': '2017-02-05', 'review': 'very good place'},\n",
    "    {'customer_id':5, 'review_date' : '2019-01-08', 'last_updated': '2019-02-05', 'review': 'very good place'}\n",
    "]\n",
    "print(dataset[0])\n",
    "print(len(dataset))\n",
    "print(dataset[0]['review_date'][:4])\n",
    "#dataset = [d for d in s if ]"
   ]
  },
  {
   "cell_type": "code",
   "execution_count": 17,
   "metadata": {},
   "outputs": [
    {
     "name": "stdout",
     "output_type": "stream",
     "text": [
      "7\n",
      "[{'customer_id': 1, 'review_date': '2016-01-05', 'last_updated': '2017-01-06', 'review': 'very good place'}, {'customer_id': 2, 'review_date': '2018-01-06', 'last_updated': '2018-01-05', 'review': 'very good place'}, {'customer_id': 4, 'review_date': '2017-01-08', 'last_updated': '2018-01-05', 'review': 'very good place'}, {'customer_id': 4, 'review_date': '2016-01-01', 'last_updated': '2018-01-05', 'review': 'very horrible place'}, {'customer_id': 4, 'review_date': '2018-01-02', 'last_updated': '2018-01-05', 'review': 'very bad place'}, {'customer_id': 1, 'review_date': '2017-01-06', 'last_updated': '2017-02-05', 'review': ''}, {'customer_id': 1, 'review_date': '2017-01-08', 'last_updated': '2017-02-05', 'review': 'very good place'}]\n"
     ]
    }
   ],
   "source": [
    "dataset = [d for d in dataset if (d['review_date'][:4] != \"\") and int(d['review_date'][:4]) <= 2018 ]\n",
    "print(len(dataset))\n",
    "print (dataset)"
   ]
  },
  {
   "cell_type": "code",
   "execution_count": 18,
   "metadata": {},
   "outputs": [
    {
     "name": "stdout",
     "output_type": "stream",
     "text": [
      "defaultdict(<class 'int'>, {1: 3, 2: 1, 4: 3})\n",
      "\n",
      "\n",
      "count of items for customer_id 2 is:  True\n"
     ]
    }
   ],
   "source": [
    "from collections import defaultdict\n",
    "test = defaultdict(int)\n",
    "\n",
    "for d in dataset:    \n",
    "    test[d['customer_id']] += 1\n",
    "    \n",
    "print(test)\n",
    "print(\"\\n\")\n",
    "print(\"count of items for customer_id 2 is: \", test[d['customer_id']]>1)"
   ]
  },
  {
   "cell_type": "code",
   "execution_count": 19,
   "metadata": {},
   "outputs": [
    {
     "name": "stdout",
     "output_type": "stream",
     "text": [
      "Filtered records <3> \n",
      "filtered words to look for context :-  {'place', 'bad', 'good', 'horrible', 'very'}\n"
     ]
    }
   ],
   "source": [
    "sampleSet = set()\n",
    "a = 1\n",
    "\n",
    "filtereddata=[sampleSet.update(d['review'].split()) for d in dataset if test[d['customer_id']]>2 \n",
    "              and int(d['last_updated'][:4]) >= 2018 and d['review_date'] != '' and len(d['review'].split()) > 1]\n",
    "\n",
    "print(\"Filtered records <%s> \"%(len(filtereddata)))\n",
    "print(\"filtered words to look for context :- \", sampleSet)"
   ]
  },
  {
   "cell_type": "code",
   "execution_count": 20,
   "metadata": {},
   "outputs": [],
   "source": [
    "import time\n",
    "timestr = \"2018-07-26 01:36:02\"\n",
    "timeobj = time.strptime(timestr, \"%Y-%m-%d %H:%M:%S\")"
   ]
  },
  {
   "cell_type": "code",
   "execution_count": 21,
   "metadata": {},
   "outputs": [
    {
     "data": {
      "text/plain": [
       "time.struct_time(tm_year=2018, tm_mon=7, tm_mday=26, tm_hour=1, tm_min=36, tm_sec=2, tm_wday=3, tm_yday=207, tm_isdst=-1)"
      ]
     },
     "execution_count": 21,
     "metadata": {},
     "output_type": "execute_result"
    }
   ],
   "source": [
    "timeobj"
   ]
  },
  {
   "cell_type": "code",
   "execution_count": 31,
   "metadata": {},
   "outputs": [],
   "source": [
    "import calendar\n",
    "t1 = calendar.timegm(timeobj)\n",
    "t2 = time.mktime(timeobj) #unix time number"
   ]
  },
  {
   "cell_type": "code",
   "execution_count": 26,
   "metadata": {},
   "outputs": [
    {
     "data": {
      "text/plain": [
       "(1532568962, 1532586962.0)"
      ]
     },
     "execution_count": 26,
     "metadata": {},
     "output_type": "execute_result"
    }
   ],
   "source": [
    "t1, t2 #to convert as number for faster arithmatic operations"
   ]
  },
  {
   "cell_type": "code",
   "execution_count": 25,
   "metadata": {},
   "outputs": [
    {
     "data": {
      "text/plain": [
       "1533000962"
      ]
     },
     "execution_count": 25,
     "metadata": {},
     "output_type": "execute_result"
    }
   ],
   "source": [
    "t1 + 60*60*24*5 #for getting value of 5 days later"
   ]
  },
  {
   "cell_type": "code",
   "execution_count": 29,
   "metadata": {},
   "outputs": [
    {
     "data": {
      "text/plain": [
       "'2018-07-26 01:36:02'"
      ]
     },
     "execution_count": 29,
     "metadata": {},
     "output_type": "execute_result"
    }
   ],
   "source": [
    "#to get back in readable format\n",
    "time.strftime(\"%Y-%m-%d %H:%M:%S\", time.gmtime(t1))"
   ]
  },
  {
   "cell_type": "code",
   "execution_count": 32,
   "metadata": {},
   "outputs": [
    {
     "data": {
      "text/plain": [
       "'2018-07-31 01:36:02'"
      ]
     },
     "execution_count": 32,
     "metadata": {},
     "output_type": "execute_result"
    }
   ],
   "source": [
    "time.strftime(\"%Y-%m-%d %H:%M:%S\", time.gmtime(t1 + 60*60*24*5))"
   ]
  },
  {
   "cell_type": "code",
   "execution_count": 30,
   "metadata": {},
   "outputs": [
    {
     "name": "stdout",
     "output_type": "stream",
     "text": [
      "Help on built-in function strptime in module time:\n",
      "\n",
      "strptime(...)\n",
      "    strptime(string, format) -> struct_time\n",
      "    \n",
      "    Parse a string to a time tuple according to a format specification.\n",
      "    See the library reference manual for formatting codes (same as\n",
      "    strftime()).\n",
      "    \n",
      "    Commonly used format codes:\n",
      "    \n",
      "    %Y  Year with century as a decimal number.\n",
      "    %m  Month as a decimal number [01,12].\n",
      "    %d  Day of the month as a decimal number [01,31].\n",
      "    %H  Hour (24-hour clock) as a decimal number [00,23].\n",
      "    %M  Minute as a decimal number [00,59].\n",
      "    %S  Second as a decimal number [00,61].\n",
      "    %z  Time zone offset from UTC.\n",
      "    %a  Locale's abbreviated weekday name.\n",
      "    %A  Locale's full weekday name.\n",
      "    %b  Locale's abbreviated month name.\n",
      "    %B  Locale's full month name.\n",
      "    %c  Locale's appropriate date and time representation.\n",
      "    %I  Hour (12-hour clock) as a decimal number [01,12].\n",
      "    %p  Locale's equivalent of either AM or PM.\n",
      "    \n",
      "    Other codes may be available on your platform.  See documentation for\n",
      "    the C library strftime function.\n",
      "\n"
     ]
    }
   ],
   "source": [
    "help(time.strptime)"
   ]
  },
  {
   "cell_type": "code",
   "execution_count": null,
   "metadata": {},
   "outputs": [],
   "source": []
  }
 ],
 "metadata": {
  "kernelspec": {
   "display_name": "Python 3",
   "language": "python",
   "name": "python3"
  }
 },
 "nbformat": 4,
 "nbformat_minor": 2
}
