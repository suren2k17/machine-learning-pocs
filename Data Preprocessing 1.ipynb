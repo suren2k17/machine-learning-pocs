{
 "cells": [
  {
   "cell_type": "code",
   "execution_count": 4,
   "metadata": {},
   "outputs": [
    {
     "data": {
      "text/plain": [
       "'hello, mam, why'"
      ]
     },
     "execution_count": 4,
     "metadata": {},
     "output_type": "execute_result"
    }
   ],
   "source": [
    "string123 = ['hello', 'mam', 'why']\n",
    "', '.join(string123)"
   ]
  },
  {
   "cell_type": "code",
   "execution_count": 9,
   "metadata": {},
   "outputs": [
    {
     "data": {
      "text/plain": [
       "'!\"#$%&\\'()*+,-./:;<=>?@[\\\\]^_`{|}~'"
      ]
     },
     "execution_count": 9,
     "metadata": {},
     "output_type": "execute_result"
    }
   ],
   "source": [
    "import string # had to define manually as I accidentally used this for variable name\n",
    "a  = string.punctuation\n",
    "a"
   ]
  },
  {
   "cell_type": "code",
   "execution_count": 38,
   "metadata": {},
   "outputs": [],
   "source": [
    "import numpy as np\n",
    "dataset = [\n",
    "    {'customer_id': 1, 'search_count': 2, 'review_date': '2018-01-05'},\n",
    "    {'customer_id': 12, 'search_count': 9, 'review_date': '2018-03-05'},\n",
    "    {'customer_id': 2, 'search_count': -1, 'review_date': -1},\n",
    "    {'customer_id': 3, 'search_count': -1, 'review_date': '2018-05-05'},\n",
    "    {'customer_id': 5, 'search_count': -1, 'review_date': ''},\n",
    "    {'customer_id': 6, 'search_count': -1, 'review_date': ' '},\n",
    "]"
   ]
  },
  {
   "cell_type": "code",
   "execution_count": 33,
   "metadata": {},
   "outputs": [
    {
     "ename": "TypeError",
     "evalue": "'int' object is not subscriptable",
     "output_type": "error",
     "traceback": [
      "\u001b[0;31m---------------------------------------------------------------------------\u001b[0m",
      "\u001b[0;31mTypeError\u001b[0m                                 Traceback (most recent call last)",
      "\u001b[0;32m<ipython-input-33-809b3358b932>\u001b[0m in \u001b[0;36m<module>\u001b[0;34m\u001b[0m\n\u001b[1;32m      1\u001b[0m \u001b[0;32mfor\u001b[0m \u001b[0md\u001b[0m \u001b[0;32min\u001b[0m \u001b[0mdataset\u001b[0m\u001b[0;34m:\u001b[0m\u001b[0;34m\u001b[0m\u001b[0;34m\u001b[0m\u001b[0m\n\u001b[0;32m----> 2\u001b[0;31m     \u001b[0md\u001b[0m\u001b[0;34m[\u001b[0m\u001b[0;34m'year'\u001b[0m\u001b[0;34m]\u001b[0m \u001b[0;34m=\u001b[0m \u001b[0mint\u001b[0m\u001b[0;34m(\u001b[0m\u001b[0md\u001b[0m\u001b[0;34m[\u001b[0m\u001b[0;34m'review_date'\u001b[0m\u001b[0;34m]\u001b[0m\u001b[0;34m[\u001b[0m\u001b[0;34m:\u001b[0m\u001b[0;36m4\u001b[0m\u001b[0;34m]\u001b[0m\u001b[0;34m)\u001b[0m\u001b[0;34m\u001b[0m\u001b[0;34m\u001b[0m\u001b[0m\n\u001b[0m\u001b[1;32m      3\u001b[0m \u001b[0;31m# you will get this error if data is not treated for missing or bad data\u001b[0m\u001b[0;34m\u001b[0m\u001b[0;34m\u001b[0m\u001b[0;34m\u001b[0m\u001b[0m\n",
      "\u001b[0;31mTypeError\u001b[0m: 'int' object is not subscriptable"
     ]
    }
   ],
   "source": [
    "for d in dataset:\n",
    "    d['year'] = int(d['review_date'][:4])\n",
    "# you will get this error if data is not treated for missing or bad data"
   ]
  },
  {
   "cell_type": "code",
   "execution_count": 26,
   "metadata": {},
   "outputs": [
    {
     "data": {
      "text/plain": [
       "[{'customer_id': 1,\n",
       "  'search_count': 2,\n",
       "  'review_date': '2018-01-05',\n",
       "  'year': 2018},\n",
       " {'customer_id': 12,\n",
       "  'search_count': 9,\n",
       "  'review_date': '2018-03-05',\n",
       "  'year': 2018},\n",
       " {'customer_id': 3, 'search_count': 9, 'review_date': '2018-05-05'}]"
      ]
     },
     "execution_count": 26,
     "metadata": {},
     "output_type": "execute_result"
    }
   ],
   "source": [
    "filtered_data = [d for d in dataset if d['review_date'] != -1 and d['review_date'] != '' and \n",
    "                 d['review_date'] != ' ']\n",
    "filtered_data"
   ]
  },
  {
   "cell_type": "code",
   "execution_count": 40,
   "metadata": {},
   "outputs": [
    {
     "name": "stdout",
     "output_type": "stream",
     "text": [
      "[{'customer_id': 1, 'search_count': 2, 'review_date': '2018-01-05', 'year': 2018}, {'customer_id': 12, 'search_count': 9, 'review_date': '2018-03-05', 'year': 2018}, {'customer_id': 3, 'search_count': -1, 'review_date': '2018-05-05'}]\n",
      "2018 1\n",
      "2018 12\n",
      "2018 3\n"
     ]
    }
   ],
   "source": [
    "def preprocess(dataset, field):\n",
    "    \n",
    "    filtered_data = [d for d in dataset if d[field] != -1 and d[field] != '' and \n",
    "                 d[field] != ' ']\n",
    "    print(filtered_data)\n",
    "    return filtered_data\n",
    "\n",
    "data_filt = preprocess(dataset, 'review_date')\n",
    "for d in data_filt:\n",
    "    d['year'] = int(d['review_date'][:4])\n",
    "    print(d['year'], d['customer_id'])"
   ]
  },
  {
   "cell_type": "code",
   "execution_count": 89,
   "metadata": {
    "scrolled": true
   },
   "outputs": [
    {
     "name": "stdout",
     "output_type": "stream",
     "text": [
      " hello world abc\n",
      " test me please\n"
     ]
    }
   ],
   "source": [
    "def preprocess_removepunc(str_list):\n",
    "    removed_word = ''\n",
    "    for word in str_list: \n",
    "        c = ''.join(letter for letter in word if letter not in string.punctuation)\n",
    "        removed_word = removed_word +' ' + c\n",
    "    return removed_word.lower()\n",
    "\n",
    "sample_str1 = ['hello,', 'world!', 'abc$']\n",
    "sample_str2 = ['teSt...', 'Me....', 'plEase.']\n",
    "\n",
    "print (preprocess_removepunc(sample_str1))\n",
    "print (preprocess_removepunc(sample_str2))"
   ]
  },
  {
   "cell_type": "code",
   "execution_count": 91,
   "metadata": {},
   "outputs": [
    {
     "data": {
      "text/plain": [
       "array([[1., 0., 0.],\n",
       "       [0., 1., 0.],\n",
       "       [0., 0., 1.]])"
      ]
     },
     "execution_count": 91,
     "metadata": {},
     "output_type": "execute_result"
    }
   ],
   "source": [
    "np.eye(3)"
   ]
  },
  {
   "cell_type": "code",
   "execution_count": 103,
   "metadata": {},
   "outputs": [],
   "source": [
    "dataset = [\n",
    "    {'customer_id':1, 'review_date' : '2016-01-05', 'last_updated': '2017-01-06', 'review': 'very good place', 'stars': 5},\n",
    "    {'customer_id':2, 'review_date' : '2018-01-06', 'last_updated': '2018-01-05', 'review': 'very good place', 'stars': 3},\n",
    "    {'customer_id':3, 'review_date' : '2019-01-06' , 'last_updated': '2018-01-05', 'review': 'very good place', 'stars': 3.5},\n",
    "    {'customer_id':4, 'review_date' : '2017-01-08', 'last_updated': '2018-01-05', 'review': 'very good place', 'stars': 4},\n",
    "    {'customer_id':4, 'review_date' : '2016-01-01', 'last_updated': '2018-01-05', 'review': 'very horrible place', 'stars': 1},\n",
    "    {'customer_id':4, 'review_date' : '2018-01-02', 'last_updated': '2018-01-05', 'review': 'very bad place', 'stars': 2},\n",
    "    {'customer_id':2, 'review_date' : '2019-01-03', 'last_updated': '2018-01-05', 'review': '', 'stars': 1},\n",
    "    {'customer_id':3, 'review_date' : '2019-01-05', 'last_updated': '2018-01-05', 'review': '', 'stars': 2},\n",
    "    {'customer_id':1, 'review_date' : '2017-01-06', 'last_updated': '2017-02-05', 'review': '', 'stars': 3},\n",
    "    {'customer_id':1, 'review_date' : '2017-01-08', 'last_updated': '2017-02-05', 'review': 'very good place', 'stars': 3},\n",
    "    {'customer_id':5, 'review_date' : '2019-01-08', 'last_updated': '2019-02-05', 'review': 'very good place', 'stars': 5}\n",
    "]"
   ]
  },
  {
   "cell_type": "code",
   "execution_count": 104,
   "metadata": {},
   "outputs": [],
   "source": [
    "import time\n",
    "\n",
    "timelist = []\n",
    "for d in dataset :\n",
    "    \n",
    "    d['timeobj'] = time.strptime(d['review_date'], \"%Y-%m-%d\")\n",
    "    d['timeInt'] = time.mktime(d['timeobj'])\n",
    "    timelist.append(d)\n",
    "\n"
   ]
  },
  {
   "cell_type": "code",
   "execution_count": 105,
   "metadata": {},
   "outputs": [
    {
     "data": {
      "text/plain": [
       "{'customer_id': 1,\n",
       " 'review_date': '2016-01-05',\n",
       " 'last_updated': '2017-01-06',\n",
       " 'review': 'very good place',\n",
       " 'stars': 5,\n",
       " 'timeobj': time.struct_time(tm_year=2016, tm_mon=1, tm_mday=5, tm_hour=0, tm_min=0, tm_sec=0, tm_wday=1, tm_yday=5, tm_isdst=-1),\n",
       " 'timeInt': 1451973600.0}"
      ]
     },
     "execution_count": 105,
     "metadata": {},
     "output_type": "execute_result"
    }
   ],
   "source": [
    "timelist[0]"
   ]
  },
  {
   "cell_type": "code",
   "execution_count": 106,
   "metadata": {},
   "outputs": [
    {
     "name": "stdout",
     "output_type": "stream",
     "text": [
      "defaultdict(<class 'list'>, {1: [5, 2, 5], 5: [3, 2], 6: [3.5, 4, 3], 4: [1, 3], 3: [1]})\n"
     ]
    }
   ],
   "source": [
    "from collections import defaultdict\n",
    "week_ratings = defaultdict(list)\n",
    "\n",
    "for d in timelist:\n",
    "    dow = d['timeobj'].tm_wday\n",
    "    week_ratings[dow].append(d['stars'])\n",
    "\n",
    "print(week_ratings)"
   ]
  },
  {
   "cell_type": "code",
   "execution_count": 109,
   "metadata": {},
   "outputs": [
    {
     "data": {
      "text/plain": [
       "{1: 4.0, 5: 2.5, 6: 3.5, 4: 2.0, 3: 1.0}"
      ]
     },
     "execution_count": 109,
     "metadata": {},
     "output_type": "execute_result"
    }
   ],
   "source": [
    "week_avg = {}\n",
    "for d in week_ratings:\n",
    "    week_avg[d] = sum(week_ratings[d])/len(week_ratings[d])\n",
    "    \n",
    "week_avg"
   ]
  },
  {
   "cell_type": "code",
   "execution_count": 119,
   "metadata": {},
   "outputs": [
    {
     "name": "stdout",
     "output_type": "stream",
     "text": [
      "[1, 3, 4, 5, 6] [4.0, 1.0, 2.0, 2.5, 3.5]\n"
     ]
    },
    {
     "data": {
      "text/plain": [
       "[<matplotlib.lines.Line2D at 0x7f37da8334a8>]"
      ]
     },
     "execution_count": 119,
     "metadata": {},
     "output_type": "execute_result"
    },
    {
     "data": {
      "image/png": "[encoded data removed]",
      "text/plain": [
       "<Figure size 432x288 with 1 Axes>"
      ]
     },
     "metadata": {
      "needs_background": "light"
     },
     "output_type": "display_data"
    }
   ],
   "source": [
    "import matplotlib.pyplot as plt\n",
    "X = sorted(week_avg.keys())\n",
    "y = [week_avg[x] for x in X]\n",
    "print(X,y)\n",
    "plt.plot(X,y)"
   ]
  },
  {
   "cell_type": "code",
   "execution_count": 121,
   "metadata": {},
   "outputs": [
    {
     "data": {
      "text/plain": [
       "<BarContainer object of 5 artists>"
      ]
     },
     "execution_count": 121,
     "metadata": {},
     "output_type": "execute_result"
    },
    {
     "data": {
      "image/png": "[encoded data removed]",
      "text/plain": [
       "<Figure size 432x288 with 1 Axes>"
      ]
     },
     "metadata": {
      "needs_background": "light"
     },
     "output_type": "display_data"
    }
   ],
   "source": [
    "plt.xlabel(\"Day of the Week\")\n",
    "plt.ylabel(\"Rating\")\n",
    "plt.xticks([0,1,2,3,4,5,6],['Sun','Mon','Tue','Wed','Thu','Fri','Sat'])\n",
    "plt.autoscale()\n",
    "plt.bar(X,y)"
   ]
  }
 ],
 "metadata": {
  "kernelspec": {
   "display_name": "Python 3",
   "language": "python",
   "name": "python3"
  },
  "language_info": {
   "codemirror_mode": {
    "name": "ipython",
    "version": 3
   },
   "file_extension": ".py",
   "mimetype": "text/x-python",
   "name": "python",
   "nbconvert_exporter": "python",
   "pygments_lexer": "ipython3",
   "version": "3.6.8"
  }
 },
 "nbformat": 4,
 "nbformat_minor": 2
}
