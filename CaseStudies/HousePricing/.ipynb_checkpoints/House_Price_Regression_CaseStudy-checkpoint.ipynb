{
 "cells": [
  {
   "cell_type": "markdown",
   "metadata": {},
   "source": [
    "#Sample Exercise in Regression\n"
   ]
  },
  {
   "cell_type": "code",
   "execution_count": 21,
   "metadata": {},
   "outputs": [],
   "source": [
    "import matplotlib.pyplot as plt\n",
    "%matplotlib inline\n",
    "import numpy as np\n",
    "import pandas as pd\n",
    "import logging\n",
    "import pickle\n",
    "import os\n",
    "\n",
    "import seaborn as sns\n",
    "import time, json\n",
    "\n",
    "#pre processing\n",
    "from sklearn.preprocessing import LabelEncoder\n",
    "from sklearn.preprocessing import OneHotEncoder\n",
    "from sklearn.preprocessing import StandardScaler\n",
    "from sklearn.preprocessing import MinMaxScaler\n",
    "from sklearn.preprocessing import Normalizer\n",
    "from sklearn.model_selection import train_test_split\n",
    "from sklearn.preprocessing import PolynomialFeatures"
   ]
  },
  {
   "cell_type": "markdown",
   "metadata": {},
   "source": [
    "#Load some house value vs. crime rate data\n",
    "\n",
    "Dataset is from Philadelphia, PA and includes average house sales price in a number of neighborhoods.  The attributes of each neighborhood we have include the crime rate ('CrimeRate'), miles from Center City ('MilesPhila'), town name ('Name'), and county name ('County')."
   ]
  },
  {
   "cell_type": "code",
   "execution_count": 22,
   "metadata": {},
   "outputs": [],
   "source": [
    "sales = pd.read_csv('Philadelphia_Crime_Rate_noNA.csv')"
   ]
  },
  {
   "cell_type": "code",
   "execution_count": 23,
   "metadata": {},
   "outputs": [
    {
     "data": {
      "text/html": [
       "<div>\n",
       "<style scoped>\n",
       "    .dataframe tbody tr th:only-of-type {\n",
       "        vertical-align: middle;\n",
       "    }\n",
       "\n",
       "    .dataframe tbody tr th {\n",
       "        vertical-align: top;\n",
       "    }\n",
       "\n",
       "    .dataframe thead th {\n",
       "        text-align: right;\n",
       "    }\n",
       "</style>\n",
       "<table border=\"1\" class=\"dataframe\">\n",
       "  <thead>\n",
       "    <tr style=\"text-align: right;\">\n",
       "      <th></th>\n",
       "      <th>HousePrice</th>\n",
       "      <th>HsPrc ($10,000)</th>\n",
       "      <th>CrimeRate</th>\n",
       "      <th>MilesPhila</th>\n",
       "      <th>PopChg</th>\n",
       "      <th>Name</th>\n",
       "      <th>County</th>\n",
       "    </tr>\n",
       "  </thead>\n",
       "  <tbody>\n",
       "    <tr>\n",
       "      <th>0</th>\n",
       "      <td>140463</td>\n",
       "      <td>14.0463</td>\n",
       "      <td>29.7</td>\n",
       "      <td>10.0</td>\n",
       "      <td>-1.0</td>\n",
       "      <td>Abington</td>\n",
       "      <td>Montgome</td>\n",
       "    </tr>\n",
       "    <tr>\n",
       "      <th>1</th>\n",
       "      <td>113033</td>\n",
       "      <td>11.3033</td>\n",
       "      <td>24.1</td>\n",
       "      <td>18.0</td>\n",
       "      <td>4.0</td>\n",
       "      <td>Ambler</td>\n",
       "      <td>Montgome</td>\n",
       "    </tr>\n",
       "    <tr>\n",
       "      <th>2</th>\n",
       "      <td>124186</td>\n",
       "      <td>12.4186</td>\n",
       "      <td>19.5</td>\n",
       "      <td>25.0</td>\n",
       "      <td>8.0</td>\n",
       "      <td>Aston</td>\n",
       "      <td>Delaware</td>\n",
       "    </tr>\n",
       "    <tr>\n",
       "      <th>3</th>\n",
       "      <td>110490</td>\n",
       "      <td>11.0490</td>\n",
       "      <td>49.4</td>\n",
       "      <td>25.0</td>\n",
       "      <td>2.7</td>\n",
       "      <td>Bensalem</td>\n",
       "      <td>Bucks</td>\n",
       "    </tr>\n",
       "    <tr>\n",
       "      <th>4</th>\n",
       "      <td>79124</td>\n",
       "      <td>7.9124</td>\n",
       "      <td>54.1</td>\n",
       "      <td>19.0</td>\n",
       "      <td>3.9</td>\n",
       "      <td>Bristol B.</td>\n",
       "      <td>Bucks</td>\n",
       "    </tr>\n",
       "  </tbody>\n",
       "</table>\n",
       "</div>"
      ],
      "text/plain": [
       "   HousePrice  HsPrc ($10,000)  CrimeRate  MilesPhila  PopChg        Name  \\\n",
       "0      140463          14.0463       29.7        10.0    -1.0    Abington   \n",
       "1      113033          11.3033       24.1        18.0     4.0      Ambler   \n",
       "2      124186          12.4186       19.5        25.0     8.0       Aston   \n",
       "3      110490          11.0490       49.4        25.0     2.7    Bensalem   \n",
       "4       79124           7.9124       54.1        19.0     3.9  Bristol B.   \n",
       "\n",
       "     County  \n",
       "0  Montgome  \n",
       "1  Montgome  \n",
       "2  Delaware  \n",
       "3     Bucks  \n",
       "4     Bucks  "
      ]
     },
     "execution_count": 23,
     "metadata": {},
     "output_type": "execute_result"
    }
   ],
   "source": [
    "sales.head()"
   ]
  },
  {
   "cell_type": "markdown",
   "metadata": {},
   "source": [
    "#Exploring the data "
   ]
  },
  {
   "cell_type": "markdown",
   "metadata": {},
   "source": [
    "The house price in a town is correlated with the crime rate of that town. Low crime towns tend to be associated with higher house prices and vice versa."
   ]
  },
  {
   "cell_type": "code",
   "execution_count": 24,
   "metadata": {},
   "outputs": [
    {
     "data": {
      "text/plain": [
       "99"
      ]
     },
     "execution_count": 24,
     "metadata": {},
     "output_type": "execute_result"
    }
   ],
   "source": [
    "sales.shape[0]"
   ]
  },
  {
   "cell_type": "code",
   "execution_count": 25,
   "metadata": {},
   "outputs": [
    {
     "data": {
      "image/png": "[encoded data removed]",
      "text/plain": [
       "<Figure size 432x288 with 1 Axes>"
      ]
     },
     "metadata": {
      "needs_background": "light"
     },
     "output_type": "display_data"
    }
   ],
   "source": [
    "plt.ylabel('House price')\n",
    "plt.xlabel('Crimerate')\n",
    "plt.scatter(range(sales.shape[0]), np.sort(np.log1p(sales['HousePrice'])))\n",
    "plt.show()"
   ]
  },
  {
   "cell_type": "markdown",
   "metadata": {},
   "source": [
    "#Fit the regression model using crime as the feature"
   ]
  },
  {
   "cell_type": "code",
   "execution_count": 26,
   "metadata": {},
   "outputs": [],
   "source": [
    "#X = sales[(sales['MilesPhila'] != 0.0) & (sales['HousePrice'] < 350000)].iloc[:, 2:3].values\n",
    "X = np.array(sales[(sales['MilesPhila'] != 0.0) & (sales['HousePrice'] < 350000)]['CrimeRate']).reshape(-1, 1)\n",
    "#y = sales[(sales['MilesPhila'] != 0.0) & (sales['HousePrice'] < 350000)].iloc[:, :1].values\n",
    "y = np.array(sales[(sales['MilesPhila'] != 0.0) & (sales['HousePrice'] < 350000)]['HousePrice']).reshape(-1, 1)"
   ]
  },
  {
   "cell_type": "code",
   "execution_count": 27,
   "metadata": {},
   "outputs": [],
   "source": [
    "X_train, X_test, y_train, y_test = train_test_split(X,y, test_size = .2, random_state=25)\n",
    "#scx = StandardScaler()\n",
    "#scy = MinMaxScaler()\n",
    "#X_train = scx.fit_transform(X_train)\n",
    "#X_test = scx.transform(X_test)\n",
    "#y_train = np.log1p(y_train)\n",
    "#y_test = np.log1p(y_test)\n"
   ]
  },
  {
   "cell_type": "code",
   "execution_count": 28,
   "metadata": {},
   "outputs": [],
   "source": [
    "import xgboost\n",
    "xgb = xgboost.XGBRegressor(silent=0, eta=0.1,\n",
    "                           early_stopping_rounds=30,eval_metric=\"rmse\",\n",
    "                           min_child_weight=7,max_depth=6,num_round=150,n_estimators=100,\n",
    "                           reg_alpha=1,max_delta_step=0,colsample_bytree=0.6,subsample=0.6,gamma=0.3,\n",
    "                           objective='reg:linear',n_jobs=10)\n",
    "\n"
   ]
  },
  {
   "cell_type": "markdown",
   "metadata": {},
   "source": [
    "#Let's see what our fit looks like"
   ]
  },
  {
   "cell_type": "markdown",
   "metadata": {},
   "source": [
    "Matplotlib is a Python plotting library that is also useful for plotting.  You can install it with:\n",
    "\n",
    "'pip install matplotlib'"
   ]
  },
  {
   "cell_type": "code",
   "execution_count": 29,
   "metadata": {
    "collapsed": true
   },
   "outputs": [
    {
     "name": "stdout",
     "output_type": "stream",
     "text": [
      "[13:32:19] C:\\Users\\Administrator\\Desktop\\xgboost\\src\\tree\\updater_prune.cc:74: tree pruning end, 1 roots, 2 extra nodes, 0 pruned nodes, max_depth=1\n",
      "[13:32:19] C:\\Users\\Administrator\\Desktop\\xgboost\\src\\tree\\updater_prune.cc:74: tree pruning end, 1 roots, 4 extra nodes, 0 pruned nodes, max_depth=2\n",
      "[13:32:19] C:\\Users\\Administrator\\Desktop\\xgboost\\src\\tree\\updater_prune.cc:74: tree pruning end, 1 roots, 2 extra nodes, 0 pruned nodes, max_depth=1\n",
      "[13:32:19] C:\\Users\\Administrator\\Desktop\\xgboost\\src\\tree\\updater_prune.cc:74: tree pruning end, 1 roots, 2 extra nodes, 0 pruned nodes, max_depth=1\n",
      "[13:32:19] C:\\Users\\Administrator\\Desktop\\xgboost\\src\\tree\\updater_prune.cc:74: tree pruning end, 1 roots, 4 extra nodes, 0 pruned nodes, max_depth=2\n",
      "[13:32:19] C:\\Users\\Administrator\\Desktop\\xgboost\\src\\tree\\updater_prune.cc:74: tree pruning end, 1 roots, 2 extra nodes, 0 pruned nodes, max_depth=1\n",
      "[13:32:19] C:\\Users\\Administrator\\Desktop\\xgboost\\src\\tree\\updater_prune.cc:74: tree pruning end, 1 roots, 4 extra nodes, 0 pruned nodes, max_depth=2\n",
      "[13:32:19] C:\\Users\\Administrator\\Desktop\\xgboost\\src\\tree\\updater_prune.cc:74: tree pruning end, 1 roots, 6 extra nodes, 0 pruned nodes, max_depth=3\n",
      "[13:32:19] C:\\Users\\Administrator\\Desktop\\xgboost\\src\\tree\\updater_prune.cc:74: tree pruning end, 1 roots, 2 extra nodes, 0 pruned nodes, max_depth=1\n",
      "[13:32:19] C:\\Users\\Administrator\\Desktop\\xgboost\\src\\tree\\updater_prune.cc:74: tree pruning end, 1 roots, 6 extra nodes, 0 pruned nodes, max_depth=3\n",
      "[13:32:19] C:\\Users\\Administrator\\Desktop\\xgboost\\src\\tree\\updater_prune.cc:74: tree pruning end, 1 roots, 6 extra nodes, 0 pruned nodes, max_depth=3\n",
      "[13:32:19] C:\\Users\\Administrator\\Desktop\\xgboost\\src\\tree\\updater_prune.cc:74: tree pruning end, 1 roots, 6 extra nodes, 0 pruned nodes, max_depth=3\n",
      "[13:32:19] C:\\Users\\Administrator\\Desktop\\xgboost\\src\\tree\\updater_prune.cc:74: tree pruning end, 1 roots, 4 extra nodes, 0 pruned nodes, max_depth=2\n",
      "[13:32:19] C:\\Users\\Administrator\\Desktop\\xgboost\\src\\tree\\updater_prune.cc:74: tree pruning end, 1 roots, 6 extra nodes, 0 pruned nodes, max_depth=3\n",
      "[13:32:19] C:\\Users\\Administrator\\Desktop\\xgboost\\src\\tree\\updater_prune.cc:74: tree pruning end, 1 roots, 4 extra nodes, 0 pruned nodes, max_depth=2\n",
      "[13:32:19] C:\\Users\\Administrator\\Desktop\\xgboost\\src\\tree\\updater_prune.cc:74: tree pruning end, 1 roots, 12 extra nodes, 0 pruned nodes, max_depth=5\n",
      "[13:32:19] C:\\Users\\Administrator\\Desktop\\xgboost\\src\\tree\\updater_prune.cc:74: tree pruning end, 1 roots, 10 extra nodes, 0 pruned nodes, max_depth=3\n",
      "[13:32:19] C:\\Users\\Administrator\\Desktop\\xgboost\\src\\tree\\updater_prune.cc:74: tree pruning end, 1 roots, 10 extra nodes, 0 pruned nodes, max_depth=4\n",
      "[13:32:19] C:\\Users\\Administrator\\Desktop\\xgboost\\src\\tree\\updater_prune.cc:74: tree pruning end, 1 roots, 12 extra nodes, 0 pruned nodes, max_depth=3\n",
      "[13:32:19] C:\\Users\\Administrator\\Desktop\\xgboost\\src\\tree\\updater_prune.cc:74: tree pruning end, 1 roots, 8 extra nodes, 0 pruned nodes, max_depth=3\n",
      "[13:32:19] C:\\Users\\Administrator\\Desktop\\xgboost\\src\\tree\\updater_prune.cc:74: tree pruning end, 1 roots, 12 extra nodes, 0 pruned nodes, max_depth=5\n",
      "[13:32:19] C:\\Users\\Administrator\\Desktop\\xgboost\\src\\tree\\updater_prune.cc:74: tree pruning end, 1 roots, 10 extra nodes, 0 pruned nodes, max_depth=5\n",
      "[13:32:19] C:\\Users\\Administrator\\Desktop\\xgboost\\src\\tree\\updater_prune.cc:74: tree pruning end, 1 roots, 8 extra nodes, 0 pruned nodes, max_depth=4\n",
      "[13:32:19] C:\\Users\\Administrator\\Desktop\\xgboost\\src\\tree\\updater_prune.cc:74: tree pruning end, 1 roots, 10 extra nodes, 0 pruned nodes, max_depth=3\n",
      "[13:32:19] C:\\Users\\Administrator\\Desktop\\xgboost\\src\\tree\\updater_prune.cc:74: tree pruning end, 1 roots, 8 extra nodes, 0 pruned nodes, max_depth=3\n",
      "[13:32:19] C:\\Users\\Administrator\\Desktop\\xgboost\\src\\tree\\updater_prune.cc:74: tree pruning end, 1 roots, 8 extra nodes, 0 pruned nodes, max_depth=3\n",
      "[13:32:19] C:\\Users\\Administrator\\Desktop\\xgboost\\src\\tree\\updater_prune.cc:74: tree pruning end, 1 roots, 10 extra nodes, 0 pruned nodes, max_depth=4\n",
      "[13:32:19] C:\\Users\\Administrator\\Desktop\\xgboost\\src\\tree\\updater_prune.cc:74: tree pruning end, 1 roots, 10 extra nodes, 0 pruned nodes, max_depth=3\n",
      "[13:32:19] C:\\Users\\Administrator\\Desktop\\xgboost\\src\\tree\\updater_prune.cc:74: tree pruning end, 1 roots, 12 extra nodes, 0 pruned nodes, max_depth=4\n",
      "[13:32:19] C:\\Users\\Administrator\\Desktop\\xgboost\\src\\tree\\updater_prune.cc:74: tree pruning end, 1 roots, 10 extra nodes, 0 pruned nodes, max_depth=4\n",
      "[13:32:19] C:\\Users\\Administrator\\Desktop\\xgboost\\src\\tree\\updater_prune.cc:74: tree pruning end, 1 roots, 12 extra nodes, 0 pruned nodes, max_depth=5\n",
      "[13:32:19] C:\\Users\\Administrator\\Desktop\\xgboost\\src\\tree\\updater_prune.cc:74: tree pruning end, 1 roots, 10 extra nodes, 0 pruned nodes, max_depth=4\n",
      "[13:32:19] C:\\Users\\Administrator\\Desktop\\xgboost\\src\\tree\\updater_prune.cc:74: tree pruning end, 1 roots, 10 extra nodes, 0 pruned nodes, max_depth=5\n",
      "[13:32:19] C:\\Users\\Administrator\\Desktop\\xgboost\\src\\tree\\updater_prune.cc:74: tree pruning end, 1 roots, 10 extra nodes, 0 pruned nodes, max_depth=4\n",
      "[13:32:19] C:\\Users\\Administrator\\Desktop\\xgboost\\src\\tree\\updater_prune.cc:74: tree pruning end, 1 roots, 12 extra nodes, 0 pruned nodes, max_depth=4\n",
      "[13:32:19] C:\\Users\\Administrator\\Desktop\\xgboost\\src\\tree\\updater_prune.cc:74: tree pruning end, 1 roots, 12 extra nodes, 0 pruned nodes, max_depth=5\n",
      "[13:32:19] C:\\Users\\Administrator\\Desktop\\xgboost\\src\\tree\\updater_prune.cc:74: tree pruning end, 1 roots, 10 extra nodes, 0 pruned nodes, max_depth=4\n",
      "[13:32:19] C:\\Users\\Administrator\\Desktop\\xgboost\\src\\tree\\updater_prune.cc:74: tree pruning end, 1 roots, 8 extra nodes, 0 pruned nodes, max_depth=3\n",
      "[13:32:19] C:\\Users\\Administrator\\Desktop\\xgboost\\src\\tree\\updater_prune.cc:74: tree pruning end, 1 roots, 10 extra nodes, 0 pruned nodes, max_depth=3\n",
      "[13:32:19] C:\\Users\\Administrator\\Desktop\\xgboost\\src\\tree\\updater_prune.cc:74: tree pruning end, 1 roots, 10 extra nodes, 0 pruned nodes, max_depth=3\n",
      "[13:32:19] C:\\Users\\Administrator\\Desktop\\xgboost\\src\\tree\\updater_prune.cc:74: tree pruning end, 1 roots, 10 extra nodes, 0 pruned nodes, max_depth=3\n",
      "[13:32:19] C:\\Users\\Administrator\\Desktop\\xgboost\\src\\tree\\updater_prune.cc:74: tree pruning end, 1 roots, 8 extra nodes, 0 pruned nodes, max_depth=3\n",
      "[13:32:19] C:\\Users\\Administrator\\Desktop\\xgboost\\src\\tree\\updater_prune.cc:74: tree pruning end, 1 roots, 8 extra nodes, 0 pruned nodes, max_depth=3\n",
      "[13:32:19] C:\\Users\\Administrator\\Desktop\\xgboost\\src\\tree\\updater_prune.cc:74: tree pruning end, 1 roots, 10 extra nodes, 0 pruned nodes, max_depth=4\n",
      "[13:32:19] C:\\Users\\Administrator\\Desktop\\xgboost\\src\\tree\\updater_prune.cc:74: tree pruning end, 1 roots, 10 extra nodes, 0 pruned nodes, max_depth=3\n",
      "[13:32:19] C:\\Users\\Administrator\\Desktop\\xgboost\\src\\tree\\updater_prune.cc:74: tree pruning end, 1 roots, 14 extra nodes, 0 pruned nodes, max_depth=6\n",
      "[13:32:19] C:\\Users\\Administrator\\Desktop\\xgboost\\src\\tree\\updater_prune.cc:74: tree pruning end, 1 roots, 8 extra nodes, 0 pruned nodes, max_depth=3\n",
      "[13:32:19] C:\\Users\\Administrator\\Desktop\\xgboost\\src\\tree\\updater_prune.cc:74: tree pruning end, 1 roots, 8 extra nodes, 0 pruned nodes, max_depth=4\n",
      "[13:32:19] C:\\Users\\Administrator\\Desktop\\xgboost\\src\\tree\\updater_prune.cc:74: tree pruning end, 1 roots, 10 extra nodes, 0 pruned nodes, max_depth=3\n",
      "[13:32:19] C:\\Users\\Administrator\\Desktop\\xgboost\\src\\tree\\updater_prune.cc:74: tree pruning end, 1 roots, 10 extra nodes, 0 pruned nodes, max_depth=5\n",
      "[13:32:19] C:\\Users\\Administrator\\Desktop\\xgboost\\src\\tree\\updater_prune.cc:74: tree pruning end, 1 roots, 12 extra nodes, 0 pruned nodes, max_depth=4\n",
      "[13:32:19] C:\\Users\\Administrator\\Desktop\\xgboost\\src\\tree\\updater_prune.cc:74: tree pruning end, 1 roots, 12 extra nodes, 0 pruned nodes, max_depth=5\n",
      "[13:32:19] C:\\Users\\Administrator\\Desktop\\xgboost\\src\\tree\\updater_prune.cc:74: tree pruning end, 1 roots, 8 extra nodes, 0 pruned nodes, max_depth=4\n",
      "[13:32:19] C:\\Users\\Administrator\\Desktop\\xgboost\\src\\tree\\updater_prune.cc:74: tree pruning end, 1 roots, 8 extra nodes, 0 pruned nodes, max_depth=3\n",
      "[13:32:19] C:\\Users\\Administrator\\Desktop\\xgboost\\src\\tree\\updater_prune.cc:74: tree pruning end, 1 roots, 8 extra nodes, 0 pruned nodes, max_depth=4\n",
      "[13:32:19] C:\\Users\\Administrator\\Desktop\\xgboost\\src\\tree\\updater_prune.cc:74: tree pruning end, 1 roots, 10 extra nodes, 0 pruned nodes, max_depth=5\n",
      "[13:32:19] C:\\Users\\Administrator\\Desktop\\xgboost\\src\\tree\\updater_prune.cc:74: tree pruning end, 1 roots, 10 extra nodes, 0 pruned nodes, max_depth=4\n",
      "[13:32:19] C:\\Users\\Administrator\\Desktop\\xgboost\\src\\tree\\updater_prune.cc:74: tree pruning end, 1 roots, 8 extra nodes, 0 pruned nodes, max_depth=4\n",
      "[13:32:19] C:\\Users\\Administrator\\Desktop\\xgboost\\src\\tree\\updater_prune.cc:74: tree pruning end, 1 roots, 10 extra nodes, 0 pruned nodes, max_depth=5\n",
      "[13:32:19] C:\\Users\\Administrator\\Desktop\\xgboost\\src\\tree\\updater_prune.cc:74: tree pruning end, 1 roots, 12 extra nodes, 0 pruned nodes, max_depth=5\n",
      "[13:32:19] C:\\Users\\Administrator\\Desktop\\xgboost\\src\\tree\\updater_prune.cc:74: tree pruning end, 1 roots, 8 extra nodes, 0 pruned nodes, max_depth=4\n",
      "[13:32:19] C:\\Users\\Administrator\\Desktop\\xgboost\\src\\tree\\updater_prune.cc:74: tree pruning end, 1 roots, 10 extra nodes, 0 pruned nodes, max_depth=5\n",
      "[13:32:19] C:\\Users\\Administrator\\Desktop\\xgboost\\src\\tree\\updater_prune.cc:74: tree pruning end, 1 roots, 10 extra nodes, 0 pruned nodes, max_depth=3\n",
      "[13:32:19] C:\\Users\\Administrator\\Desktop\\xgboost\\src\\tree\\updater_prune.cc:74: tree pruning end, 1 roots, 12 extra nodes, 0 pruned nodes, max_depth=4\n",
      "[13:32:19] C:\\Users\\Administrator\\Desktop\\xgboost\\src\\tree\\updater_prune.cc:74: tree pruning end, 1 roots, 10 extra nodes, 0 pruned nodes, max_depth=5\n",
      "[13:32:19] C:\\Users\\Administrator\\Desktop\\xgboost\\src\\tree\\updater_prune.cc:74: tree pruning end, 1 roots, 8 extra nodes, 0 pruned nodes, max_depth=3\n",
      "[13:32:19] C:\\Users\\Administrator\\Desktop\\xgboost\\src\\tree\\updater_prune.cc:74: tree pruning end, 1 roots, 12 extra nodes, 0 pruned nodes, max_depth=6\n",
      "[13:32:19] C:\\Users\\Administrator\\Desktop\\xgboost\\src\\tree\\updater_prune.cc:74: tree pruning end, 1 roots, 12 extra nodes, 0 pruned nodes, max_depth=6\n",
      "[13:32:19] C:\\Users\\Administrator\\Desktop\\xgboost\\src\\tree\\updater_prune.cc:74: tree pruning end, 1 roots, 12 extra nodes, 0 pruned nodes, max_depth=4\n",
      "[13:32:19] C:\\Users\\Administrator\\Desktop\\xgboost\\src\\tree\\updater_prune.cc:74: tree pruning end, 1 roots, 10 extra nodes, 0 pruned nodes, max_depth=5\n",
      "[13:32:19] C:\\Users\\Administrator\\Desktop\\xgboost\\src\\tree\\updater_prune.cc:74: tree pruning end, 1 roots, 10 extra nodes, 0 pruned nodes, max_depth=4\n",
      "[13:32:19] C:\\Users\\Administrator\\Desktop\\xgboost\\src\\tree\\updater_prune.cc:74: tree pruning end, 1 roots, 12 extra nodes, 0 pruned nodes, max_depth=4\n",
      "[13:32:19] C:\\Users\\Administrator\\Desktop\\xgboost\\src\\tree\\updater_prune.cc:74: tree pruning end, 1 roots, 8 extra nodes, 0 pruned nodes, max_depth=4\n",
      "[13:32:19] C:\\Users\\Administrator\\Desktop\\xgboost\\src\\tree\\updater_prune.cc:74: tree pruning end, 1 roots, 10 extra nodes, 0 pruned nodes, max_depth=4\n",
      "[13:32:19] C:\\Users\\Administrator\\Desktop\\xgboost\\src\\tree\\updater_prune.cc:74: tree pruning end, 1 roots, 12 extra nodes, 0 pruned nodes, max_depth=4\n",
      "[13:32:19] C:\\Users\\Administrator\\Desktop\\xgboost\\src\\tree\\updater_prune.cc:74: tree pruning end, 1 roots, 10 extra nodes, 0 pruned nodes, max_depth=4\n",
      "[13:32:19] C:\\Users\\Administrator\\Desktop\\xgboost\\src\\tree\\updater_prune.cc:74: tree pruning end, 1 roots, 10 extra nodes, 0 pruned nodes, max_depth=4\n",
      "[13:32:19] C:\\Users\\Administrator\\Desktop\\xgboost\\src\\tree\\updater_prune.cc:74: tree pruning end, 1 roots, 10 extra nodes, 0 pruned nodes, max_depth=3\n",
      "[13:32:19] C:\\Users\\Administrator\\Desktop\\xgboost\\src\\tree\\updater_prune.cc:74: tree pruning end, 1 roots, 12 extra nodes, 0 pruned nodes, max_depth=4\n",
      "[13:32:19] C:\\Users\\Administrator\\Desktop\\xgboost\\src\\tree\\updater_prune.cc:74: tree pruning end, 1 roots, 10 extra nodes, 0 pruned nodes, max_depth=3\n",
      "[13:32:19] C:\\Users\\Administrator\\Desktop\\xgboost\\src\\tree\\updater_prune.cc:74: tree pruning end, 1 roots, 12 extra nodes, 0 pruned nodes, max_depth=6\n",
      "[13:32:19] C:\\Users\\Administrator\\Desktop\\xgboost\\src\\tree\\updater_prune.cc:74: tree pruning end, 1 roots, 8 extra nodes, 0 pruned nodes, max_depth=4\n",
      "[13:32:19] C:\\Users\\Administrator\\Desktop\\xgboost\\src\\tree\\updater_prune.cc:74: tree pruning end, 1 roots, 14 extra nodes, 0 pruned nodes, max_depth=5\n",
      "[13:32:19] C:\\Users\\Administrator\\Desktop\\xgboost\\src\\tree\\updater_prune.cc:74: tree pruning end, 1 roots, 12 extra nodes, 0 pruned nodes, max_depth=4\n",
      "[13:32:19] C:\\Users\\Administrator\\Desktop\\xgboost\\src\\tree\\updater_prune.cc:74: tree pruning end, 1 roots, 10 extra nodes, 0 pruned nodes, max_depth=5\n",
      "[13:32:19] C:\\Users\\Administrator\\Desktop\\xgboost\\src\\tree\\updater_prune.cc:74: tree pruning end, 1 roots, 10 extra nodes, 0 pruned nodes, max_depth=3\n",
      "[13:32:19] C:\\Users\\Administrator\\Desktop\\xgboost\\src\\tree\\updater_prune.cc:74: tree pruning end, 1 roots, 10 extra nodes, 0 pruned nodes, max_depth=4\n",
      "[13:32:19] C:\\Users\\Administrator\\Desktop\\xgboost\\src\\tree\\updater_prune.cc:74: tree pruning end, 1 roots, 8 extra nodes, 0 pruned nodes, max_depth=3\n",
      "[13:32:19] C:\\Users\\Administrator\\Desktop\\xgboost\\src\\tree\\updater_prune.cc:74: tree pruning end, 1 roots, 10 extra nodes, 0 pruned nodes, max_depth=4\n",
      "[13:32:19] C:\\Users\\Administrator\\Desktop\\xgboost\\src\\tree\\updater_prune.cc:74: tree pruning end, 1 roots, 10 extra nodes, 0 pruned nodes, max_depth=4\n",
      "[13:32:19] C:\\Users\\Administrator\\Desktop\\xgboost\\src\\tree\\updater_prune.cc:74: tree pruning end, 1 roots, 8 extra nodes, 0 pruned nodes, max_depth=3\n",
      "[13:32:19] C:\\Users\\Administrator\\Desktop\\xgboost\\src\\tree\\updater_prune.cc:74: tree pruning end, 1 roots, 14 extra nodes, 0 pruned nodes, max_depth=5\n",
      "[13:32:19] C:\\Users\\Administrator\\Desktop\\xgboost\\src\\tree\\updater_prune.cc:74: tree pruning end, 1 roots, 8 extra nodes, 0 pruned nodes, max_depth=4\n",
      "[13:32:19] C:\\Users\\Administrator\\Desktop\\xgboost\\src\\tree\\updater_prune.cc:74: tree pruning end, 1 roots, 12 extra nodes, 0 pruned nodes, max_depth=4\n",
      "[13:32:19] C:\\Users\\Administrator\\Desktop\\xgboost\\src\\tree\\updater_prune.cc:74: tree pruning end, 1 roots, 12 extra nodes, 0 pruned nodes, max_depth=4\n",
      "[13:32:19] C:\\Users\\Administrator\\Desktop\\xgboost\\src\\tree\\updater_prune.cc:74: tree pruning end, 1 roots, 10 extra nodes, 0 pruned nodes, max_depth=3\n",
      "[13:32:19] C:\\Users\\Administrator\\Desktop\\xgboost\\src\\tree\\updater_prune.cc:74: tree pruning end, 1 roots, 10 extra nodes, 0 pruned nodes, max_depth=4\n",
      "[13:32:19] C:\\Users\\Administrator\\Desktop\\xgboost\\src\\tree\\updater_prune.cc:74: tree pruning end, 1 roots, 12 extra nodes, 0 pruned nodes, max_depth=5\n",
      "[13:32:19] C:\\Users\\Administrator\\Desktop\\xgboost\\src\\tree\\updater_prune.cc:74: tree pruning end, 1 roots, 12 extra nodes, 0 pruned nodes, max_depth=5\n",
      "[13:32:19] C:\\Users\\Administrator\\Desktop\\xgboost\\src\\tree\\updater_prune.cc:74: tree pruning end, 1 roots, 10 extra nodes, 0 pruned nodes, max_depth=3\n"
     ]
    },
    {
     "data": {
      "text/plain": [
       "XGBRegressor(base_score=0.5, booster='gbtree', colsample_bylevel=1,\n",
       "       colsample_bytree=0.6, early_stopping_rounds=30, eta=0.1,\n",
       "       eval_metric='rmse', gamma=0.3, learning_rate=0.1, max_delta_step=0,\n",
       "       max_depth=6, min_child_weight=7, missing=None, n_estimators=100,\n",
       "       n_jobs=10, nthread=None, num_round=150, objective='reg:linear',\n",
       "       random_state=0, reg_alpha=1, reg_lambda=1, scale_pos_weight=1,\n",
       "       seed=None, silent=0, subsample=0.6)"
      ]
     },
     "execution_count": 29,
     "metadata": {},
     "output_type": "execute_result"
    }
   ],
   "source": [
    "xgb.fit(X, y)"
   ]
  },
  {
   "cell_type": "code",
   "execution_count": 30,
   "metadata": {},
   "outputs": [
    {
     "data": {
      "text/plain": [
       "0.528385451118295"
      ]
     },
     "execution_count": 30,
     "metadata": {},
     "output_type": "execute_result"
    }
   ],
   "source": [
    "y_pred = xgb.predict(X)\n",
    "#ypred_actual = np.expm1(y_pred)\n",
    "#ytest_actual = np.expm1(y)\n",
    "xgb.score(X,y)"
   ]
  },
  {
   "cell_type": "code",
   "execution_count": 31,
   "metadata": {},
   "outputs": [
    {
     "data": {
      "text/plain": [
       "array([136876.83 , 134001.5  , 158354.1  ,  95845.29 ,  92630.75 ,\n",
       "        91848.63 , 127361.984, 201382.14 , 236645.58 , 236645.58 ,\n",
       "       139836.52 , 101400.195, 103483.53 , 140766.81 ,  71532.43 ,\n",
       "       136017.44 ,  90545.734, 156704.48 , 105398.625, 114677.625,\n",
       "       137256.3  , 129497.48 , 157380.98 , 189852.58 , 127108.195,\n",
       "       138544.48 , 120107.58 , 152200.56 , 139836.52 , 140172.5  ,\n",
       "       192376.44 , 184804.05 , 176480.38 , 210754.23 , 120107.58 ,\n",
       "       148092.17 , 122459.53 , 184349.36 , 134001.5  , 118542.7  ,\n",
       "       124005.49 , 100479.375, 129660.336, 130867.27 , 176507.55 ,\n",
       "       179386.61 , 189430.73 , 194292.8  , 155143.03 , 105398.625,\n",
       "       201382.14 , 188687.67 ,  71532.43 ,  97940.445, 105398.625,\n",
       "        87663.805,  99362.11 ,  78413.71 , 105398.625, 127239.875,\n",
       "       105398.625,  81654.73 , 155143.03 , 203100.55 , 192376.44 ,\n",
       "       134001.5  , 159372.88 , 201382.14 , 132954.33 , 201382.14 ,\n",
       "       156704.48 , 124483.945, 201382.14 , 159372.88 , 120161.266,\n",
       "       105398.625, 156704.48 , 201382.14 , 159061.23 , 177983.73 ,\n",
       "       189610.61 , 103928.37 , 154204.1  , 105398.625, 150644.5  ,\n",
       "       113446.875, 176480.38 , 150027.8  , 186195.98 , 132954.33 ,\n",
       "       201382.14 , 169236.61 , 184349.36 ], dtype=float32)"
      ]
     },
     "execution_count": 31,
     "metadata": {},
     "output_type": "execute_result"
    }
   ],
   "source": [
    "y_pred"
   ]
  },
  {
   "cell_type": "code",
   "execution_count": 32,
   "metadata": {},
   "outputs": [],
   "source": [
    "import matplotlib.pyplot as plt\n",
    "%matplotlib inline"
   ]
  },
  {
   "cell_type": "code",
   "execution_count": 33,
   "metadata": {},
   "outputs": [
    {
     "data": {
      "text/plain": [
       "[<matplotlib.lines.Line2D at 0xc0bbac8>,\n",
       " <matplotlib.lines.Line2D at 0xc086e80>]"
      ]
     },
     "execution_count": 33,
     "metadata": {},
     "output_type": "execute_result"
    },
    {
     "data": {
      "image/png": "[encoded data removed]",
      "text/plain": [
       "<Figure size 432x288 with 1 Axes>"
      ]
     },
     "metadata": {
      "needs_background": "light"
     },
     "output_type": "display_data"
    }
   ],
   "source": [
    "plt.plot(X,y,'.',\n",
    "        X,xgb.predict(X),'-')"
   ]
  },
  {
   "cell_type": "code",
   "execution_count": 34,
   "metadata": {},
   "outputs": [
    {
     "data": {
      "text/plain": [
       "0.23113531301639634"
      ]
     },
     "execution_count": 34,
     "metadata": {},
     "output_type": "execute_result"
    }
   ],
   "source": [
    "from sklearn.linear_model import LinearRegression\n",
    "reg = LinearRegression(normalize=True).fit(X, y)\n",
    "reg.score(X, y)"
   ]
  },
  {
   "cell_type": "code",
   "execution_count": 35,
   "metadata": {},
   "outputs": [
    {
     "data": {
      "text/plain": [
       "[<matplotlib.lines.Line2D at 0xc3430b8>,\n",
       " <matplotlib.lines.Line2D at 0xc3431d0>]"
      ]
     },
     "execution_count": 35,
     "metadata": {},
     "output_type": "execute_result"
    },
    {
     "data": {
      "image/png": "[encoded data removed]",
      "text/plain": [
       "<Figure size 432x288 with 1 Axes>"
      ]
     },
     "metadata": {
      "needs_background": "light"
     },
     "output_type": "display_data"
    }
   ],
   "source": [
    "plt.plot(X,y,'.',\n",
    "        X,reg.predict(X),'-')"
   ]
  },
  {
   "cell_type": "code",
   "execution_count": 36,
   "metadata": {},
   "outputs": [
    {
     "data": {
      "text/plain": [
       "array([[-1838.56264859]])"
      ]
     },
     "execution_count": 36,
     "metadata": {},
     "output_type": "execute_result"
    }
   ],
   "source": [
    "reg.coef_"
   ]
  },
  {
   "cell_type": "code",
   "execution_count": 37,
   "metadata": {},
   "outputs": [
    {
     "data": {
      "text/plain": [
       "array([199098.8526698])"
      ]
     },
     "execution_count": 37,
     "metadata": {},
     "output_type": "execute_result"
    }
   ],
   "source": [
    "reg.intercept_"
   ]
  },
  {
   "cell_type": "code",
   "execution_count": 255,
   "metadata": {},
   "outputs": [],
   "source": [
    "#Housing Data - Price prediction, Linear Regression ONE FEATURE"
   ]
  },
  {
   "cell_type": "code",
   "execution_count": 42,
   "metadata": {},
   "outputs": [],
   "source": [
    "house_df = pd.read_csv('kc_house_data.csv')"
   ]
  },
  {
   "cell_type": "code",
   "execution_count": 43,
   "metadata": {},
   "outputs": [
    {
     "data": {
      "text/html": [
       "<div>\n",
       "<style scoped>\n",
       "    .dataframe tbody tr th:only-of-type {\n",
       "        vertical-align: middle;\n",
       "    }\n",
       "\n",
       "    .dataframe tbody tr th {\n",
       "        vertical-align: top;\n",
       "    }\n",
       "\n",
       "    .dataframe thead th {\n",
       "        text-align: right;\n",
       "    }\n",
       "</style>\n",
       "<table border=\"1\" class=\"dataframe\">\n",
       "  <thead>\n",
       "    <tr style=\"text-align: right;\">\n",
       "      <th></th>\n",
       "      <th>id</th>\n",
       "      <th>date</th>\n",
       "      <th>price</th>\n",
       "      <th>bedrooms</th>\n",
       "      <th>bathrooms</th>\n",
       "      <th>sqft_living</th>\n",
       "      <th>sqft_lot</th>\n",
       "      <th>floors</th>\n",
       "      <th>waterfront</th>\n",
       "      <th>view</th>\n",
       "      <th>...</th>\n",
       "      <th>grade</th>\n",
       "      <th>sqft_above</th>\n",
       "      <th>sqft_basement</th>\n",
       "      <th>yr_built</th>\n",
       "      <th>yr_renovated</th>\n",
       "      <th>zipcode</th>\n",
       "      <th>lat</th>\n",
       "      <th>long</th>\n",
       "      <th>sqft_living15</th>\n",
       "      <th>sqft_lot15</th>\n",
       "    </tr>\n",
       "  </thead>\n",
       "  <tbody>\n",
       "    <tr>\n",
       "      <th>0</th>\n",
       "      <td>7129300520</td>\n",
       "      <td>20141013T000000</td>\n",
       "      <td>221900.0</td>\n",
       "      <td>3</td>\n",
       "      <td>1.00</td>\n",
       "      <td>1180</td>\n",
       "      <td>5650</td>\n",
       "      <td>1.0</td>\n",
       "      <td>0</td>\n",
       "      <td>0</td>\n",
       "      <td>...</td>\n",
       "      <td>7</td>\n",
       "      <td>1180</td>\n",
       "      <td>0</td>\n",
       "      <td>1955</td>\n",
       "      <td>0</td>\n",
       "      <td>98178</td>\n",
       "      <td>47.5112</td>\n",
       "      <td>-122.257</td>\n",
       "      <td>1340</td>\n",
       "      <td>5650</td>\n",
       "    </tr>\n",
       "    <tr>\n",
       "      <th>1</th>\n",
       "      <td>6414100192</td>\n",
       "      <td>20141209T000000</td>\n",
       "      <td>538000.0</td>\n",
       "      <td>3</td>\n",
       "      <td>2.25</td>\n",
       "      <td>2570</td>\n",
       "      <td>7242</td>\n",
       "      <td>2.0</td>\n",
       "      <td>0</td>\n",
       "      <td>0</td>\n",
       "      <td>...</td>\n",
       "      <td>7</td>\n",
       "      <td>2170</td>\n",
       "      <td>400</td>\n",
       "      <td>1951</td>\n",
       "      <td>1991</td>\n",
       "      <td>98125</td>\n",
       "      <td>47.7210</td>\n",
       "      <td>-122.319</td>\n",
       "      <td>1690</td>\n",
       "      <td>7639</td>\n",
       "    </tr>\n",
       "    <tr>\n",
       "      <th>2</th>\n",
       "      <td>5631500400</td>\n",
       "      <td>20150225T000000</td>\n",
       "      <td>180000.0</td>\n",
       "      <td>2</td>\n",
       "      <td>1.00</td>\n",
       "      <td>770</td>\n",
       "      <td>10000</td>\n",
       "      <td>1.0</td>\n",
       "      <td>0</td>\n",
       "      <td>0</td>\n",
       "      <td>...</td>\n",
       "      <td>6</td>\n",
       "      <td>770</td>\n",
       "      <td>0</td>\n",
       "      <td>1933</td>\n",
       "      <td>0</td>\n",
       "      <td>98028</td>\n",
       "      <td>47.7379</td>\n",
       "      <td>-122.233</td>\n",
       "      <td>2720</td>\n",
       "      <td>8062</td>\n",
       "    </tr>\n",
       "    <tr>\n",
       "      <th>3</th>\n",
       "      <td>2487200875</td>\n",
       "      <td>20141209T000000</td>\n",
       "      <td>604000.0</td>\n",
       "      <td>4</td>\n",
       "      <td>3.00</td>\n",
       "      <td>1960</td>\n",
       "      <td>5000</td>\n",
       "      <td>1.0</td>\n",
       "      <td>0</td>\n",
       "      <td>0</td>\n",
       "      <td>...</td>\n",
       "      <td>7</td>\n",
       "      <td>1050</td>\n",
       "      <td>910</td>\n",
       "      <td>1965</td>\n",
       "      <td>0</td>\n",
       "      <td>98136</td>\n",
       "      <td>47.5208</td>\n",
       "      <td>-122.393</td>\n",
       "      <td>1360</td>\n",
       "      <td>5000</td>\n",
       "    </tr>\n",
       "    <tr>\n",
       "      <th>4</th>\n",
       "      <td>1954400510</td>\n",
       "      <td>20150218T000000</td>\n",
       "      <td>510000.0</td>\n",
       "      <td>3</td>\n",
       "      <td>2.00</td>\n",
       "      <td>1680</td>\n",
       "      <td>8080</td>\n",
       "      <td>1.0</td>\n",
       "      <td>0</td>\n",
       "      <td>0</td>\n",
       "      <td>...</td>\n",
       "      <td>8</td>\n",
       "      <td>1680</td>\n",
       "      <td>0</td>\n",
       "      <td>1987</td>\n",
       "      <td>0</td>\n",
       "      <td>98074</td>\n",
       "      <td>47.6168</td>\n",
       "      <td>-122.045</td>\n",
       "      <td>1800</td>\n",
       "      <td>7503</td>\n",
       "    </tr>\n",
       "  </tbody>\n",
       "</table>\n",
       "<p>5 rows × 21 columns</p>\n",
       "</div>"
      ],
      "text/plain": [
       "           id             date     price  bedrooms  bathrooms  sqft_living  \\\n",
       "0  7129300520  20141013T000000  221900.0         3       1.00         1180   \n",
       "1  6414100192  20141209T000000  538000.0         3       2.25         2570   \n",
       "2  5631500400  20150225T000000  180000.0         2       1.00          770   \n",
       "3  2487200875  20141209T000000  604000.0         4       3.00         1960   \n",
       "4  1954400510  20150218T000000  510000.0         3       2.00         1680   \n",
       "\n",
       "   sqft_lot  floors  waterfront  view     ...      grade  sqft_above  \\\n",
       "0      5650     1.0           0     0     ...          7        1180   \n",
       "1      7242     2.0           0     0     ...          7        2170   \n",
       "2     10000     1.0           0     0     ...          6         770   \n",
       "3      5000     1.0           0     0     ...          7        1050   \n",
       "4      8080     1.0           0     0     ...          8        1680   \n",
       "\n",
       "   sqft_basement  yr_built  yr_renovated  zipcode      lat     long  \\\n",
       "0              0      1955             0    98178  47.5112 -122.257   \n",
       "1            400      1951          1991    98125  47.7210 -122.319   \n",
       "2              0      1933             0    98028  47.7379 -122.233   \n",
       "3            910      1965             0    98136  47.5208 -122.393   \n",
       "4              0      1987             0    98074  47.6168 -122.045   \n",
       "\n",
       "   sqft_living15  sqft_lot15  \n",
       "0           1340        5650  \n",
       "1           1690        7639  \n",
       "2           2720        8062  \n",
       "3           1360        5000  \n",
       "4           1800        7503  \n",
       "\n",
       "[5 rows x 21 columns]"
      ]
     },
     "execution_count": 43,
     "metadata": {},
     "output_type": "execute_result"
    }
   ],
   "source": [
    "house_df.head()"
   ]
  },
  {
   "cell_type": "code",
   "execution_count": 44,
   "metadata": {},
   "outputs": [
    {
     "data": {
      "text/html": [
       "<div>\n",
       "<style scoped>\n",
       "    .dataframe tbody tr th:only-of-type {\n",
       "        vertical-align: middle;\n",
       "    }\n",
       "\n",
       "    .dataframe tbody tr th {\n",
       "        vertical-align: top;\n",
       "    }\n",
       "\n",
       "    .dataframe thead th {\n",
       "        text-align: right;\n",
       "    }\n",
       "</style>\n",
       "<table border=\"1\" class=\"dataframe\">\n",
       "  <thead>\n",
       "    <tr style=\"text-align: right;\">\n",
       "      <th></th>\n",
       "      <th>price</th>\n",
       "      <th>sqft_lot</th>\n",
       "    </tr>\n",
       "  </thead>\n",
       "  <tbody>\n",
       "    <tr>\n",
       "      <th>0</th>\n",
       "      <td>221900.0</td>\n",
       "      <td>5650</td>\n",
       "    </tr>\n",
       "    <tr>\n",
       "      <th>1</th>\n",
       "      <td>538000.0</td>\n",
       "      <td>7242</td>\n",
       "    </tr>\n",
       "    <tr>\n",
       "      <th>2</th>\n",
       "      <td>180000.0</td>\n",
       "      <td>10000</td>\n",
       "    </tr>\n",
       "    <tr>\n",
       "      <th>3</th>\n",
       "      <td>604000.0</td>\n",
       "      <td>5000</td>\n",
       "    </tr>\n",
       "    <tr>\n",
       "      <th>4</th>\n",
       "      <td>510000.0</td>\n",
       "      <td>8080</td>\n",
       "    </tr>\n",
       "  </tbody>\n",
       "</table>\n",
       "</div>"
      ],
      "text/plain": [
       "      price  sqft_lot\n",
       "0  221900.0      5650\n",
       "1  538000.0      7242\n",
       "2  180000.0     10000\n",
       "3  604000.0      5000\n",
       "4  510000.0      8080"
      ]
     },
     "execution_count": 44,
     "metadata": {},
     "output_type": "execute_result"
    }
   ],
   "source": [
    "col = ['price', 'sqft_lot']\n",
    "house_df[col].head()"
   ]
  },
  {
   "cell_type": "code",
   "execution_count": 45,
   "metadata": {},
   "outputs": [],
   "source": [
    "def simple_linear_regression(input_feature, output):\n",
    "    print(\"Inside Linear regression function\")\n",
    "    X = np.array(input_feature).reshape(-1, 1)\n",
    "    y = np.array(output).reshape(-1, 1)\n",
    "    #X_train, X_test, y_train, y_test = train_test_split(X,y, test_size = .2, random_state=0)    \n",
    "    reg = LinearRegression(normalize=True).fit(X, y)\n",
    "    score = reg.score(X, y)\n",
    "    print(\"Training score : %2f \"% (score))    \n",
    "    #print(\"Test score : \"% (reg.score(X_test, y_test)))\n",
    "    slope= reg.coef_\n",
    "    intercept=reg.intercept_  \n",
    "    y_pred = reg.predict(X)\n",
    "    rss = my_rss(y, y_pred)\n",
    "    print(\"Exit Linear regression function\")\n",
    "    return(slope, intercept, reg, y_pred, rss)\n",
    "\n",
    "def my_rss(y, y_pred):\n",
    "    rss = np.sum(np.power(y - y_pred, 2))\n",
    "    return rss"
   ]
  },
  {
   "cell_type": "code",
   "execution_count": 46,
   "metadata": {},
   "outputs": [
    {
     "name": "stdout",
     "output_type": "stream",
     "text": [
      "Inside Linear regression function\n",
      "Training score : 0.492853 \n",
      "Exit Linear regression function\n"
     ]
    }
   ],
   "source": [
    "input_feature = house_df['sqft_living']\n",
    "output = house_df['price']\n",
    "a, b, clf, predictions, rss = simple_linear_regression(input_feature, output)"
   ]
  },
  {
   "cell_type": "code",
   "execution_count": 47,
   "metadata": {},
   "outputs": [
    {
     "data": {
      "text/plain": [
       "[<matplotlib.lines.Line2D at 0xc5d7c88>,\n",
       " <matplotlib.lines.Line2D at 0xc34e080>]"
      ]
     },
     "execution_count": 47,
     "metadata": {},
     "output_type": "execute_result"
    },
    {
     "data": {
      "image/png": "[encoded data removed]",
      "text/plain": [
       "<Figure size 432x288 with 1 Axes>"
      ]
     },
     "metadata": {
      "needs_background": "light"
     },
     "output_type": "display_data"
    }
   ],
   "source": [
    "plt.plot(input_feature,output,'.',\n",
    "        input_feature,predictions,'-')"
   ]
  },
  {
   "cell_type": "code",
   "execution_count": 48,
   "metadata": {},
   "outputs": [],
   "source": [
    "def inverse_regression_predictions(output, intercept, slope):\n",
    "    estimated_input = (output-intercept)/slope\n",
    "    return(estimated_input)"
   ]
  },
  {
   "cell_type": "code",
   "execution_count": 49,
   "metadata": {},
   "outputs": [
    {
     "name": "stdout",
     "output_type": "stream",
     "text": [
      "Slope 280.623568, intercept -43580.743094 from trained model \n",
      "RSS 1477276362322489.750000 \n",
      "From predict function of model: 700071.711834 \n",
      "Manual calculated value from coefficients : 700071.711834 \n",
      "input from custom function 3006.093712 \n"
     ]
    }
   ],
   "source": [
    "print(\"Slope %4f, intercept %4f from trained model \"%(a,b))\n",
    "print(\"RSS %4f \"% (rss))\n",
    "print(\"From predict function of model: %4f \"%(clf.predict(np.array([2650]).reshape(-1,1))))\n",
    "manual_pred = ((a*(2650))+b)\n",
    "inverse_input = inverse_regression_predictions(800000, -43580.743094, 280.623568)\n",
    "print(\"Manual calculated value from coefficients : %4f \"%(manual_pred))\n",
    "print(\"input from custom function %4f \"%(inverse_input))\n"
   ]
  },
  {
   "cell_type": "code",
   "execution_count": null,
   "metadata": {},
   "outputs": [],
   "source": []
  },
  {
   "cell_type": "code",
   "execution_count": 50,
   "metadata": {},
   "outputs": [
    {
     "name": "stdout",
     "output_type": "stream",
     "text": [
      "Inside Linear regression function\n",
      "Training score : 0.100115 \n",
      "Exit Linear regression function\n"
     ]
    }
   ],
   "source": [
    "input_feature2 = house_df[house_df.bedrooms < 10]['bedrooms']\n",
    "output2 = house_df[house_df.bedrooms < 10]['price']\n",
    "a2, b2, clf2, predictions2, rss2 = simple_linear_regression(input_feature2, output2)"
   ]
  },
  {
   "cell_type": "code",
   "execution_count": 51,
   "metadata": {},
   "outputs": [
    {
     "data": {
      "text/plain": [
       "[<matplotlib.lines.Line2D at 0xc6485f8>,\n",
       " <matplotlib.lines.Line2D at 0xc35e0b8>]"
      ]
     },
     "execution_count": 51,
     "metadata": {},
     "output_type": "execute_result"
    },
    {
     "data": {
      "image/png": "[encoded data removed]",
      "text/plain": [
       "<Figure size 432x288 with 1 Axes>"
      ]
     },
     "metadata": {
      "needs_background": "light"
     },
     "output_type": "display_data"
    }
   ],
   "source": [
    "plt.plot(input_feature2,output2,'.',\n",
    "        input_feature2,predictions2,'-')"
   ]
  },
  {
   "cell_type": "code",
   "execution_count": 52,
   "metadata": {},
   "outputs": [
    {
     "name": "stdout",
     "output_type": "stream",
     "text": [
      "Slope 128617.024167, intercept 106838.207569 from trained model \n",
      "RSS 2620924717002865.500000 \n",
      "From predict function of model: 340941952.249443 \n",
      "Manual calculated value from coefficients : 340941952.249443 \n",
      "input from custom function 2649.999999 \n"
     ]
    }
   ],
   "source": [
    "print(\"Slope %4f, intercept %4f from trained model \"%(a2,b2))\n",
    "print(\"RSS %4f \"% (rss2))\n",
    "print(\"From predict function of model: %4f \"%(clf2.predict(np.array([2650]).reshape(-1,1))))\n",
    "manual_pred2 = ((a2*(2650))+b2)\n",
    "inverse_input2 = inverse_regression_predictions(700071.711834, -43580.743094, 280.623568)\n",
    "print(\"Manual calculated value from coefficients : %4f \"%(manual_pred2))\n",
    "print(\"input from custom function %4f \"%(inverse_input2))\n"
   ]
  },
  {
   "cell_type": "code",
   "execution_count": null,
   "metadata": {},
   "outputs": [],
   "source": [
    "2620924717002865.500000\n",
    "1477276362322489.750000 "
   ]
  },
  {
   "cell_type": "code",
   "execution_count": 53,
   "metadata": {},
   "outputs": [
    {
     "data": {
      "text/html": [
       "<div>\n",
       "<style scoped>\n",
       "    .dataframe tbody tr th:only-of-type {\n",
       "        vertical-align: middle;\n",
       "    }\n",
       "\n",
       "    .dataframe tbody tr th {\n",
       "        vertical-align: top;\n",
       "    }\n",
       "\n",
       "    .dataframe thead th {\n",
       "        text-align: right;\n",
       "    }\n",
       "</style>\n",
       "<table border=\"1\" class=\"dataframe\">\n",
       "  <thead>\n",
       "    <tr style=\"text-align: right;\">\n",
       "      <th></th>\n",
       "      <th>id</th>\n",
       "      <th>date</th>\n",
       "      <th>price</th>\n",
       "      <th>bedrooms</th>\n",
       "      <th>bathrooms</th>\n",
       "      <th>sqft_living</th>\n",
       "      <th>sqft_lot</th>\n",
       "      <th>floors</th>\n",
       "      <th>waterfront</th>\n",
       "      <th>view</th>\n",
       "      <th>...</th>\n",
       "      <th>grade</th>\n",
       "      <th>sqft_above</th>\n",
       "      <th>sqft_basement</th>\n",
       "      <th>yr_built</th>\n",
       "      <th>yr_renovated</th>\n",
       "      <th>zipcode</th>\n",
       "      <th>lat</th>\n",
       "      <th>long</th>\n",
       "      <th>sqft_living15</th>\n",
       "      <th>sqft_lot15</th>\n",
       "    </tr>\n",
       "  </thead>\n",
       "  <tbody>\n",
       "    <tr>\n",
       "      <th>0</th>\n",
       "      <td>114101516</td>\n",
       "      <td>20140528T000000</td>\n",
       "      <td>310000.0</td>\n",
       "      <td>3</td>\n",
       "      <td>1.0</td>\n",
       "      <td>1430</td>\n",
       "      <td>19901</td>\n",
       "      <td>1.5</td>\n",
       "      <td>0</td>\n",
       "      <td>0</td>\n",
       "      <td>...</td>\n",
       "      <td>7</td>\n",
       "      <td>1430</td>\n",
       "      <td>0</td>\n",
       "      <td>1927</td>\n",
       "      <td>0</td>\n",
       "      <td>98028</td>\n",
       "      <td>47.7558</td>\n",
       "      <td>-122.229</td>\n",
       "      <td>1780</td>\n",
       "      <td>12697</td>\n",
       "    </tr>\n",
       "    <tr>\n",
       "      <th>1</th>\n",
       "      <td>9297300055</td>\n",
       "      <td>20150124T000000</td>\n",
       "      <td>650000.0</td>\n",
       "      <td>4</td>\n",
       "      <td>3.0</td>\n",
       "      <td>2950</td>\n",
       "      <td>5000</td>\n",
       "      <td>2.0</td>\n",
       "      <td>0</td>\n",
       "      <td>3</td>\n",
       "      <td>...</td>\n",
       "      <td>9</td>\n",
       "      <td>1980</td>\n",
       "      <td>970</td>\n",
       "      <td>1979</td>\n",
       "      <td>0</td>\n",
       "      <td>98126</td>\n",
       "      <td>47.5714</td>\n",
       "      <td>-122.375</td>\n",
       "      <td>2140</td>\n",
       "      <td>4000</td>\n",
       "    </tr>\n",
       "    <tr>\n",
       "      <th>2</th>\n",
       "      <td>1202000200</td>\n",
       "      <td>20141103T000000</td>\n",
       "      <td>233000.0</td>\n",
       "      <td>3</td>\n",
       "      <td>2.0</td>\n",
       "      <td>1710</td>\n",
       "      <td>4697</td>\n",
       "      <td>1.5</td>\n",
       "      <td>0</td>\n",
       "      <td>0</td>\n",
       "      <td>...</td>\n",
       "      <td>6</td>\n",
       "      <td>1710</td>\n",
       "      <td>0</td>\n",
       "      <td>1941</td>\n",
       "      <td>0</td>\n",
       "      <td>98002</td>\n",
       "      <td>47.3048</td>\n",
       "      <td>-122.218</td>\n",
       "      <td>1030</td>\n",
       "      <td>4705</td>\n",
       "    </tr>\n",
       "    <tr>\n",
       "      <th>3</th>\n",
       "      <td>8562750320</td>\n",
       "      <td>20141110T000000</td>\n",
       "      <td>580500.0</td>\n",
       "      <td>3</td>\n",
       "      <td>2.5</td>\n",
       "      <td>2320</td>\n",
       "      <td>3980</td>\n",
       "      <td>2.0</td>\n",
       "      <td>0</td>\n",
       "      <td>0</td>\n",
       "      <td>...</td>\n",
       "      <td>8</td>\n",
       "      <td>2320</td>\n",
       "      <td>0</td>\n",
       "      <td>2003</td>\n",
       "      <td>0</td>\n",
       "      <td>98027</td>\n",
       "      <td>47.5391</td>\n",
       "      <td>-122.070</td>\n",
       "      <td>2580</td>\n",
       "      <td>3980</td>\n",
       "    </tr>\n",
       "    <tr>\n",
       "      <th>4</th>\n",
       "      <td>7589200193</td>\n",
       "      <td>20141110T000000</td>\n",
       "      <td>535000.0</td>\n",
       "      <td>3</td>\n",
       "      <td>1.0</td>\n",
       "      <td>1090</td>\n",
       "      <td>3000</td>\n",
       "      <td>1.5</td>\n",
       "      <td>0</td>\n",
       "      <td>0</td>\n",
       "      <td>...</td>\n",
       "      <td>8</td>\n",
       "      <td>1090</td>\n",
       "      <td>0</td>\n",
       "      <td>1929</td>\n",
       "      <td>0</td>\n",
       "      <td>98117</td>\n",
       "      <td>47.6889</td>\n",
       "      <td>-122.375</td>\n",
       "      <td>1570</td>\n",
       "      <td>5080</td>\n",
       "    </tr>\n",
       "  </tbody>\n",
       "</table>\n",
       "<p>5 rows × 21 columns</p>\n",
       "</div>"
      ],
      "text/plain": [
       "           id             date     price  bedrooms  bathrooms  sqft_living  \\\n",
       "0   114101516  20140528T000000  310000.0         3        1.0         1430   \n",
       "1  9297300055  20150124T000000  650000.0         4        3.0         2950   \n",
       "2  1202000200  20141103T000000  233000.0         3        2.0         1710   \n",
       "3  8562750320  20141110T000000  580500.0         3        2.5         2320   \n",
       "4  7589200193  20141110T000000  535000.0         3        1.0         1090   \n",
       "\n",
       "   sqft_lot  floors  waterfront  view     ...      grade  sqft_above  \\\n",
       "0     19901     1.5           0     0     ...          7        1430   \n",
       "1      5000     2.0           0     3     ...          9        1980   \n",
       "2      4697     1.5           0     0     ...          6        1710   \n",
       "3      3980     2.0           0     0     ...          8        2320   \n",
       "4      3000     1.5           0     0     ...          8        1090   \n",
       "\n",
       "   sqft_basement  yr_built  yr_renovated  zipcode      lat     long  \\\n",
       "0              0      1927             0    98028  47.7558 -122.229   \n",
       "1            970      1979             0    98126  47.5714 -122.375   \n",
       "2              0      1941             0    98002  47.3048 -122.218   \n",
       "3              0      2003             0    98027  47.5391 -122.070   \n",
       "4              0      1929             0    98117  47.6889 -122.375   \n",
       "\n",
       "   sqft_living15  sqft_lot15  \n",
       "0           1780       12697  \n",
       "1           2140        4000  \n",
       "2           1030        4705  \n",
       "3           2580        3980  \n",
       "4           1570        5080  \n",
       "\n",
       "[5 rows x 21 columns]"
      ]
     },
     "execution_count": 53,
     "metadata": {},
     "output_type": "execute_result"
    }
   ],
   "source": [
    "#Read same data and try for multiple features\n",
    "house_df = pd.read_csv('kc_house_test_data.csv')\n",
    "#house_df = pd.read_csv('kc_house_train_data.csv')\n",
    "house_df.head()"
   ]
  },
  {
   "cell_type": "code",
   "execution_count": 54,
   "metadata": {},
   "outputs": [],
   "source": [
    "def applyLogTransform(x):\n",
    "    return np.log1p(x)\n"
   ]
  },
  {
   "cell_type": "code",
   "execution_count": 55,
   "metadata": {},
   "outputs": [],
   "source": [
    "house_df['bedrooms_squared'] = house_df['bedrooms']*house_df['bedrooms']\n",
    "house_df['bed_bath_rooms'] = house_df['bedrooms']*house_df['bathrooms']\n",
    "house_df['log_sqft_living'] = house_df.sqft_living.apply(lambda x : applyLogTransform(x))\n",
    "house_df['lat_plus_long'] = house_df['lat'] + house_df['long']"
   ]
  },
  {
   "cell_type": "code",
   "execution_count": 56,
   "metadata": {},
   "outputs": [
    {
     "name": "stdout",
     "output_type": "stream",
     "text": [
      "<class 'pandas.core.frame.DataFrame'>\n",
      "RangeIndex: 4229 entries, 0 to 4228\n",
      "Data columns (total 25 columns):\n",
      "id                  4229 non-null int64\n",
      "date                4229 non-null object\n",
      "price               4229 non-null float64\n",
      "bedrooms            4229 non-null int64\n",
      "bathrooms           4229 non-null float64\n",
      "sqft_living         4229 non-null int64\n",
      "sqft_lot            4229 non-null int64\n",
      "floors              4229 non-null float64\n",
      "waterfront          4229 non-null int64\n",
      "view                4229 non-null int64\n",
      "condition           4229 non-null int64\n",
      "grade               4229 non-null int64\n",
      "sqft_above          4229 non-null int64\n",
      "sqft_basement       4229 non-null int64\n",
      "yr_built            4229 non-null int64\n",
      "yr_renovated        4229 non-null int64\n",
      "zipcode             4229 non-null int64\n",
      "lat                 4229 non-null float64\n",
      "long                4229 non-null float64\n",
      "sqft_living15       4229 non-null int64\n",
      "sqft_lot15          4229 non-null int64\n",
      "bedrooms_squared    4229 non-null int64\n",
      "bed_bath_rooms      4229 non-null float64\n",
      "log_sqft_living     4229 non-null float64\n",
      "lat_plus_long       4229 non-null float64\n",
      "dtypes: float64(8), int64(16), object(1)\n",
      "memory usage: 826.1+ KB\n"
     ]
    }
   ],
   "source": [
    "house_df.info()"
   ]
  },
  {
   "cell_type": "code",
   "execution_count": 57,
   "metadata": {},
   "outputs": [
    {
     "data": {
      "text/html": [
       "<div>\n",
       "<style scoped>\n",
       "    .dataframe tbody tr th:only-of-type {\n",
       "        vertical-align: middle;\n",
       "    }\n",
       "\n",
       "    .dataframe tbody tr th {\n",
       "        vertical-align: top;\n",
       "    }\n",
       "\n",
       "    .dataframe thead th {\n",
       "        text-align: right;\n",
       "    }\n",
       "</style>\n",
       "<table border=\"1\" class=\"dataframe\">\n",
       "  <thead>\n",
       "    <tr style=\"text-align: right;\">\n",
       "      <th></th>\n",
       "      <th>bedrooms_squared</th>\n",
       "      <th>bed_bath_rooms</th>\n",
       "      <th>log_sqft_living</th>\n",
       "      <th>lat_plus_long</th>\n",
       "    </tr>\n",
       "  </thead>\n",
       "  <tbody>\n",
       "    <tr>\n",
       "      <th>count</th>\n",
       "      <td>4229.000000</td>\n",
       "      <td>4229.000000</td>\n",
       "      <td>4229.000000</td>\n",
       "      <td>4229.000000</td>\n",
       "    </tr>\n",
       "    <tr>\n",
       "      <th>mean</th>\n",
       "      <td>12.446678</td>\n",
       "      <td>7.503902</td>\n",
       "      <td>7.550851</td>\n",
       "      <td>-74.653334</td>\n",
       "    </tr>\n",
       "    <tr>\n",
       "      <th>std</th>\n",
       "      <td>17.868973</td>\n",
       "      <td>4.227032</td>\n",
       "      <td>0.426304</td>\n",
       "      <td>0.182162</td>\n",
       "    </tr>\n",
       "    <tr>\n",
       "      <th>min</th>\n",
       "      <td>0.000000</td>\n",
       "      <td>0.000000</td>\n",
       "      <td>5.916202</td>\n",
       "      <td>-75.177200</td>\n",
       "    </tr>\n",
       "    <tr>\n",
       "      <th>25%</th>\n",
       "      <td>9.000000</td>\n",
       "      <td>4.500000</td>\n",
       "      <td>7.266129</td>\n",
       "      <td>-74.767200</td>\n",
       "    </tr>\n",
       "    <tr>\n",
       "      <th>50%</th>\n",
       "      <td>9.000000</td>\n",
       "      <td>7.000000</td>\n",
       "      <td>7.560601</td>\n",
       "      <td>-74.667100</td>\n",
       "    </tr>\n",
       "    <tr>\n",
       "      <th>75%</th>\n",
       "      <td>16.000000</td>\n",
       "      <td>10.000000</td>\n",
       "      <td>7.844241</td>\n",
       "      <td>-74.528100</td>\n",
       "    </tr>\n",
       "    <tr>\n",
       "      <th>max</th>\n",
       "      <td>1089.000000</td>\n",
       "      <td>57.750000</td>\n",
       "      <td>9.199381</td>\n",
       "      <td>-73.602000</td>\n",
       "    </tr>\n",
       "  </tbody>\n",
       "</table>\n",
       "</div>"
      ],
      "text/plain": [
       "       bedrooms_squared  bed_bath_rooms  log_sqft_living  lat_plus_long\n",
       "count       4229.000000     4229.000000      4229.000000    4229.000000\n",
       "mean          12.446678        7.503902         7.550851     -74.653334\n",
       "std           17.868973        4.227032         0.426304       0.182162\n",
       "min            0.000000        0.000000         5.916202     -75.177200\n",
       "25%            9.000000        4.500000         7.266129     -74.767200\n",
       "50%            9.000000        7.000000         7.560601     -74.667100\n",
       "75%           16.000000       10.000000         7.844241     -74.528100\n",
       "max         1089.000000       57.750000         9.199381     -73.602000"
      ]
     },
     "execution_count": 57,
     "metadata": {},
     "output_type": "execute_result"
    }
   ],
   "source": [
    "house_df[['bedrooms_squared','bed_bath_rooms','log_sqft_living','lat_plus_long']].describe()"
   ]
  },
  {
   "cell_type": "code",
   "execution_count": 257,
   "metadata": {},
   "outputs": [],
   "source": [
    "#Mean in test data is 12.45, 7.50, 7.55, -74.65"
   ]
  },
  {
   "cell_type": "code",
   "execution_count": 256,
   "metadata": {},
   "outputs": [],
   "source": [
    "#Housing Data - Price prediction, Linear Regression MULTU FEATURES"
   ]
  },
  {
   "cell_type": "code",
   "execution_count": 58,
   "metadata": {},
   "outputs": [],
   "source": [
    "input_feature = house_df[['sqft_living','bedrooms','bathrooms','lat','long']]\n",
    "output = house_df['price']\n"
   ]
  },
  {
   "cell_type": "code",
   "execution_count": 59,
   "metadata": {},
   "outputs": [],
   "source": [
    "X = np.array(input_feature)\n",
    "y = np.array(output).reshape(-1, 1)"
   ]
  },
  {
   "cell_type": "code",
   "execution_count": 60,
   "metadata": {},
   "outputs": [
    {
     "data": {
      "text/plain": [
       "(4229, 5)"
      ]
     },
     "execution_count": 60,
     "metadata": {},
     "output_type": "execute_result"
    }
   ],
   "source": [
    "X.shape"
   ]
  },
  {
   "cell_type": "code",
   "execution_count": 61,
   "metadata": {},
   "outputs": [],
   "source": [
    "def simple_linear_regression(input_feature, output):\n",
    "    print(\"Inside Linear regression function\")\n",
    "    X = np.array(input_feature)\n",
    "    y = np.array(output).reshape(-1, 1)\n",
    "    #X_train, X_test, y_train, y_test = train_test_split(X,y, test_size = .2, random_state=0)    \n",
    "    reg = LinearRegression(normalize=True).fit(X, y)\n",
    "    score = reg.score(X, y)\n",
    "    print(\"Training score : %2f \"% (score))    \n",
    "    #print(\"Test score : \"% (reg.score(X_test, y_test)))\n",
    "    slope= reg.coef_\n",
    "    intercept=reg.intercept_  \n",
    "    y_pred = reg.predict(X)\n",
    "    rss = my_rss(y, y_pred)\n",
    "    print(\"Exit Linear regression function\")\n",
    "    return(slope, intercept, reg, y_pred, rss)\n",
    "\n",
    "def my_rss(y, y_pred):\n",
    "    rss = np.sum(np.power(y - y_pred, 2))\n",
    "    return rss"
   ]
  },
  {
   "cell_type": "code",
   "execution_count": 62,
   "metadata": {},
   "outputs": [
    {
     "name": "stdout",
     "output_type": "stream",
     "text": [
      "Inside Linear regression function\n",
      "Training score : 0.583718 \n",
      "Exit Linear regression function\n"
     ]
    }
   ],
   "source": [
    "a, b, clf, predictions, rss = simple_linear_regression(input_feature, output)"
   ]
  },
  {
   "cell_type": "code",
   "execution_count": null,
   "metadata": {},
   "outputs": [],
   "source": []
  },
  {
   "cell_type": "code",
   "execution_count": 63,
   "metadata": {},
   "outputs": [
    {
     "name": "stdout",
     "output_type": "stream",
     "text": [
      "Inside Linear regression function\n",
      "Training score : 0.583718 \n",
      "Exit Linear regression function\n",
      "slope of all 5 features [[ 2.91523046e+02 -3.63442805e+04  2.24784634e+04  6.49781148e+05\n",
      "  -3.22967664e+05]] \n",
      "intercept/coefficient of all 5 features [-70365461.08340059] \n",
      "Rss score with 6 features is [223588470558143.12] \n"
     ]
    }
   ],
   "source": [
    "input_feature = house_df[['sqft_living','bedrooms','bathrooms','lat','long']]\n",
    "output = house_df['price']\n",
    "\n",
    "a, b, clf, predictions, rss = simple_linear_regression(input_feature, output)\n",
    "print(\"slope of all 5 features %s \"%(a))\n",
    "print(\"intercept/coefficient of all 5 features %s \"%(b))\n",
    "print(\"Rss score with 6 features is [%s] \"%(rss))"
   ]
  },
  {
   "cell_type": "code",
   "execution_count": 64,
   "metadata": {},
   "outputs": [
    {
     "name": "stdout",
     "output_type": "stream",
     "text": [
      "Inside Linear regression function\n",
      "Training score : 0.588746 \n",
      "Exit Linear regression function\n",
      "slope of all 6 features [[ 2.84109954e+02 -9.38571172e+04 -7.73844701e+04  6.46266392e+05\n",
      "  -3.05020252e+05  2.91947505e+04]] \n",
      "intercept/coefficient of all 6 features [-67803197.05629808] \n",
      "Rss score with 6 features is [220888287427809.06] \n"
     ]
    }
   ],
   "source": [
    "input_feature = house_df[['sqft_living','bedrooms','bathrooms','lat','long','bed_bath_rooms']]\n",
    "output = house_df['price']\n",
    "a, b, clf, predictions, rss = simple_linear_regression(input_feature, output)\n",
    "print(\"slope of all 6 features %s \"%(a))\n",
    "print(\"intercept/coefficient of all 6 features %s \"%(b))\n",
    "print(\"Rss score with 6 features is [%s] \"%(rss))"
   ]
  },
  {
   "cell_type": "code",
   "execution_count": 65,
   "metadata": {},
   "outputs": [
    {
     "name": "stdout",
     "output_type": "stream",
     "text": [
      "Inside Linear regression function\n",
      "Training score : 0.606274 \n",
      "Exit Linear regression function\n",
      "slope of all 9 features [[ 4.69814012e+02 -3.28885003e+04  5.04694824e+04  6.55220785e+16\n",
      "   6.55220785e+16 -2.28450661e+03  1.08065340e+03 -4.33939878e+05\n",
      "  -6.55220785e+16]] \n",
      "intercept/coefficient of all 9 features [-63410353.95696382] \n",
      "Rss score with 9 features is [211473743998640.94] \n"
     ]
    }
   ],
   "source": [
    "input_feature = house_df[['sqft_living','bedrooms','bathrooms','lat','long','bed_bath_rooms','bedrooms_squared',\n",
    "                         'log_sqft_living','lat_plus_long']]\n",
    "output = house_df['price']\n",
    "a, b, clf, predictions, rss = simple_linear_regression(input_feature, output)\n",
    "print(\"slope of all 9 features %s \"%(a))\n",
    "print(\"intercept/coefficient of all 9 features %s \"%(b))\n",
    "print(\"Rss score with 9 features is [%s] \"%(rss))"
   ]
  },
  {
   "cell_type": "code",
   "execution_count": null,
   "metadata": {},
   "outputs": [],
   "source": [
    "#967879963049545.8\n",
    "#958419635074070.2\n",
    "#903362906629217.8\n",
    "#RSS is lower in model3 with 9 features"
   ]
  },
  {
   "cell_type": "code",
   "execution_count": null,
   "metadata": {},
   "outputs": [],
   "source": [
    "#223588470558143.12\n",
    "#220888287427809.06\n",
    "#211473743998640.94"
   ]
  },
  {
   "cell_type": "code",
   "execution_count": 258,
   "metadata": {},
   "outputs": [],
   "source": [
    "#Read same data & Try Gradient descent with SINGLE and MULTI FEATURES\n",
    "from sklearn.linear_model.stochastic_gradient import SGDRegressor\n",
    "from sklearn.ensemble import GradientBoostingRegressor"
   ]
  },
  {
   "cell_type": "code",
   "execution_count": 251,
   "metadata": {},
   "outputs": [],
   "source": [
    "def gradient_descent_regression(input_feature, output, weights_init, intercept_init=None, \n",
    "                               tolerance=1e-3, learning_steps=0.1):\n",
    "    print(\"Inside Gradient Descent function\")\n",
    "    X = np.array(input_feature)\n",
    "    y = np.array(output).reshape(-1, 1)\n",
    "    \n",
    "    #weights = weights_init.reshape(weights_init.shape[0], weights_init.shape[1]) \n",
    "    print(\"Input weights shape0 %s\" %(weights_init.shape[0]))\n",
    "    print(\"Input shape0 is %s\"%(X.shape[0]))\n",
    "    print(\"Input Y shape is %s\"%(y.shape[0]))\n",
    "    \n",
    "    intercept_init = np.array(intercept_init)\n",
    "    print(\"Intercept is %s\"%(intercept_init))\n",
    "    #print(intercept_init.shape)\n",
    "    #X_train, X_test, y_train, y_test = train_test_split(X,y, test_size = .2, random_state=0)    \n",
    "    clf = SGDRegressor(random_state=0, eta0=learning_steps, \n",
    "                       tol=tolerance,\n",
    "                       learning_rate='constant')\n",
    "    #clf = GradientBoostingRegressor(random_state=42, ,learning_rate=learning_steps,\n",
    "    #                               tol=tolerance)\n",
    "    reg = clf.fit(X, y, sample_weight=weights_init,\n",
    "                  intercept_init=intercept_init)\n",
    "    score = reg.score(X, y)\n",
    "    print(\"Training score : %2f \"% (score))    \n",
    "    #print(\"Test score : \"% (reg.score(X_test, y_test)))\n",
    "    slope= reg.coef_\n",
    "    intercept=reg.intercept_  \n",
    "    y_pred = reg.predict(X)\n",
    "    rss = my_rss(y, y_pred)\n",
    "    print(\"Actual price of first house is [%s] \"%(y[0]))\n",
    "    print(\"Predicted price of first house is [%s] \"%(clf.predict([X[0]])))\n",
    "    print(\"Exit Gradient Descent function\")\n",
    "    return(slope, intercept, reg, y_pred, rss)\n",
    "\n",
    "def my_rss(y, y_pred):\n",
    "    rss = np.sum(np.power(y - y_pred, 2))\n",
    "    return rss"
   ]
  },
  {
   "cell_type": "code",
   "execution_count": 252,
   "metadata": {},
   "outputs": [
    {
     "name": "stdout",
     "output_type": "stream",
     "text": [
      "shape of weight : 4229\n",
      "Inside Gradient Descent function\n",
      "Input weights shape0 4229\n",
      "Input shape0 is 4229\n",
      "Input Y shape is 4229\n",
      "Intercept is [-47000]\n",
      "Training score : 0.486399 \n"
     ]
    },
    {
     "name": "stderr",
     "output_type": "stream",
     "text": [
      "C:\\Users\\164118\\AppData\\Local\\Continuum\\anaconda3\\lib\\site-packages\\sklearn\\utils\\validation.py:578: DataConversionWarning: A column-vector y was passed when a 1d array was expected. Please change the shape of y to (n_samples, ), for example using ravel().\n",
      "  y = column_or_1d(y, warn=True)\n"
     ]
    },
    {
     "name": "stdout",
     "output_type": "stream",
     "text": [
      "Actual price of first house is [[310000.]] \n",
      "Predicted price of first house is [[350171.78399016]] \n",
      "Exit Gradient Descent function\n",
      "Final slope/weight of SINGLE feature [277.74242613] \n",
      "Final intercept/coefficient of SINGLE feature [-46999.88537646] \n",
      "Rss score with SINGLE feature is [3.404708053702093e+18] \n"
     ]
    }
   ],
   "source": [
    "#predicting gradient descent algorithm with ONLY one feature and with initial weights to start with\n",
    "input_feature = house_df[['sqft_living']]\n",
    "output = house_df['price']\n",
    "\n",
    "intercept_init = [-47000] \n",
    "weights = np.array([[1] * 1 for x in range(4229)]).reshape(4229,)\n",
    "step_size=7e-12\n",
    "tolerance = 2.5e7\n",
    "print(\"shape of weight : %s\"%(weights.shape[0]))\n",
    "a, b, clf, predictions, rss = gradient_descent_regression(input_feature, output, weights,\n",
    "                                                          intercept_init, tolerance, step_size)\n",
    "print(\"Final slope/weight of SINGLE feature %s \"%(a))\n",
    "print(\"Final intercept/coefficient of SINGLE feature %s \"%(b))\n",
    "print(\"Rss score with SINGLE feature is [%s] \"%(rss))"
   ]
  },
  {
   "cell_type": "code",
   "execution_count": 254,
   "metadata": {},
   "outputs": [
    {
     "name": "stdout",
     "output_type": "stream",
     "text": [
      "[1 1 1 ... 1 1 1]\n",
      "shape of weight : 4229\n",
      "Inside Gradient Descent function\n",
      "Input weights shape0 4229\n",
      "Input shape0 is 4229\n",
      "Input Y shape is 4229\n",
      "Intercept is [-100000]\n",
      "Training score : 0.455009 \n"
     ]
    },
    {
     "name": "stderr",
     "output_type": "stream",
     "text": [
      "C:\\Users\\164118\\AppData\\Local\\Continuum\\anaconda3\\lib\\site-packages\\sklearn\\utils\\validation.py:578: DataConversionWarning: A column-vector y was passed when a 1d array was expected. Please change the shape of y to (n_samples, ), for example using ravel().\n",
      "  y = column_or_1d(y, warn=True)\n"
     ]
    },
    {
     "name": "stdout",
     "output_type": "stream",
     "text": [
      "Actual price of first house is [[310000.]] \n",
      "Predicted price of first house is [[359761.35509681]] \n",
      "Exit Gradient Descent function\n",
      "Final slope/weight of MULTI feature [152.5652746 135.7263769] \n",
      "Final intercept/coefficient of MULTI feature [-99999.93846346] \n",
      "Rss score with MULTI feature is [3.166600839337532e+18] \n"
     ]
    }
   ],
   "source": [
    "#predicting gradient descent algorithm with ONLY one feature and with initial weights to start with\n",
    "input_feature = house_df[['sqft_living', 'sqft_living15']]\n",
    "output = house_df['price']\n",
    "\n",
    "intercept_init = [-100000] \n",
    "#weights = np.array([[1] * 1 for x in range(4229)]).reshape(4229,)\n",
    "weights = np.ones([house_df.shape[0], ], dtype=int)\n",
    "print(weights)\n",
    "step_size=4e-12\n",
    "tolerance = 1e9\n",
    "print(\"shape of weight : %s\"%(weights.shape[0]))\n",
    "a, b, clf, predictions, rss = gradient_descent_regression(input_feature, output, weights,\n",
    "                                                          intercept_init, tolerance, step_size)\n",
    "print(\"Final slope/weight of MULTI feature %s \"%(a))\n",
    "print(\"Final intercept/coefficient of MULTI feature %s \"%(b))\n",
    "print(\"Rss score with MULTI feature is [%s] \"%(rss))"
   ]
  },
  {
   "cell_type": "code",
   "execution_count": 259,
   "metadata": {},
   "outputs": [],
   "source": [
    "#Gradient descent Model 1 with ONE feature has closer prediction to actual house price\n",
    "#Gradient descent Model 2 with MULTI features has lower RSS"
   ]
  },
  {
   "cell_type": "code",
   "execution_count": 300,
   "metadata": {},
   "outputs": [
    {
     "data": {
      "image/png": "[encoded data removed]",
      "text/plain": [
       "<Figure size 1440x432 with 1 Axes>"
      ]
     },
     "metadata": {
      "needs_background": "light"
     },
     "output_type": "display_data"
    }
   ],
   "source": [
    "#visualization of Ridge Model\n",
    "\n",
    "\n",
    "from sklearn.datasets import make_regression\n",
    "from sklearn.linear_model import Ridge\n",
    "\n",
    "coefs = []\n",
    "l2_small_penalty = np.logspace(-6, 6, 200)\n",
    "\n",
    "model2 = Ridge()\n",
    "X, y, w = make_regression(n_samples=10, n_features=10, coef=True,\n",
    "                          random_state=1, bias=3.5)\n",
    "\n",
    "for l2 in l2_small_penalty:\n",
    "    #print(l2)\n",
    "    model2.set_params(alpha=l2)\n",
    "    model2.fit(X, y)\n",
    "    #print(\"After fitting\")\n",
    "    coefs.append(model2.coef_)\n",
    "\n",
    "plt.figure(figsize=(20, 6))\n",
    "plt.subplot(121)\n",
    "ax = plt.gca()\n",
    "ax.plot(l2_small_penalty, coefs)\n",
    "ax.set_xscale('log')\n",
    "plt.xlabel('alpha')\n",
    "plt.ylabel('weights')\n",
    "plt.title('Ridge coefficients as a function of the regularization')\n",
    "plt.axis('tight')\n",
    "plt.show()"
   ]
  },
  {
   "cell_type": "code",
   "execution_count": 430,
   "metadata": {},
   "outputs": [],
   "source": [
    "#house_df[house_df.price < 2000000].count()\n",
    "#house_df[house_df.price < 2000000][['sqft_living']].count()"
   ]
  },
  {
   "cell_type": "code",
   "execution_count": 445,
   "metadata": {},
   "outputs": [],
   "source": [
    "from sklearn import linear_model\n",
    "from sklearn.preprocessing import PolynomialFeatures\n",
    "\n",
    "dtype_dict = {\n",
    "            'bathrooms':float, \n",
    "              'waterfront':int, \n",
    "              'sqft_above':int, \n",
    "              'sqft_living15':float, \n",
    "              'grade':int, \n",
    "              'yr_renovated':int, \n",
    "              'price':float,\n",
    "              'bedrooms':float,\n",
    "              'zipcode':str, \n",
    "              'long':float, \n",
    "              'sqft_lot15':float, \n",
    "              'sqft_living':float,\n",
    "              'floors':float,\n",
    "              'condition':int,\n",
    "              'lat':float,\n",
    "              'date':str, \n",
    "              'sqft_basement':int,\n",
    "              'yr_built':int,\n",
    "              'id':str,\n",
    "              'sqft_lot':int, \n",
    "              'view':int\n",
    "             }\n",
    "\n",
    "sales = pd.read_csv('kc_house_data.csv', dtype=dtype_dict)\n",
    "\n",
    "input_feature = house_df[house_df.price < 2000000][['sqft_living']]\n",
    "output = house_df[house_df.price < 2000000]['price']\n",
    "\n",
    "X = np.array(input_feature)\n",
    "y = np.array(output).reshape(-1, 1)\n",
    "    \n",
    "\n",
    "#experiemening l2 penalty for ridge regression\n",
    "l2_small_penalty = 1.5e-5 \n",
    "\n",
    "def poly_regression(X, y, l2_small_penalty=1.0, degree=3):\n",
    "    poly = PolynomialFeatures(degree=15)\n",
    "    poly15_data = poly.fit_transform(X)\n",
    "    model = linear_model.Ridge(alpha=l2_small_penalty, normalize=True)\n",
    "    model = model.fit(poly15_data, y)\n",
    "    print(\"Score using scikit learn poly regression [%3f]\"%(model.score(poly15_data,y)))\n",
    "    return model,poly.get_feature_names(),poly15_data\n",
    "\n",
    "def plot_model_poly(model, features, poly_clf, input, output):\n",
    "    poly_df = pd.DataFrame(data=poly_clf, columns=featues)\n",
    "    plt.plot(poly_df[input],output,'.',\n",
    "        poly_df[input],model.predict(poly_clf),'-')\n",
    "    \n",
    "    \n"
   ]
  },
  {
   "cell_type": "code",
   "execution_count": 446,
   "metadata": {},
   "outputs": [
    {
     "name": "stdout",
     "output_type": "stream",
     "text": [
      "Score using scikit learn poly regression [0.487175]\n",
      "Coefficient using Ridge regression [ [[ 0.00000000e+00  1.27007761e+02 -2.04101388e-02  1.48819924e-05\n",
      "   4.60013116e-10 -2.85308978e-13 -3.48012441e-17 -4.62774388e-22\n",
      "   3.19001723e-25  4.92682127e-29  4.59987877e-33  3.67411337e-37\n",
      "   3.34266574e-41  2.44002605e-45 -4.76557165e-49 -3.11998584e-52]] ]\n",
      "Intercept using Ridge regression [ [198201.17642029] ]\n"
     ]
    },
    {
     "data": {
      "image/png": "[encoded data removed]",
      "text/plain": [
       "<Figure size 432x288 with 1 Axes>"
      ]
     },
     "metadata": {
      "needs_background": "light"
     },
     "output_type": "display_data"
    }
   ],
   "source": [
    "model,features,poly_clf = poly_regression(X,y,1.5e-5, 15)\n",
    "ridge_coeff = model.coef_\n",
    "ridge_intercept = model.intercept_\n",
    "print(\"Coefficient using Ridge regression [ %s ]\" % (ridge_coeff))\n",
    "print(\"Intercept using Ridge regression [ %s ]\" % (ridge_intercept))\n",
    "plot_model_poly(model, features, poly_clf,'x0',y)"
   ]
  },
  {
   "cell_type": "code",
   "execution_count": 447,
   "metadata": {},
   "outputs": [
    {
     "name": "stdout",
     "output_type": "stream",
     "text": [
      "Score using scikit learn poly regression [0.487666]\n",
      "Coefficient using Ridge regression [ [[ 0.00000000e+00 -1.88910139e+02  6.72014105e-01 -5.90796343e-04\n",
      "   2.42548349e-07 -3.79221423e-11 -1.43984918e-15  7.28950488e-19\n",
      "   3.92526344e-23 -9.26473796e-27 -1.25208636e-30  3.19107714e-35\n",
      "   2.08507912e-38  1.10889770e-42 -2.60954478e-46  3.31647058e-51]] ]\n",
      "Intercept using Ridge regression [ [224773.2244877] ]\n"
     ]
    },
    {
     "data": {
      "image/png": "[encoded data removed]",
      "text/plain": [
       "<Figure size 432x288 with 1 Axes>"
      ]
     },
     "metadata": {
      "needs_background": "light"
     },
     "output_type": "display_data"
    }
   ],
   "source": [
    "#model,features,poly_clf = poly_regression(X,y,1.5e-5, 15)\n",
    "model,features,poly_clf = poly_regression(X,y,1e-9, 15)\n",
    "ridge_coeff = model.coef_\n",
    "ridge_intercept = model.intercept_\n",
    "print(\"Coefficient using Ridge regression [ %s ]\" % (ridge_coeff))\n",
    "print(\"Intercept using Ridge regression [ %s ]\" % (ridge_intercept))\n",
    "plot_model_poly(model, features, poly_clf,'x0',y)"
   ]
  },
  {
   "cell_type": "code",
   "execution_count": 448,
   "metadata": {},
   "outputs": [],
   "source": [
    "#instead of scikit polynomial features, writing custom function to generate polynomial features\n",
    "def polynomial_features(feature, degree):    \n",
    "    cols = {'power_1'}\n",
    "    poly_df = pd.DataFrame(columns=cols, data=feature)    \n",
    "    \n",
    "    if degree > 1:        \n",
    "        for power in range(2, degree+1):             \n",
    "            feature_name = 'power_' + str(power)            \n",
    "            poly_df[feature_name] = feature ** power\n",
    "    \n",
    "    return poly_df\n",
    "\n",
    "def poly_regression_custom(X, y, l2_small_penalty=1.0, degree=3):    \n",
    "    poly = polynomial_features(X,15)    \n",
    "    model = linear_model.Ridge(alpha=l2_small_penalty, normalize=True)\n",
    "    model = model.fit(poly, y)\n",
    "    print(\"Score of model is [ %3f ]\"%(model.score(poly,y)))\n",
    "    return model,poly\n"
   ]
  },
  {
   "cell_type": "code",
   "execution_count": 454,
   "metadata": {},
   "outputs": [
    {
     "name": "stdout",
     "output_type": "stream",
     "text": [
      "Score of model is [ 0.488967 ]\n",
      "Coefficient using custom Ridge regression [ [[-8.00343711e+01  1.05285261e-01 -1.04586212e-05  1.40042128e-10\n",
      "  -4.47783020e-15 -1.70975070e-15 -9.32819669e-16  1.15171129e-15\n",
      "  -1.84811147e-16 -2.54000518e-16 -3.27322952e-16  9.11378130e-16\n",
      "   1.15574689e-15  6.00907765e-16 -6.01802494e-16]] ]\n",
      "Intercept using custom Ridge regression [ [306866.98683451] ]\n"
     ]
    },
    {
     "data": {
      "text/plain": [
       "[<matplotlib.lines.Line2D at 0xf509f28>,\n",
       " <matplotlib.lines.Line2D at 0xf5093c8>]"
      ]
     },
     "execution_count": 454,
     "metadata": {},
     "output_type": "execute_result"
    },
    {
     "data": {
      "image/png": "[encoded data removed]",
      "text/plain": [
       "<Figure size 432x288 with 1 Axes>"
      ]
     },
     "metadata": {
      "needs_background": "light"
     },
     "output_type": "display_data"
    }
   ],
   "source": [
    "model,poly_df = poly_regression_custom(X,y,1.5e-5, 15)\n",
    "ridge_coeff = model.coef_\n",
    "ridge_intercept = model.intercept_\n",
    "print(\"Coefficient using custom Ridge regression [ %s ]\" % (ridge_coeff))\n",
    "print(\"Intercept using custom Ridge regression [ %s ]\" % (ridge_intercept))\n",
    "\n",
    "plt.plot(poly_df['power_1'],y,'.',\n",
    "        poly_df['power_1'],model.predict(poly_df),'-')"
   ]
  },
  {
   "cell_type": "code",
   "execution_count": 404,
   "metadata": {},
   "outputs": [
    {
     "data": {
      "text/html": [
       "<div>\n",
       "<style scoped>\n",
       "    .dataframe tbody tr th:only-of-type {\n",
       "        vertical-align: middle;\n",
       "    }\n",
       "\n",
       "    .dataframe tbody tr th {\n",
       "        vertical-align: top;\n",
       "    }\n",
       "\n",
       "    .dataframe thead th {\n",
       "        text-align: right;\n",
       "    }\n",
       "</style>\n",
       "<table border=\"1\" class=\"dataframe\">\n",
       "  <thead>\n",
       "    <tr style=\"text-align: right;\">\n",
       "      <th></th>\n",
       "      <th>power_1</th>\n",
       "      <th>power_2</th>\n",
       "      <th>power_3</th>\n",
       "      <th>power_4</th>\n",
       "      <th>power_5</th>\n",
       "      <th>power_6</th>\n",
       "      <th>power_7</th>\n",
       "      <th>power_8</th>\n",
       "      <th>power_9</th>\n",
       "      <th>power_10</th>\n",
       "      <th>power_11</th>\n",
       "      <th>power_12</th>\n",
       "      <th>power_13</th>\n",
       "      <th>power_14</th>\n",
       "      <th>power_15</th>\n",
       "    </tr>\n",
       "  </thead>\n",
       "  <tbody>\n",
       "    <tr>\n",
       "      <th>0</th>\n",
       "      <td>1430</td>\n",
       "      <td>2044900</td>\n",
       "      <td>2924207000</td>\n",
       "      <td>4181616010000</td>\n",
       "      <td>5979710894300000</td>\n",
       "      <td>8550986578849000000</td>\n",
       "      <td>-2280513115362721408</td>\n",
       "      <td>3939946077899022592</td>\n",
       "      <td>7865948914189063680</td>\n",
       "      <td>-4206937672465423360</td>\n",
       "      <td>-2282303596241577984</td>\n",
       "      <td>1379558421134118912</td>\n",
       "      <td>-1033073665131978752</td>\n",
       "      <td>-1555815241965486080</td>\n",
       "      <td>7240236908210651136</td>\n",
       "    </tr>\n",
       "    <tr>\n",
       "      <th>1</th>\n",
       "      <td>2950</td>\n",
       "      <td>8702500</td>\n",
       "      <td>25672375000</td>\n",
       "      <td>75733506250000</td>\n",
       "      <td>223413843437500000</td>\n",
       "      <td>-5011948512918858176</td>\n",
       "      <td>9040634004428776832</td>\n",
       "      <td>-4121617519119982336</td>\n",
       "      <td>-2367336829353376256</td>\n",
       "      <td>7672357343460107264</td>\n",
       "      <td>-700815234303404032</td>\n",
       "      <td>-1369604939572113408</td>\n",
       "      <td>-497619595342749696</td>\n",
       "      <td>7761719635652526080</td>\n",
       "      <td>4663529701398380544</td>\n",
       "    </tr>\n",
       "    <tr>\n",
       "      <th>2</th>\n",
       "      <td>1710</td>\n",
       "      <td>2924100</td>\n",
       "      <td>5000211000</td>\n",
       "      <td>8550360810000</td>\n",
       "      <td>14621116985100000</td>\n",
       "      <td>6555365970811448384</td>\n",
       "      <td>-5944586727830645888</td>\n",
       "      <td>-1087319976441528064</td>\n",
       "      <td>3803991729651723776</td>\n",
       "      <td>-6874800315024063488</td>\n",
       "      <td>-5332563738164185088</td>\n",
       "      <td>-5992419848238002176</td>\n",
       "      <td>-9094979578182574080</td>\n",
       "      <td>-1809824555049664512</td>\n",
       "      <td>4253015248278355968</td>\n",
       "    </tr>\n",
       "    <tr>\n",
       "      <th>3</th>\n",
       "      <td>2320</td>\n",
       "      <td>5382400</td>\n",
       "      <td>12487168000</td>\n",
       "      <td>28970229760000</td>\n",
       "      <td>67210933043200000</td>\n",
       "      <td>8355412070547587072</td>\n",
       "      <td>-2972017798336741376</td>\n",
       "      <td>4000991426132312064</td>\n",
       "      <td>3587839551059525632</td>\n",
       "      <td>4306181215091687424</td>\n",
       "      <td>-7794868937862152192</td>\n",
       "      <td>-6286743604832501760</td>\n",
       "      <td>6129399092851245056</td>\n",
       "      <td>-2233785415175766016</td>\n",
       "      <td>1152921504606846976</td>\n",
       "    </tr>\n",
       "    <tr>\n",
       "      <th>4</th>\n",
       "      <td>1090</td>\n",
       "      <td>1188100</td>\n",
       "      <td>1295029000</td>\n",
       "      <td>1411581610000</td>\n",
       "      <td>1538623954900000</td>\n",
       "      <td>1677100110841000000</td>\n",
       "      <td>1811457519444390016</td>\n",
       "      <td>687080307463094528</td>\n",
       "      <td>-7398971887318580736</td>\n",
       "      <td>-3652196966178946048</td>\n",
       "      <td>3602026786211956736</td>\n",
       "      <td>-2947290729101651968</td>\n",
       "      <td>-2813425895338663936</td>\n",
       "      <td>-4474709683358121984</td>\n",
       "      <td>-7493119401031335936</td>\n",
       "    </tr>\n",
       "  </tbody>\n",
       "</table>\n",
       "</div>"
      ],
      "text/plain": [
       "   power_1  power_2      power_3         power_4             power_5  \\\n",
       "0     1430  2044900   2924207000   4181616010000    5979710894300000   \n",
       "1     2950  8702500  25672375000  75733506250000  223413843437500000   \n",
       "2     1710  2924100   5000211000   8550360810000   14621116985100000   \n",
       "3     2320  5382400  12487168000  28970229760000   67210933043200000   \n",
       "4     1090  1188100   1295029000   1411581610000    1538623954900000   \n",
       "\n",
       "               power_6              power_7              power_8  \\\n",
       "0  8550986578849000000 -2280513115362721408  3939946077899022592   \n",
       "1 -5011948512918858176  9040634004428776832 -4121617519119982336   \n",
       "2  6555365970811448384 -5944586727830645888 -1087319976441528064   \n",
       "3  8355412070547587072 -2972017798336741376  4000991426132312064   \n",
       "4  1677100110841000000  1811457519444390016   687080307463094528   \n",
       "\n",
       "               power_9             power_10             power_11  \\\n",
       "0  7865948914189063680 -4206937672465423360 -2282303596241577984   \n",
       "1 -2367336829353376256  7672357343460107264  -700815234303404032   \n",
       "2  3803991729651723776 -6874800315024063488 -5332563738164185088   \n",
       "3  3587839551059525632  4306181215091687424 -7794868937862152192   \n",
       "4 -7398971887318580736 -3652196966178946048  3602026786211956736   \n",
       "\n",
       "              power_12             power_13             power_14  \\\n",
       "0  1379558421134118912 -1033073665131978752 -1555815241965486080   \n",
       "1 -1369604939572113408  -497619595342749696  7761719635652526080   \n",
       "2 -5992419848238002176 -9094979578182574080 -1809824555049664512   \n",
       "3 -6286743604832501760  6129399092851245056 -2233785415175766016   \n",
       "4 -2947290729101651968 -2813425895338663936 -4474709683358121984   \n",
       "\n",
       "              power_15  \n",
       "0  7240236908210651136  \n",
       "1  4663529701398380544  \n",
       "2  4253015248278355968  \n",
       "3  1152921504606846976  \n",
       "4 -7493119401031335936  "
      ]
     },
     "execution_count": 404,
     "metadata": {},
     "output_type": "execute_result"
    }
   ],
   "source": [
    "poly_df.head()"
   ]
  },
  {
   "cell_type": "code",
   "execution_count": null,
   "metadata": {},
   "outputs": [],
   "source": []
  }
 ],
 "metadata": {
  "kernelspec": {
   "display_name": "Python 3",
   "language": "python",
   "name": "python3"
  },
  "language_info": {
   "codemirror_mode": {
    "name": "ipython",
    "version": 3
   },
   "file_extension": ".py",
   "mimetype": "text/x-python",
   "name": "python",
   "nbconvert_exporter": "python",
   "pygments_lexer": "ipython3",
   "version": "3.6.8"
  }
 },
 "nbformat": 4,
 "nbformat_minor": 1
}
